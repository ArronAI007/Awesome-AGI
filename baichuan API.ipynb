{
 "cells": [
  {
   "cell_type": "code",
   "execution_count": 1,
   "metadata": {},
   "outputs": [
    {
     "name": "stdout",
     "output_type": "stream",
     "text": [
      "请求成功！\n",
      "响应header: {'Date': 'Tue, 26 Sep 2023 05:28:35 GMT', 'Content-Length': '86', 'Connection': 'keep-alive', 'Set-Cookie': 'aliyungf_tc=b83ecf8e52cee6999cb046eb491f4b13f2b4539d2daef97a0cdcff2783565086; Path=/; HttpOnly, acw_tc=0bc504a216957061156233953e25a5a4a99ce20e40bec533c67856315fe0cc;path=/;HttpOnly;Max-Age=1800', 'X-BC-Request-Id': 'your requestId', 'Strict-Transport-Security': 'max-age=31536000'}\n",
      "响应body: {\"code\":10301,\"msg\":\"Account is not verified, please complete the verification first\"}\n"
     ]
    }
   ],
   "source": [
    "import requests\n",
    "import json\n",
    "import time\n",
    "import hashlib\n",
    "\n",
    "\n",
    "def calculate_md5(input_string):\n",
    "    md5 = hashlib.md5()\n",
    "    md5.update(input_string.encode('utf-8'))\n",
    "    encrypted = md5.hexdigest()\n",
    "    return encrypted\n",
    "\n",
    "def do_request():\n",
    "    url = \"https://api.baichuan-ai.com/v1/chat\"\n",
    "    #api_key = \"your_api_key\"\n",
    "    #secret_key = \"your_secret_key\"\n",
    "\n",
    "    data = {\n",
    "        \"model\": \"Baichuan2-53B\",\n",
    "        \"messages\": [\n",
    "            {\n",
    "                \"role\": \"user\",\n",
    "                \"content\": \"世界第一高峰是\"\n",
    "            }\n",
    "        ]\n",
    "    }\n",
    "\n",
    "    json_data = json.dumps(data)\n",
    "    time_stamp = int(time.time())\n",
    "    signature = calculate_md5(secret_key + json_data + str(time_stamp))\n",
    "\n",
    "    headers = {\n",
    "        \"Content-Type\": \"application/json\",\n",
    "        \"Authorization\": \"Bearer \" + api_key,\n",
    "        \"X-BC-Request-Id\": \"your requestId\",\n",
    "        \"X-BC-Timestamp\": str(time_stamp),\n",
    "        \"X-BC-Signature\": signature,\n",
    "        \"X-BC-Sign-Algo\": \"MD5\",\n",
    "    }\n",
    "\n",
    "    response = requests.post(url, data=json_data, headers=headers)\n",
    "\n",
    "    if response.status_code == 200:\n",
    "        print(\"请求成功！\")\n",
    "        print(\"响应header:\", response.headers)\n",
    "        print(\"响应body:\", response.text)\n",
    "    else:\n",
    "        print(\"请求失败，状态码:\", response.status_code)\n",
    "\n",
    "\n",
    "if __name__ == \"__main__\":\n",
    "    do_request()\n",
    "\n",
    "\n",
    "              "
   ]
  },
  {
   "cell_type": "code",
   "execution_count": null,
   "metadata": {},
   "outputs": [],
   "source": []
  }
 ],
 "metadata": {
  "kernelspec": {
   "display_name": "Python 3",
   "language": "python",
   "name": "python3"
  },
  "language_info": {
   "codemirror_mode": {
    "name": "ipython",
    "version": 3
   },
   "file_extension": ".py",
   "mimetype": "text/x-python",
   "name": "python",
   "nbconvert_exporter": "python",
   "pygments_lexer": "ipython3",
   "version": "3.6.8"
  }
 },
 "nbformat": 4,
 "nbformat_minor": 2
}
