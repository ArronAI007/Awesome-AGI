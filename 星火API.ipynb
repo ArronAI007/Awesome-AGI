{
 "cells": [
  {
   "cell_type": "code",
   "execution_count": 1,
   "metadata": {},
   "outputs": [
    {
     "name": "stdout",
     "output_type": "stream",
     "text": [
      "Requirement already satisfied: websocket in /Users/arron/anaconda3/lib/python3.6/site-packages (0.2.1)\n",
      "Requirement already satisfied: gevent in /Users/arron/anaconda3/lib/python3.6/site-packages (from websocket) (1.3.0)\n",
      "Requirement already satisfied: greenlet in /Users/arron/anaconda3/lib/python3.6/site-packages (from websocket) (0.4.13)\n",
      "\u001b[33mWARNING: You are using pip version 19.2.1, however version 21.3.1 is available.\n",
      "You should consider upgrading via the 'pip install --upgrade pip' command.\u001b[0m\n"
     ]
    }
   ],
   "source": [
    "!pip install websocket"
   ]
  },
  {
   "cell_type": "code",
   "execution_count": 2,
   "metadata": {},
   "outputs": [],
   "source": [
    "import SparkApi\n",
    "#以下密钥信息从控制台获取\n",
    "#appid = \"XXXXXXXX\"     #填写控制台中获取的 APPID 信息\n",
    "#api_secret = \"XXXXXXXXXXXXXXXXXXXXXXXXXXXXXXXX\"   #填写控制台中获取的 APISecret 信息\n",
    "#api_key =\"XXXXXXXXXXXXXXXXXXXXXXXXXXXXXXXX\"    #填写控制台中获取的 APIKey 信息"
   ]
  },
  {
   "cell_type": "code",
   "execution_count": 3,
   "metadata": {},
   "outputs": [],
   "source": [
    "#用于配置大模型版本，默认“general/generalv2”\n",
    "domain = \"general\"   # v1.5版本\n",
    "# domain = \"generalv2\"    # v2.0版本\n",
    "#云端环境的服务地址\n",
    "Spark_url = \"ws://spark-api.xf-yun.com/v1.1/chat\"  # v1.5环境的地址\n",
    "# Spark_url = \"ws://spark-api.xf-yun.com/v2.1/chat\"  # v2.0环境的地址"
   ]
  },
  {
   "cell_type": "code",
   "execution_count": 4,
   "metadata": {},
   "outputs": [],
   "source": [
    "text =[]"
   ]
  },
  {
   "cell_type": "code",
   "execution_count": 5,
   "metadata": {},
   "outputs": [],
   "source": [
    "def getText(role,content):\n",
    "    jsoncon = {}\n",
    "    jsoncon[\"role\"] = role\n",
    "    jsoncon[\"content\"] = content\n",
    "    text.append(jsoncon)\n",
    "    return text"
   ]
  },
  {
   "cell_type": "code",
   "execution_count": 6,
   "metadata": {},
   "outputs": [],
   "source": [
    "def getlength(text):\n",
    "    length = 0\n",
    "    for content in text:\n",
    "        temp = content[\"content\"]\n",
    "        leng = len(temp)\n",
    "        length += leng\n",
    "    return length"
   ]
  },
  {
   "cell_type": "code",
   "execution_count": 7,
   "metadata": {},
   "outputs": [],
   "source": [
    "def checklen(text):\n",
    "    while (getlength(text) > 8000):\n",
    "        del text[0]\n",
    "    return text"
   ]
  },
  {
   "cell_type": "code",
   "execution_count": null,
   "metadata": {},
   "outputs": [],
   "source": [
    "if __name__ == '__main__':\n",
    "    text.clear\n",
    "    while(1):\n",
    "        Input = input(\"\\n\" +\"我:\")\n",
    "        question = checklen(getText(\"user\",Input))\n",
    "        SparkApi.answer =\"\"\n",
    "        print(\"星火:\",end = \"\")\n",
    "        SparkApi.main(appid,api_key,api_secret,Spark_url,domain,question)\n",
    "        getText(\"assistant\",SparkApi.answer)\n",
    "        # print(str(text))"
   ]
  },
  {
   "cell_type": "code",
   "execution_count": null,
   "metadata": {},
   "outputs": [],
   "source": []
  }
 ],
 "metadata": {
  "kernelspec": {
   "display_name": "Python 3",
   "language": "python",
   "name": "python3"
  },
  "language_info": {
   "codemirror_mode": {
    "name": "ipython",
    "version": 3
   },
   "file_extension": ".py",
   "mimetype": "text/x-python",
   "name": "python",
   "nbconvert_exporter": "python",
   "pygments_lexer": "ipython3",
   "version": "3.6.8"
  }
 },
 "nbformat": 4,
 "nbformat_minor": 2
}
