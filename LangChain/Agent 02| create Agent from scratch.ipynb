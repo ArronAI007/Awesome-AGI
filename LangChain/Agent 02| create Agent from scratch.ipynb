{
 "cells": [
  {
   "cell_type": "markdown",
   "id": "5d3d6baa-d37a-43f1-9a91-7100ca9c5753",
   "metadata": {},
   "source": [
    "为什么需要创建代理？因为大多数情况下，开发者需要用自己的自定义代理或工具去实现特定的业务功能。\n",
    "\n",
    "\n",
    "\n",
    "此部分，将会使用LangChain Expression Language从零开始创建代理。然后，将自定义工具，并在自定义循环中运行它（我们还将展示如何使用标准的LangChain AgentExecutor）。"
   ]
  },
  {
   "cell_type": "markdown",
   "id": "bdeadadf-ec59-4993-ac6b-8e33758dc79e",
   "metadata": {},
   "source": [
    "## 创建代理、工具"
   ]
  },
  {
   "cell_type": "markdown",
   "id": "6825a2d8-e868-4d06-99fb-e246acdeb10c",
   "metadata": {},
   "source": [
    "首先，需要创建代理，它是一种链，负责确定下一步采取什么行动。\n",
    "\n",
    "在这个示例中，使用OpenAI Function Calling来创建此代理。这通常是创建代理的最可靠方式。\n",
    "在这个案例中，我们将为Agent提供一个计算单词长度的工具。这个工具实际上很有用，因为LLM通常会由于tokenization而计算错误。我们会先创建这个工具，然后将展示如何添加内存。内存是启用对话所必需的。\n",
    "\n",
    "首先，加载用于控制代理的LLM。"
   ]
  },
  {
   "cell_type": "code",
   "execution_count": null,
   "id": "4c70abe1-54fb-4c1c-a875-90c3053c9433",
   "metadata": {},
   "outputs": [],
   "source": [
    "from langchain.chat_models import ChatOpenAI\n",
    "llm = ChatOpenAI(temperature=0)"
   ]
  },
  {
   "cell_type": "markdown",
   "id": "698667a5-eea2-479e-b890-4db66e344129",
   "metadata": {},
   "source": [
    "接下来，定义一些要使用的工具。这里编写一个非常简单的Python函数，用于计算传入单词的长度。"
   ]
  },
  {
   "cell_type": "code",
   "execution_count": null,
   "id": "af8973fb-be9d-4242-be73-67de4d627698",
   "metadata": {},
   "outputs": [],
   "source": [
    "from langchain.agents import tool\n",
    "\n",
    "@tool\n",
    "def get_word_length(word: str) -> int:\n",
    "    \"\"\"Returns the length of a word.\"\"\"\n",
    "    return len(word)\n",
    "\n",
    "tools = [get_word_length]"
   ]
  },
  {
   "cell_type": "markdown",
   "id": "603e24e8-2947-499a-b059-531ca7144172",
   "metadata": {},
   "source": [
    "然后，创建prompt。由于OpenAI Function Calling已经针对工具使用进行了微调，所以我们几乎不需要关于如何进行推理或如何输出格式的任何说明。我们只需要两个输入变量：input（用于用户问题）和agent_scratchpad（用于存储任何先前的步骤）。"
   ]
  },
  {
   "cell_type": "code",
   "execution_count": null,
   "id": "427c55d0-8776-41f2-8a1d-568c92f99d88",
   "metadata": {},
   "outputs": [],
   "source": [
    "from langchain.prompts \n",
    "import ChatPromptTemplate, MessagesPlaceholder\n",
    "\n",
    "prompt = ChatPromptTemplate.from_messages([\n",
    "    (\"system\", \"You are very powerful assistant, but bad at calculating lengths of words.\"),\n",
    "    (\"user\", \"{input}\"),\n",
    "    MessagesPlaceholder(variable_name=\"agent_scratchpad\"),\n",
    "])"
   ]
  },
  {
   "cell_type": "markdown",
   "id": "dcdd1720-57f3-478a-b477-be1f62c40ce2",
   "metadata": {},
   "source": [
    "代理如何知道可以使用哪些工具？这些工具作为单独的参数传递，因此我们可以将它们绑定为关键字参数传递给LLM。"
   ]
  },
  {
   "cell_type": "code",
   "execution_count": null,
   "id": "3b465554-5b85-4114-9f59-b3254f0b5b5e",
   "metadata": {},
   "outputs": [],
   "source": [
    "from langchain.tools.render \n",
    "import format_tool_to_openai_function\n",
    "\n",
    "llm_with_tools = llm.bind(\n",
    "    functions=[format_tool_to_openai_function(t) for t in tools]\n",
    ")"
   ]
  },
  {
   "cell_type": "markdown",
   "id": "06784899-373c-4793-bbcd-fecc26b996ae",
   "metadata": {},
   "source": [
    "将这些组件放在一起，现在就可以创建代理了。导入两个最后的实用程序函数：一个用于将中间步骤格式化为消息的组件，另一个用于将输出消息转换为代理操作/代理完成。"
   ]
  },
  {
   "cell_type": "code",
   "execution_count": null,
   "id": "5fc6e075-3fc3-4b51-8209-3107c36084e9",
   "metadata": {},
   "outputs": [],
   "source": [
    "from langchain.agents.format_scratchpad \n",
    "import format_to_openai_functions\n",
    "\n",
    "from langchain.agents.output_parsers \n",
    "import OpenAIFunctionsAgentOutputParser\n",
    "\n",
    "agent = {\n",
    "    \"input\": lambda x: x[\"input\"],\n",
    "    \"agent_scratchpad\": lambda x: format_to_openai_functions(x['intermediate_steps'])\n",
    "} | prompt | llm_with_tools | OpenAIFunctionsAgentOutputParser()"
   ]
  },
  {
   "cell_type": "markdown",
   "id": "628a7753-b745-4f64-8c5b-ff12c27918f3",
   "metadata": {},
   "source": [
    "input：用于接收用户输入。这里的 lambda 表示定义了一个简单函数（输入参数为x），可以忽略；\n",
    "\n",
    "agent_scratchpad：从输入数据中提取了一个名为 \"intermediate_steps\" 的字段，并将其传递给 format_to_openai_functions 函数，该函数的作用是将中间步骤转化为 OpenAI 函数的形式\n",
    "\n",
    "“ | ”是管道操作符：在Python中，管道操作符 | 可以用来连接多个命令,前一个命令的输出作为后一个命令的输入,实现流水线的效果。\n",
    "\n",
    "OpenAIFunctionsAgentOutputParser()：创建了一个实例，它是一个用于解析模型输出的类。这个步骤的目的是处理模型生成的输出并解析其中的信息。\n",
    "\n"
   ]
  },
  {
   "cell_type": "markdown",
   "id": "c9b2a718-01de-46cf-bcc7-b0fc07041e63",
   "metadata": {},
   "source": [
    "现在我们完成了一个自定义代理，让我们试验一下！传入一个简单的问题和空的中间步骤，看看它返回了什么："
   ]
  },
  {
   "cell_type": "code",
   "execution_count": null,
   "id": "d3651706-9169-4d0f-a4a5-d270d85714dd",
   "metadata": {},
   "outputs": [],
   "source": [
    "agent.invoke({\n",
    "    \"input\": \"how many letters in the word educa?\",\n",
    "    \"intermediate_steps\": []\n",
    "})"
   ]
  },
  {
   "cell_type": "markdown",
   "id": "859e7a9a-a227-4a33-8286-768f9503977f",
   "metadata": {},
   "source": [
    "结果输出\n",
    "\n",
    "AgentActionMessageLog(tool='get_word_length', tool_input={'word': 'educa'}, log=\"\\nInvoking: `get_word_length` with `{'word': 'educa'}`\\n\\n\\n\", message_log=[AIMessage(content='', additional_kwargs={'function_call': {'name': 'get_word_length', 'arguments': '{\\n  \"word\": \"educa\"\\n}'}})])"
   ]
  },
  {
   "cell_type": "markdown",
   "id": "d706cd53-3269-45d6-9edf-93267c956952",
   "metadata": {},
   "source": [
    "可以看到它回应了一个要执行的AgentAction（准确的说是AgentActionMessageLog——AgentAction的一个子类，它也会跟踪完整的消息记录）"
   ]
  },
  {
   "cell_type": "markdown",
   "id": "6a45d58a-0278-4f17-a476-4a29227d51fb",
   "metadata": {},
   "source": [
    "## 创建运行时环境Runtime"
   ]
  },
  {
   "cell_type": "markdown",
   "id": "66879c58-6194-434e-8712-ee7fd347e730",
   "metadata": {},
   "source": [
    "现在需要为其编写运行时环境（runtime）。最简单的一种是连续循环，调用代理，然后执行操作，并重复，直到返回AgentFinish。代码如下："
   ]
  },
  {
   "cell_type": "code",
   "execution_count": null,
   "id": "74a9a011-541b-4c07-9c41-64510f3e8e21",
   "metadata": {},
   "outputs": [],
   "source": [
    "from langchain.schema.agent import AgentFinish\n",
    "intermediate_steps = []\n",
    "while True:\n",
    "    output = agent.invoke({\n",
    "        \"input\": \"how many letters in the word educa?\",\n",
    "        \"intermediate_steps\": intermediate_steps\n",
    "    })\n",
    "    if isinstance(output, AgentFinish):\n",
    "        final_result = output.return_values[\"output\"]\n",
    "        break\n",
    "    else:\n",
    "        print(output.tool, output.tool_input)\n",
    "        tool = {\n",
    "            \"get_word_length\": get_word_length\n",
    "        }[output.tool]\n",
    "        observation = tool.run(output.tool_input)\n",
    "        intermediate_steps.append((output, observation))\n",
    "print(final_result)"
   ]
  },
  {
   "cell_type": "markdown",
   "id": "ed57a601-b982-4d6e-9de6-b7450853daf9",
   "metadata": {},
   "source": [
    "可成功输出结果："
   ]
  },
  {
   "cell_type": "markdown",
   "id": "520b6859-7526-49df-a5b9-50a85b368d9f",
   "metadata": {},
   "source": [
    "get_word_length {'word': 'educa'}\n",
    "\n",
    "There are 5 letters in the word \"educa\"."
   ]
  },
  {
   "cell_type": "markdown",
   "id": "ee57a0c7-63fd-4e65-8d6b-e11e14c77c21",
   "metadata": {},
   "source": [
    "我们可以将上述runtime过程简化一点：导入并使用AgentExecutor类。它将所有上述内容打包在一起，并添加了错误处理、提前停止、跟踪以及其他提高质量的手段："
   ]
  },
  {
   "cell_type": "code",
   "execution_count": null,
   "id": "1ba52363-9ab3-4153-9a40-30be6c208dd4",
   "metadata": {},
   "outputs": [],
   "source": [
    "from langchain.agents import AgentExecutor\n",
    "agent_executor = AgentExecutor(agent=agent, tools=tools, verbose=True)"
   ]
  },
  {
   "cell_type": "code",
   "execution_count": null,
   "id": "aaa83ef9-cd71-45bc-9ace-8b20a2f947c4",
   "metadata": {},
   "outputs": [],
   "source": [
    "# 测试一下\n",
    "agent_executor.invoke({\"input\": \"how many letters in the word educa?\"})"
   ]
  },
  {
   "cell_type": "markdown",
   "id": "26b02da7-77a7-4493-9a32-57c738d39dbe",
   "metadata": {},
   "source": [
    "输出结果如下：\n",
    " > Entering new AgentExecutor chain...\n",
    "\n",
    "    Invoking: `get_word_length` with `{'word': 'educa'}`\n",
    "\n",
    "    5\n",
    "\n",
    "    There are 5 letters in the word \"educa\".\n",
    "\n",
    "    > Finished chain.\n",
    "\n",
    "    'There are 5 letters in the word \"educa\".'"
   ]
  },
  {
   "cell_type": "markdown",
   "id": "c52b34d8-77c2-4191-9e56-2e599e0ec4a5",
   "metadata": {},
   "source": [
    "现在我们成功创建了一个代理。"
   ]
  },
  {
   "cell_type": "markdown",
   "id": "b84eeb1e-f108-408d-a24e-cd6287b17aad",
   "metadata": {},
   "source": [
    "## 增加内存，记忆之前的交互"
   ]
  },
  {
   "cell_type": "markdown",
   "id": "37828c2c-60f7-4c7e-8b0b-bf682c71a36c",
   "metadata": {},
   "source": [
    "上述代理是无状态的，因此需要通过添加内存来增加记忆：\n",
    "\n",
    "在提示中添加一个用于存储内存变量的位置。\n",
    "\n",
    "跟踪聊天历史记录。\n",
    "\n",
    "首先，在prompt中添加一个键为\"chat_history\"的占位符，用于存储之前的对话历史。注意，我们将其放在新的用户输入前面（以遵循对话流程）。"
   ]
  },
  {
   "cell_type": "code",
   "execution_count": null,
   "id": "69eeee71-a1c1-48d2-805d-b69fc76a57f6",
   "metadata": {},
   "outputs": [],
   "source": [
    "from langchain.prompts import MessagesPlaceholder\n",
    "\n",
    "MEMORY_KEY = \"chat_history\"\n",
    "prompt = ChatPromptTemplate.from_messages([\n",
    "    (\"system\", \"You are very powerful assistant, but bad at calculating lengths of words.\"),\n",
    "    MessagesPlaceholder(variable_name=MEMORY_KEY),\n",
    "    (\"user\", \"{input}\"),\n",
    "    MessagesPlaceholder(variable_name=\"agent_scratchpad\"),\n",
    "])"
   ]
  },
  {
   "cell_type": "markdown",
   "id": "1bf4f184-cce9-4d3f-90b0-1860cd6c5582",
   "metadata": {},
   "source": [
    "然后，设置一个列表来跟踪聊天历史记录："
   ]
  },
  {
   "cell_type": "code",
   "execution_count": null,
   "id": "47cb64c6-176f-4f02-8e7f-060a9ab99b6e",
   "metadata": {},
   "outputs": [],
   "source": [
    "from langchain.schema.messages import HumanMessage, AIMessage\n",
    "chat_history = []"
   ]
  },
  {
   "cell_type": "markdown",
   "id": "962dfcfc-2016-445c-a38b-ff0b62f60c46",
   "metadata": {},
   "source": [
    "然后再将上述内容放在一起："
   ]
  },
  {
   "cell_type": "code",
   "execution_count": null,
   "id": "17ee06ab-2dd6-4a47-bb4f-3d13552f5d28",
   "metadata": {},
   "outputs": [],
   "source": [
    "agent = {\n",
    "    \"input\": lambda x: x[\"input\"],\n",
    "    \"agent_scratchpad\": lambda x: format_to_openai_functions(x['intermediate_steps']),\n",
    "    \"chat_history\": lambda x: x[\"chat_history\"]\n",
    "} | prompt | llm_with_tools | OpenAIFunctionsAgentOutputParser()\n",
    "agent_executor = AgentExecutor(agent=agent, tools=tools, verbose=True)\n"
   ]
  },
  {
   "cell_type": "markdown",
   "id": "e68d244c-cf6d-4a54-88ee-e513f1b412c2",
   "metadata": {},
   "source": [
    "在运行时，需要跟踪聊天历史记录中的输入和输出："
   ]
  },
  {
   "cell_type": "code",
   "execution_count": null,
   "id": "677cc86d-ff96-428b-8df1-5a6ce0af1d2c",
   "metadata": {},
   "outputs": [],
   "source": [
    "input1 = \"how many letters in the word educa?\"\n",
    "result = agent_executor.invoke({\"input\": input1, \"chat_history\": chat_history})\n",
    "chat_history.append(HumanMessage(content=input1))\n",
    "chat_history.append(AIMessage(content=result['output']))\n",
    "agent_executor.invoke({\"input\": \"is that a real word?\", \"chat_history\": chat_history})"
   ]
  },
  {
   "attachments": {
    "7d6b8876-c9fb-4d89-a943-cd9dd741c368.png": {
     "image/png": "[encoded data removed]"
    }
   },
   "cell_type": "markdown",
   "id": "15bc1c35-be3d-461e-8bc8-cb94adef905f",
   "metadata": {},
   "source": [
    "运行结果为：\n",
    "\n",
    "![image.png](attachment:7d6b8876-c9fb-4d89-a943-cd9dd741c368.png)"
   ]
  },
  {
   "cell_type": "markdown",
   "id": "c3af8313-57b0-4322-abcf-719333d04961",
   "metadata": {},
   "source": [
    "至此，我们已经运行了第一个端到端代理。要深入了解，接下来可以：\n",
    "\n",
    "查看所有支持的不同代理类型\n",
    "\n",
    "了解AgentExecutor的所有控件\n",
    "\n",
    "查看langchain提供的所有现成工具包的完整列表\n",
    "\n",
    "探索支持的所有单个工具"
   ]
  },
  {
   "cell_type": "markdown",
   "id": "baef256a-7443-454d-bcdb-2db30a7d59c6",
   "metadata": {},
   "source": [
    "# 代码完整版本如下："
   ]
  },
  {
   "cell_type": "markdown",
   "id": "653fce41-4637-418a-8d67-3d3a9a71620c",
   "metadata": {},
   "source": [
    "# 无记忆版本"
   ]
  },
  {
   "cell_type": "code",
   "execution_count": null,
   "id": "b099e05e-25dc-4238-a788-bba6f132e93b",
   "metadata": {},
   "outputs": [],
   "source": [
    "from langchain.chat_models import ChatOpenAI\n",
    "\n",
    "# 设置 OpenAI API 密钥\n",
    "os.environ[\"OPENAI_API_KEY\"] = \"KEY\"\n",
    "\n",
    "# 创建 ChatOpenAI 实例，配置模型参数\n",
    "llm = ChatOpenAI(\n",
    "    openai_api_key=os.environ[\"OPENAI_API_KEY\"],\n",
    "    temperature=0,\n",
    "    model_name='gpt-3.5-turbo'\n",
    ")\n",
    "\n",
    "# 自定义tool\n",
    "from langchain.agents import tool\n",
    "\n",
    "@tool\n",
    "def get_word_length(word: str) -> int:\n",
    "    \"\"\"Returns the length of a word.\"\"\"\n",
    "    return len(word)\n",
    "\n",
    "tools = [get_word_length]\n",
    "\n",
    "# 设置prompt\n",
    "from langchain.prompts import ChatPromptTemplate, MessagesPlaceholder\n",
    "\n",
    "prompt = ChatPromptTemplate.from_messages([\n",
    "    (\"system\", \"You are very powerful assistant, but bad at calculating lengths of words.\"),\n",
    "    (\"user\", \"{input}\"),\n",
    "    MessagesPlaceholder(variable_name=\"agent_scratchpad\"),\n",
    "])\n",
    "\n",
    "# 绑定工具作为关键词参数，传递给LLM\n",
    "from langchain.tools.render import format_tool_to_openai_function\n",
    "\n",
    "llm_with_tools = llm.bind(\n",
    "    functions=[format_tool_to_openai_function(t) for t in tools]\n",
    ")\n",
    "\n",
    "# 创建代理\n",
    "from langchain.agents.format_scratchpad import format_to_openai_functions\n",
    "from langchain.agents.output_parsers import OpenAIFunctionsAgentOutputParser\n",
    "\n",
    "agent = {\n",
    "    \"input\": lambda x: x[\"input\"],\n",
    "    \"agent_scratchpad\": lambda x: format_to_openai_functions(x['intermediate_steps'])\n",
    "} | prompt | llm_with_tools | OpenAIFunctionsAgentOutputParser()\n",
    "\n",
    "# agent.invoke({\n",
    "#     \"input\": \"how many letters in the word educa?\",\n",
    "#     \"intermediate_steps\": []\n",
    "# })\n",
    "\n",
    "# 创建runtime（手动版）和下面的选一个即可\n",
    "# from langchain.schema.agent import AgentFinish\n",
    "# intermediate_steps = []\n",
    "# while True:\n",
    "#     output = agent.invoke({\n",
    "#         \"input\": \"how many letters in the word educa?\",\n",
    "#         \"intermediate_steps\": intermediate_steps\n",
    "#     })\n",
    "#     if isinstance(output, AgentFinish):\n",
    "#         final_result = output.return_values[\"output\"]\n",
    "#         break\n",
    "#     else:\n",
    "#         print(output.tool, output.tool_input)\n",
    "#         tool = {\n",
    "#             \"get_word_length\": get_word_length\n",
    "#         }[output.tool]\n",
    "#         observation = tool.run(output.tool_input)\n",
    "#         intermediate_steps.append((output, observation))\n",
    "# print(final_result)\n",
    "\n",
    "# 创建runtime（导入并使用AgentExecutor类）\n",
    "from langchain.agents import AgentExecutor\n",
    "agent_executor = AgentExecutor(agent=agent, tools=tools, verbose=True)\n",
    "agent_executor.invoke({\"input\": \"how many letters in the word educa?\"})"
   ]
  },
  {
   "attachments": {
    "d244fe86-2cf6-48c3-9615-7b7a30bde470.png": {
     "image/png": "[encoded data removed]"
    }
   },
   "cell_type": "markdown",
   "id": "b4da1900-eb78-4890-987a-6044b2799c4d",
   "metadata": {},
   "source": [
    "结果输出如下：\n",
    "\n",
    "![image.png](attachment:d244fe86-2cf6-48c3-9615-7b7a30bde470.png)"
   ]
  },
  {
   "cell_type": "markdown",
   "id": "d3ec88e7-5b60-4a8a-a698-1b08cfcf686d",
   "metadata": {},
   "source": [
    "# 有记忆版本"
   ]
  },
  {
   "cell_type": "code",
   "execution_count": null,
   "id": "238790b0-1478-4ae3-a547-b2a6849e72e3",
   "metadata": {},
   "outputs": [],
   "source": [
    "from langchain.chat_models import ChatOpenAI\n",
    "\n",
    "# 设置 OpenAI API 密钥\n",
    "os.environ[\"OPENAI_API_KEY\"] = \"KEY\"\n",
    "\n",
    "# 创建 ChatOpenAI 实例，配置模型参数\n",
    "llm = ChatOpenAI(\n",
    "    openai_api_key=os.environ[\"OPENAI_API_KEY\"],\n",
    "    temperature=0,\n",
    "    model_name='gpt-3.5-turbo'\n",
    ")\n",
    "\n",
    "# 自定义tool\n",
    "from langchain.agents import tool\n",
    "\n",
    "@tool\n",
    "def get_word_length(word: str) -> int:\n",
    "    \"\"\"Returns the length of a word.\"\"\"\n",
    "    return len(word)\n",
    "\n",
    "tools = [get_word_length]\n",
    "\n",
    "\n",
    "# 修改 prompt 增加记忆\n",
    "from langchain.prompts import MessagesPlaceholder\n",
    "\n",
    "MEMORY_KEY = \"chat_history\"\n",
    "prompt = ChatPromptTemplate.from_messages([\n",
    "    (\"system\", \"You are very powerful assistant, but bad at calculating lengths of words.\"),\n",
    "    MessagesPlaceholder(variable_name=MEMORY_KEY),\n",
    "    (\"user\", \"{input}\"),\n",
    "    MessagesPlaceholder(variable_name=\"agent_scratchpad\"),\n",
    "])\n",
    "\n",
    "# 绑定工具作为关键词参数，传递给LLM\n",
    "from langchain.tools.render import format_tool_to_openai_function\n",
    "\n",
    "llm_with_tools = llm.bind(\n",
    "    functions=[format_tool_to_openai_function(t) for t in tools]\n",
    ")\n",
    "\n",
    "# 设置历史记录列表\n",
    "from langchain.schema.messages import HumanMessage, AIMessage\n",
    "chat_history = []\n",
    "\n",
    "# 创建代理\n",
    "from langchain.agents.format_scratchpad import format_to_openai_functions\n",
    "from langchain.agents.output_parsers import OpenAIFunctionsAgentOutputParser\n",
    "\n",
    "agent = {\n",
    "    \"input\": lambda x: x[\"input\"],\n",
    "    \"agent_scratchpad\": lambda x: format_to_openai_functions(x['intermediate_steps']),\n",
    "    \"chat_history\": lambda x: x[\"chat_history\"]\n",
    "} | prompt | llm_with_tools | OpenAIFunctionsAgentOutputParser()\n",
    "\n",
    "\n",
    "# 创建runtime（导入并使用AgentExecutor类）\n",
    "from langchain.agents import AgentExecutor\n",
    "agent_executor = AgentExecutor(agent=agent, tools=tools, verbose=True)\n",
    "\n",
    "\n",
    "# 运行代理\n",
    "input1 = \"how many letters in the word educa?\"\n",
    "result = agent_executor.invoke({\"input\": input1, \"chat_history\": chat_history})\n",
    "chat_history.append(HumanMessage(content=input1))\n",
    "chat_history.append(AIMessage(content=result['output']))\n",
    "agent_executor.invoke({\"input\": \"is that a real word?\", \"chat_history\": chat_history})"
   ]
  },
  {
   "attachments": {
    "54f3c897-173a-48fc-8a96-8e22c7b987b8.png": {
     "image/png": "[encoded data removed]"
    }
   },
   "cell_type": "markdown",
   "id": "29c3368a-b0b0-4bd6-943d-cb4eedc897aa",
   "metadata": {},
   "source": [
    "输出结果如下，可见红框部分是记忆：\n",
    "\n",
    "![image.png](attachment:54f3c897-173a-48fc-8a96-8e22c7b987b8.png)"
   ]
  }
 ],
 "metadata": {
  "kernelspec": {
   "display_name": "LLM",
   "language": "python",
   "name": "llm"
  },
  "language_info": {
   "codemirror_mode": {
    "name": "ipython",
    "version": 3
   },
   "file_extension": ".py",
   "mimetype": "text/x-python",
   "name": "python",
   "nbconvert_exporter": "python",
   "pygments_lexer": "ipython3",
   "version": "3.10.0"
  }
 },
 "nbformat": 4,
 "nbformat_minor": 5
}
