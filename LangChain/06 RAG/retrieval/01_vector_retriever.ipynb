{
  "nbformat": 4,
  "nbformat_minor": 0,
  "metadata": {
    "colab": {
      "provenance": []
    },
    "kernelspec": {
      "name": "python3",
      "display_name": "Python 3"
    },
    "language_info": {
      "name": "python"
    }
  },
  "cells": [
    {
      "cell_type": "code",
      "execution_count": 3,
      "metadata": {
        "id": "ZH8pQLODn8qf"
      },
      "outputs": [],
      "source": [
        "from langchain.vectorstores import FAISS\n",
        "from langchain.embeddings import OpenAIEmbeddings\n",
        "from langchain.schema import Document"
      ]
    },
    {
      "cell_type": "code",
      "source": [
        "import os\n",
        "import getpass\n",
        "\n",
        "os.environ['OPENAI_API_KEY'] = getpass.getpass('OpenAI API Key:')"
      ],
      "metadata": {
        "colab": {
          "base_uri": "https://localhost:8080/"
        },
        "id": "kjOt5qkpoCcJ",
        "outputId": "71e5b7d1-ffef-41f9-ece6-356e6a46d131"
      },
      "execution_count": 4,
      "outputs": [
        {
          "name": "stdout",
          "output_type": "stream",
          "text": [
            "OpenAI API Key:··········\n"
          ]
        }
      ]
    },
    {
      "cell_type": "code",
      "source": [
        "# 初始化嵌入模型\n",
        "embeddings = OpenAIEmbeddings()"
      ],
      "metadata": {
        "colab": {
          "base_uri": "https://localhost:8080/"
        },
        "id": "-mMHKOZ7oCjs",
        "outputId": "e30abf3c-e348-40bb-b4ab-64723468462e"
      },
      "execution_count": 5,
      "outputs": [
        {
          "output_type": "stream",
          "name": "stderr",
          "text": [
            "<ipython-input-5-b0fd89d06ed4>:2: LangChainDeprecationWarning: The class `OpenAIEmbeddings` was deprecated in LangChain 0.0.9 and will be removed in 1.0. An updated version of the class exists in the :class:`~langchain-openai package and should be used instead. To use it run `pip install -U :class:`~langchain-openai` and import as `from :class:`~langchain_openai import OpenAIEmbeddings``.\n",
            "  embeddings = OpenAIEmbeddings()\n"
          ]
        }
      ]
    },
    {
      "cell_type": "code",
      "source": [
        "# 创建商品列表（模拟文档）\n",
        "products = [\n",
        "    Document(page_content=\"这款智能手机拥有强大的处理器和高清摄像头。\"),\n",
        "    Document(page_content=\"这款笔记本电脑轻薄便携，适合商务旅行。\"),\n",
        "    Document(page_content=\"这款智能手表支持健康监测和消息提醒。\")\n",
        "]"
      ],
      "metadata": {
        "id": "mlcCzKIjoCmS"
      },
      "execution_count": 6,
      "outputs": []
    },
    {
      "cell_type": "code",
      "source": [
        "# 创建向量存储\n",
        "vectorstore = FAISS.from_documents(products, embeddings)"
      ],
      "metadata": {
        "id": "_Ffkgtg5oCoo"
      },
      "execution_count": 9,
      "outputs": []
    },
    {
      "cell_type": "code",
      "source": [
        "# 查询向量存储\n",
        "query = \"最好的智能手机\"\n",
        "results = vectorstore.similarity_search(query, k=2)"
      ],
      "metadata": {
        "id": "bIXuF7WcoCtl"
      },
      "execution_count": 10,
      "outputs": []
    },
    {
      "cell_type": "code",
      "source": [
        "# 打印结果\n",
        "for doc in results:\n",
        "    print(doc.page_content)"
      ],
      "metadata": {
        "colab": {
          "base_uri": "https://localhost:8080/"
        },
        "id": "vSFaQrKkoCyk",
        "outputId": "fad4fe57-72e2-4911-e7e2-2fd23092fd3f"
      },
      "execution_count": 11,
      "outputs": [
        {
          "output_type": "stream",
          "name": "stdout",
          "text": [
            "这款智能手机拥有强大的处理器和高清摄像头。\n",
            "这款智能手表支持健康监测和消息提醒。\n"
          ]
        }
      ]
    }
  ]
}