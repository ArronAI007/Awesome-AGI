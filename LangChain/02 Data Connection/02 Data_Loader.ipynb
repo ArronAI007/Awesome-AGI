{
  "cells": [
    {
      "cell_type": "markdown",
      "source": [
        "# 01 加载文本数据"
      ],
      "metadata": {
        "id": "YkiZfyWkyclt"
      }
    },
    {
      "cell_type": "code",
      "source": [
        "from langchain.document_loaders import TextLoader\n",
        "\n",
        "# 如果文件中包含中，请指定encoding=\"utf-8\"\n",
        "loader = TextLoader(file_path=\"./example.md\",encoding=\"utf-8\")\n",
        "loader.load()"
      ],
      "metadata": {
        "id": "-_kcoXauygwC"
      },
      "execution_count": null,
      "outputs": []
    },
    {
      "cell_type": "markdown",
      "source": [
        "# 02 加载CSV数据"
      ],
      "metadata": {
        "id": "7rIumrwCypMf"
      }
    },
    {
      "cell_type": "code",
      "source": [
        "from langchain.document_loaders import CSVLoader\n",
        "\n",
        "# 如果文件中包含中，请指定encoding=\"utf-8\"\n",
        "loader = CSVLoader(file_path=\"./example.csv\",encoding=\"utf-8\")\n",
        "documents = loader.load()"
      ],
      "metadata": {
        "id": "EjaAYpKxypX-"
      },
      "execution_count": null,
      "outputs": []
    },
    {
      "cell_type": "markdown",
      "source": [
        "# 03 加载文件目录"
      ],
      "metadata": {
        "id": "jyaAOyYpzG-M"
      }
    },
    {
      "cell_type": "code",
      "source": [
        "from langchain.document_loaders import DirectoryLoader\n",
        "\n",
        "# 如果文件中包含中，请指定encoding=\"utf-8\"\n",
        "loader = DirectoryLoader(path=\"data_directory\")\n",
        "documents = loader.load()"
      ],
      "metadata": {
        "id": "n2cHDFKCzJ0O"
      },
      "execution_count": null,
      "outputs": []
    },
    {
      "cell_type": "markdown",
      "source": [
        "# 04 加载HTML数据"
      ],
      "metadata": {
        "id": "0-eLdurBzoU2"
      }
    },
    {
      "cell_type": "code",
      "source": [
        "from langchain.document_loaders import BSHTMLLoader\n",
        "\n",
        "loader = BSHTMLLoader(file_path=\"example.html\")\n",
        "documents = loader.load()"
      ],
      "metadata": {
        "id": "DStvHha_zrBe"
      },
      "execution_count": null,
      "outputs": []
    },
    {
      "cell_type": "markdown",
      "source": [
        "# 05 加载JSON数据"
      ],
      "metadata": {
        "id": "9dzjkRdUz9Cf"
      }
    },
    {
      "cell_type": "code",
      "source": [
        "from langchain.document_loaders import JSONLoader\n",
        "\n",
        "loader = JSONLoader(file_path=\"example.json\", jq_schema=\".[]\")\n",
        "documents = loader.load()"
      ],
      "metadata": {
        "id": "5XncFCev0EnM"
      },
      "execution_count": null,
      "outputs": []
    },
    {
      "cell_type": "markdown",
      "source": [
        "# 06 加载Markdown数据"
      ],
      "metadata": {
        "id": "dvzH3VGP0XT7"
      }
    },
    {
      "cell_type": "code",
      "source": [
        "from langchain.document_loaders import UnstructuredMarkdownLoader\n",
        "\n",
        "loader = UnstructuredMarkdownLoader(markdown_path, mode=\"elements\")\n",
        "documents = loader.load()"
      ],
      "metadata": {
        "id": "8uYvu_AV0ahr"
      },
      "execution_count": null,
      "outputs": []
    },
    {
      "cell_type": "markdown",
      "source": [
        "# 07 加载PDF文件"
      ],
      "metadata": {
        "id": "8KP0Yj7g078Q"
      }
    },
    {
      "cell_type": "code",
      "source": [
        "from langchain.document_loaders import MathpixPDFLoader UnstructuredPDFLoader OnlinePDFLoader PyPDFium2Loader PDFMinerLoader PyMuPDFLoader PyPDFDirectoryLoader\n",
        "\n",
        "# 方法一：\n",
        "loader = MathpixPDFLoader(\"example.pdf\")\n",
        "\n",
        "# 方法二：\n",
        "loader = UnstructuredPDFLoader(\"example.pdf\")\n",
        "\n",
        "# 方法三：\n",
        "loader = OnlinePDFLoader(\"example.pdf\")\n",
        "\n",
        "# 方法四：\n",
        "loader = PyPDFium2Loader(\"example.pdf\")\n",
        "\n",
        "# 方法五：可生成HTML文档，可以通过Python的BeautifulSoup库提取PDF头/页脚等结构化信息\n",
        "loader = PDFMinerLoader(\"example.pdf\")\n",
        "\n",
        "# 方法六：最快的PDF文档加载器，输出文档包含PDF详细元数据，且为每页返回一个文档\n",
        "loader = PyMuPDFLoader(\"example.pdf\")\n",
        "\n",
        "# 方法七：\n",
        "loader = PyPDFDirectoryLoader(path=\"data_directory\")\n",
        "\n",
        "documents = loader.load()"
      ],
      "metadata": {
        "id": "4oSHEdtK0_ZQ"
      },
      "execution_count": null,
      "outputs": []
    }
  ],
  "metadata": {
    "kernelspec": {
      "display_name": "Python 3",
      "language": "python",
      "name": "python3"
    },
    "language_info": {
      "codemirror_mode": {
        "name": "ipython",
        "version": 3
      },
      "file_extension": ".py",
      "mimetype": "text/x-python",
      "name": "python",
      "nbconvert_exporter": "python",
      "pygments_lexer": "ipython3",
      "version": "3.11.4"
    },
    "orig_nbformat": 4,
    "colab": {
      "provenance": []
    }
  },
  "nbformat": 4,
  "nbformat_minor": 0
}