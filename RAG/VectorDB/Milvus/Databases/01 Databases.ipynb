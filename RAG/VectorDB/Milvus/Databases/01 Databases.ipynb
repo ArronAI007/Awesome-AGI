{
 "cells": [
  {
   "cell_type": "markdown",
   "id": "ff1dbc3f-e486-4baf-99df-94d9fc7635b2",
   "metadata": {},
   "source": [
    "类似传统数据库一样，Milvus也有数据库概念，传统数据库中的表对应Milvus的collection。\n",
    "\n",
    "Milvus集群最多支持64个数据库"
   ]
  },
  {
   "cell_type": "markdown",
   "id": "8fb623a3-f3b1-4e49-bcbb-da72bc2e2e62",
   "metadata": {},
   "source": [
    "# 创建数据库"
   ]
  },
  {
   "cell_type": "code",
   "execution_count": 1,
   "id": "304d9d16-79fa-4500-a66a-5db27a8a5f71",
   "metadata": {},
   "outputs": [],
   "source": [
    "from pymilvus import connections, db\n",
    "\n",
    "conn = connections.connect(host=\"127.0.0.1\", port=19530)\n",
    "\n",
    "# 创建一个名为my_database的数据库\n",
    "database = db.create_database(\"my_database\")"
   ]
  },
  {
   "cell_type": "markdown",
   "id": "965e93d3-375a-44a3-aa6f-f68d56c1816b",
   "metadata": {},
   "source": [
    "# 使用数据库\n",
    "milvus有个默认的数据库default，如果想使用自定义的数据库，需要指定"
   ]
  },
  {
   "cell_type": "code",
   "execution_count": 2,
   "id": "0a27d9b3-ac0e-4a03-8706-324b20165880",
   "metadata": {},
   "outputs": [],
   "source": [
    "db.using_database(\"my_database\")"
   ]
  },
  {
   "cell_type": "markdown",
   "id": "3f2ccfef-f590-4c34-bfa3-a9e644b743bf",
   "metadata": {},
   "source": [
    "也可以在connection中设置数据库"
   ]
  },
  {
   "cell_type": "code",
   "execution_count": 3,
   "id": "bb846c74-c435-40fb-a106-eda261a4403b",
   "metadata": {},
   "outputs": [],
   "source": [
    "conn = connections.connect(\n",
    "    host=\"127.0.0.1\",\n",
    "    port=\"19530\",\n",
    "    db_name=\"my_database\"\n",
    ")"
   ]
  },
  {
   "cell_type": "markdown",
   "id": "669e558f-532b-4422-9c5e-5d4dfac81c1b",
   "metadata": {},
   "source": [
    "# 列出数据库"
   ]
  },
  {
   "cell_type": "code",
   "execution_count": 4,
   "id": "1ae6e7c4-6840-4e63-8a60-cf143f0f8cb4",
   "metadata": {},
   "outputs": [
    {
     "data": {
      "text/plain": [
       "['default', 'my_database']"
      ]
     },
     "execution_count": 4,
     "metadata": {},
     "output_type": "execute_result"
    }
   ],
   "source": [
    "# 查找Milvus集群中所有的数据库\n",
    "db.list_database()"
   ]
  },
  {
   "cell_type": "markdown",
   "id": "23442fe9-6bfa-4578-9cdd-9d87282c52f9",
   "metadata": {},
   "source": [
    "# 删除数据库\n",
    "\n",
    "删除数据库之前，必须首先删除数据库里面的collection，否则删除数据库失败。"
   ]
  },
  {
   "cell_type": "code",
   "execution_count": 5,
   "id": "cfac4fbd-9e6d-4aee-ac98-2ff27a132d95",
   "metadata": {},
   "outputs": [
    {
     "data": {
      "text/plain": [
       "['default']"
      ]
     },
     "execution_count": 5,
     "metadata": {},
     "output_type": "execute_result"
    }
   ],
   "source": [
    "# 删除数据库：my_database\n",
    "db.drop_database(\"my_database\")\n",
    "\n",
    "db.list_database()"
   ]
  }
 ],
 "metadata": {
  "kernelspec": {
   "display_name": "milvus",
   "language": "python",
   "name": "milvus"
  },
  "language_info": {
   "codemirror_mode": {
    "name": "ipython",
    "version": 3
   },
   "file_extension": ".py",
   "mimetype": "text/x-python",
   "name": "python",
   "nbconvert_exporter": "python",
   "pygments_lexer": "ipython3",
   "version": "3.11.11"
  }
 },
 "nbformat": 4,
 "nbformat_minor": 5
}
