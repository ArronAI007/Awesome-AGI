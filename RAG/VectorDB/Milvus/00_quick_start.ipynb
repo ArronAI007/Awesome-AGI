{
  "nbformat": 4,
  "nbformat_minor": 0,
  "metadata": {
    "colab": {
      "provenance": []
    },
    "kernelspec": {
      "name": "python3",
      "display_name": "Python 3"
    },
    "language_info": {
      "name": "python"
    },
    "widgets": {
      "application/vnd.jupyter.widget-state+json": {
        "c58947121af044649129c428ef2b093a": {
          "model_module": "@jupyter-widgets/controls",
          "model_name": "HBoxModel",
          "model_module_version": "1.5.0",
          "state": {
            "_dom_classes": [],
            "_model_module": "@jupyter-widgets/controls",
            "_model_module_version": "1.5.0",
            "_model_name": "HBoxModel",
            "_view_count": null,
            "_view_module": "@jupyter-widgets/controls",
            "_view_module_version": "1.5.0",
            "_view_name": "HBoxView",
            "box_style": "",
            "children": [
              "IPY_MODEL_c9dd78f3e7f14532b2e2631da82279ec",
              "IPY_MODEL_d8febb02adda4a478b95b2a2f015c61c",
              "IPY_MODEL_e96c564b34584ad68a6e0e957742786d"
            ],
            "layout": "IPY_MODEL_41ea2afe2906459da285cde706794c3c"
          }
        },
        "c9dd78f3e7f14532b2e2631da82279ec": {
          "model_module": "@jupyter-widgets/controls",
          "model_name": "HTMLModel",
          "model_module_version": "1.5.0",
          "state": {
            "_dom_classes": [],
            "_model_module": "@jupyter-widgets/controls",
            "_model_module_version": "1.5.0",
            "_model_name": "HTMLModel",
            "_view_count": null,
            "_view_module": "@jupyter-widgets/controls",
            "_view_module_version": "1.5.0",
            "_view_name": "HTMLView",
            "description": "",
            "description_tooltip": null,
            "layout": "IPY_MODEL_05265c575d664df4a4794cb2309c00dc",
            "placeholder": "​",
            "style": "IPY_MODEL_ae769f26ff0d4a0db96ab4d30965df75",
            "value": "tokenizer_config.json: 100%"
          }
        },
        "d8febb02adda4a478b95b2a2f015c61c": {
          "model_module": "@jupyter-widgets/controls",
          "model_name": "FloatProgressModel",
          "model_module_version": "1.5.0",
          "state": {
            "_dom_classes": [],
            "_model_module": "@jupyter-widgets/controls",
            "_model_module_version": "1.5.0",
            "_model_name": "FloatProgressModel",
            "_view_count": null,
            "_view_module": "@jupyter-widgets/controls",
            "_view_module_version": "1.5.0",
            "_view_name": "ProgressView",
            "bar_style": "success",
            "description": "",
            "description_tooltip": null,
            "layout": "IPY_MODEL_27febae2742b454ca6b93481303447ee",
            "max": 465,
            "min": 0,
            "orientation": "horizontal",
            "style": "IPY_MODEL_ec8999dcc5004768bc02b06e07d26f99",
            "value": 465
          }
        },
        "e96c564b34584ad68a6e0e957742786d": {
          "model_module": "@jupyter-widgets/controls",
          "model_name": "HTMLModel",
          "model_module_version": "1.5.0",
          "state": {
            "_dom_classes": [],
            "_model_module": "@jupyter-widgets/controls",
            "_model_module_version": "1.5.0",
            "_model_name": "HTMLModel",
            "_view_count": null,
            "_view_module": "@jupyter-widgets/controls",
            "_view_module_version": "1.5.0",
            "_view_name": "HTMLView",
            "description": "",
            "description_tooltip": null,
            "layout": "IPY_MODEL_9c697cc1e0704589b95d5da96a13a2fe",
            "placeholder": "​",
            "style": "IPY_MODEL_17e3aa17554749b1b574b91e1ac27bc5",
            "value": " 465/465 [00:00&lt;00:00, 16.4kB/s]"
          }
        },
        "41ea2afe2906459da285cde706794c3c": {
          "model_module": "@jupyter-widgets/base",
          "model_name": "LayoutModel",
          "model_module_version": "1.2.0",
          "state": {
            "_model_module": "@jupyter-widgets/base",
            "_model_module_version": "1.2.0",
            "_model_name": "LayoutModel",
            "_view_count": null,
            "_view_module": "@jupyter-widgets/base",
            "_view_module_version": "1.2.0",
            "_view_name": "LayoutView",
            "align_content": null,
            "align_items": null,
            "align_self": null,
            "border": null,
            "bottom": null,
            "display": null,
            "flex": null,
            "flex_flow": null,
            "grid_area": null,
            "grid_auto_columns": null,
            "grid_auto_flow": null,
            "grid_auto_rows": null,
            "grid_column": null,
            "grid_gap": null,
            "grid_row": null,
            "grid_template_areas": null,
            "grid_template_columns": null,
            "grid_template_rows": null,
            "height": null,
            "justify_content": null,
            "justify_items": null,
            "left": null,
            "margin": null,
            "max_height": null,
            "max_width": null,
            "min_height": null,
            "min_width": null,
            "object_fit": null,
            "object_position": null,
            "order": null,
            "overflow": null,
            "overflow_x": null,
            "overflow_y": null,
            "padding": null,
            "right": null,
            "top": null,
            "visibility": null,
            "width": null
          }
        },
        "05265c575d664df4a4794cb2309c00dc": {
          "model_module": "@jupyter-widgets/base",
          "model_name": "LayoutModel",
          "model_module_version": "1.2.0",
          "state": {
            "_model_module": "@jupyter-widgets/base",
            "_model_module_version": "1.2.0",
            "_model_name": "LayoutModel",
            "_view_count": null,
            "_view_module": "@jupyter-widgets/base",
            "_view_module_version": "1.2.0",
            "_view_name": "LayoutView",
            "align_content": null,
            "align_items": null,
            "align_self": null,
            "border": null,
            "bottom": null,
            "display": null,
            "flex": null,
            "flex_flow": null,
            "grid_area": null,
            "grid_auto_columns": null,
            "grid_auto_flow": null,
            "grid_auto_rows": null,
            "grid_column": null,
            "grid_gap": null,
            "grid_row": null,
            "grid_template_areas": null,
            "grid_template_columns": null,
            "grid_template_rows": null,
            "height": null,
            "justify_content": null,
            "justify_items": null,
            "left": null,
            "margin": null,
            "max_height": null,
            "max_width": null,
            "min_height": null,
            "min_width": null,
            "object_fit": null,
            "object_position": null,
            "order": null,
            "overflow": null,
            "overflow_x": null,
            "overflow_y": null,
            "padding": null,
            "right": null,
            "top": null,
            "visibility": null,
            "width": null
          }
        },
        "ae769f26ff0d4a0db96ab4d30965df75": {
          "model_module": "@jupyter-widgets/controls",
          "model_name": "DescriptionStyleModel",
          "model_module_version": "1.5.0",
          "state": {
            "_model_module": "@jupyter-widgets/controls",
            "_model_module_version": "1.5.0",
            "_model_name": "DescriptionStyleModel",
            "_view_count": null,
            "_view_module": "@jupyter-widgets/base",
            "_view_module_version": "1.2.0",
            "_view_name": "StyleView",
            "description_width": ""
          }
        },
        "27febae2742b454ca6b93481303447ee": {
          "model_module": "@jupyter-widgets/base",
          "model_name": "LayoutModel",
          "model_module_version": "1.2.0",
          "state": {
            "_model_module": "@jupyter-widgets/base",
            "_model_module_version": "1.2.0",
            "_model_name": "LayoutModel",
            "_view_count": null,
            "_view_module": "@jupyter-widgets/base",
            "_view_module_version": "1.2.0",
            "_view_name": "LayoutView",
            "align_content": null,
            "align_items": null,
            "align_self": null,
            "border": null,
            "bottom": null,
            "display": null,
            "flex": null,
            "flex_flow": null,
            "grid_area": null,
            "grid_auto_columns": null,
            "grid_auto_flow": null,
            "grid_auto_rows": null,
            "grid_column": null,
            "grid_gap": null,
            "grid_row": null,
            "grid_template_areas": null,
            "grid_template_columns": null,
            "grid_template_rows": null,
            "height": null,
            "justify_content": null,
            "justify_items": null,
            "left": null,
            "margin": null,
            "max_height": null,
            "max_width": null,
            "min_height": null,
            "min_width": null,
            "object_fit": null,
            "object_position": null,
            "order": null,
            "overflow": null,
            "overflow_x": null,
            "overflow_y": null,
            "padding": null,
            "right": null,
            "top": null,
            "visibility": null,
            "width": null
          }
        },
        "ec8999dcc5004768bc02b06e07d26f99": {
          "model_module": "@jupyter-widgets/controls",
          "model_name": "ProgressStyleModel",
          "model_module_version": "1.5.0",
          "state": {
            "_model_module": "@jupyter-widgets/controls",
            "_model_module_version": "1.5.0",
            "_model_name": "ProgressStyleModel",
            "_view_count": null,
            "_view_module": "@jupyter-widgets/base",
            "_view_module_version": "1.2.0",
            "_view_name": "StyleView",
            "bar_color": null,
            "description_width": ""
          }
        },
        "9c697cc1e0704589b95d5da96a13a2fe": {
          "model_module": "@jupyter-widgets/base",
          "model_name": "LayoutModel",
          "model_module_version": "1.2.0",
          "state": {
            "_model_module": "@jupyter-widgets/base",
            "_model_module_version": "1.2.0",
            "_model_name": "LayoutModel",
            "_view_count": null,
            "_view_module": "@jupyter-widgets/base",
            "_view_module_version": "1.2.0",
            "_view_name": "LayoutView",
            "align_content": null,
            "align_items": null,
            "align_self": null,
            "border": null,
            "bottom": null,
            "display": null,
            "flex": null,
            "flex_flow": null,
            "grid_area": null,
            "grid_auto_columns": null,
            "grid_auto_flow": null,
            "grid_auto_rows": null,
            "grid_column": null,
            "grid_gap": null,
            "grid_row": null,
            "grid_template_areas": null,
            "grid_template_columns": null,
            "grid_template_rows": null,
            "height": null,
            "justify_content": null,
            "justify_items": null,
            "left": null,
            "margin": null,
            "max_height": null,
            "max_width": null,
            "min_height": null,
            "min_width": null,
            "object_fit": null,
            "object_position": null,
            "order": null,
            "overflow": null,
            "overflow_x": null,
            "overflow_y": null,
            "padding": null,
            "right": null,
            "top": null,
            "visibility": null,
            "width": null
          }
        },
        "17e3aa17554749b1b574b91e1ac27bc5": {
          "model_module": "@jupyter-widgets/controls",
          "model_name": "DescriptionStyleModel",
          "model_module_version": "1.5.0",
          "state": {
            "_model_module": "@jupyter-widgets/controls",
            "_model_module_version": "1.5.0",
            "_model_name": "DescriptionStyleModel",
            "_view_count": null,
            "_view_module": "@jupyter-widgets/base",
            "_view_module_version": "1.2.0",
            "_view_name": "StyleView",
            "description_width": ""
          }
        },
        "cb7306096eca497f96b1a375cefaec96": {
          "model_module": "@jupyter-widgets/controls",
          "model_name": "HBoxModel",
          "model_module_version": "1.5.0",
          "state": {
            "_dom_classes": [],
            "_model_module": "@jupyter-widgets/controls",
            "_model_module_version": "1.5.0",
            "_model_name": "HBoxModel",
            "_view_count": null,
            "_view_module": "@jupyter-widgets/controls",
            "_view_module_version": "1.5.0",
            "_view_name": "HBoxView",
            "box_style": "",
            "children": [
              "IPY_MODEL_2ec2a8383e2a47b296d21b9cee1c9edb",
              "IPY_MODEL_a16dc15cec3c41228078779e187fc235",
              "IPY_MODEL_b1c2e50fe21f40e983ff1569bfaea5fa"
            ],
            "layout": "IPY_MODEL_741ed9f7f8b1496f9861ce21c4d0a5fe"
          }
        },
        "2ec2a8383e2a47b296d21b9cee1c9edb": {
          "model_module": "@jupyter-widgets/controls",
          "model_name": "HTMLModel",
          "model_module_version": "1.5.0",
          "state": {
            "_dom_classes": [],
            "_model_module": "@jupyter-widgets/controls",
            "_model_module_version": "1.5.0",
            "_model_name": "HTMLModel",
            "_view_count": null,
            "_view_module": "@jupyter-widgets/controls",
            "_view_module_version": "1.5.0",
            "_view_name": "HTMLView",
            "description": "",
            "description_tooltip": null,
            "layout": "IPY_MODEL_65b365f8535c4ec69ae48bdb35d56763",
            "placeholder": "​",
            "style": "IPY_MODEL_084e954efb1444058d9bd6d880a46fa0",
            "value": "config.json: 100%"
          }
        },
        "a16dc15cec3c41228078779e187fc235": {
          "model_module": "@jupyter-widgets/controls",
          "model_name": "FloatProgressModel",
          "model_module_version": "1.5.0",
          "state": {
            "_dom_classes": [],
            "_model_module": "@jupyter-widgets/controls",
            "_model_module_version": "1.5.0",
            "_model_name": "FloatProgressModel",
            "_view_count": null,
            "_view_module": "@jupyter-widgets/controls",
            "_view_module_version": "1.5.0",
            "_view_name": "ProgressView",
            "bar_style": "success",
            "description": "",
            "description_tooltip": null,
            "layout": "IPY_MODEL_ca5e719f7e0e40c5904c97c5157556b5",
            "max": 827,
            "min": 0,
            "orientation": "horizontal",
            "style": "IPY_MODEL_de5316f8b4e04972b3fe4a90179d3c61",
            "value": 827
          }
        },
        "b1c2e50fe21f40e983ff1569bfaea5fa": {
          "model_module": "@jupyter-widgets/controls",
          "model_name": "HTMLModel",
          "model_module_version": "1.5.0",
          "state": {
            "_dom_classes": [],
            "_model_module": "@jupyter-widgets/controls",
            "_model_module_version": "1.5.0",
            "_model_name": "HTMLModel",
            "_view_count": null,
            "_view_module": "@jupyter-widgets/controls",
            "_view_module_version": "1.5.0",
            "_view_name": "HTMLView",
            "description": "",
            "description_tooltip": null,
            "layout": "IPY_MODEL_67dfd261c25a4e11aff53e12a2248276",
            "placeholder": "​",
            "style": "IPY_MODEL_7154c6eeb8b94c8fac48a0e6e46f18fa",
            "value": " 827/827 [00:00&lt;00:00, 43.1kB/s]"
          }
        },
        "741ed9f7f8b1496f9861ce21c4d0a5fe": {
          "model_module": "@jupyter-widgets/base",
          "model_name": "LayoutModel",
          "model_module_version": "1.2.0",
          "state": {
            "_model_module": "@jupyter-widgets/base",
            "_model_module_version": "1.2.0",
            "_model_name": "LayoutModel",
            "_view_count": null,
            "_view_module": "@jupyter-widgets/base",
            "_view_module_version": "1.2.0",
            "_view_name": "LayoutView",
            "align_content": null,
            "align_items": null,
            "align_self": null,
            "border": null,
            "bottom": null,
            "display": null,
            "flex": null,
            "flex_flow": null,
            "grid_area": null,
            "grid_auto_columns": null,
            "grid_auto_flow": null,
            "grid_auto_rows": null,
            "grid_column": null,
            "grid_gap": null,
            "grid_row": null,
            "grid_template_areas": null,
            "grid_template_columns": null,
            "grid_template_rows": null,
            "height": null,
            "justify_content": null,
            "justify_items": null,
            "left": null,
            "margin": null,
            "max_height": null,
            "max_width": null,
            "min_height": null,
            "min_width": null,
            "object_fit": null,
            "object_position": null,
            "order": null,
            "overflow": null,
            "overflow_x": null,
            "overflow_y": null,
            "padding": null,
            "right": null,
            "top": null,
            "visibility": null,
            "width": null
          }
        },
        "65b365f8535c4ec69ae48bdb35d56763": {
          "model_module": "@jupyter-widgets/base",
          "model_name": "LayoutModel",
          "model_module_version": "1.2.0",
          "state": {
            "_model_module": "@jupyter-widgets/base",
            "_model_module_version": "1.2.0",
            "_model_name": "LayoutModel",
            "_view_count": null,
            "_view_module": "@jupyter-widgets/base",
            "_view_module_version": "1.2.0",
            "_view_name": "LayoutView",
            "align_content": null,
            "align_items": null,
            "align_self": null,
            "border": null,
            "bottom": null,
            "display": null,
            "flex": null,
            "flex_flow": null,
            "grid_area": null,
            "grid_auto_columns": null,
            "grid_auto_flow": null,
            "grid_auto_rows": null,
            "grid_column": null,
            "grid_gap": null,
            "grid_row": null,
            "grid_template_areas": null,
            "grid_template_columns": null,
            "grid_template_rows": null,
            "height": null,
            "justify_content": null,
            "justify_items": null,
            "left": null,
            "margin": null,
            "max_height": null,
            "max_width": null,
            "min_height": null,
            "min_width": null,
            "object_fit": null,
            "object_position": null,
            "order": null,
            "overflow": null,
            "overflow_x": null,
            "overflow_y": null,
            "padding": null,
            "right": null,
            "top": null,
            "visibility": null,
            "width": null
          }
        },
        "084e954efb1444058d9bd6d880a46fa0": {
          "model_module": "@jupyter-widgets/controls",
          "model_name": "DescriptionStyleModel",
          "model_module_version": "1.5.0",
          "state": {
            "_model_module": "@jupyter-widgets/controls",
            "_model_module_version": "1.5.0",
            "_model_name": "DescriptionStyleModel",
            "_view_count": null,
            "_view_module": "@jupyter-widgets/base",
            "_view_module_version": "1.2.0",
            "_view_name": "StyleView",
            "description_width": ""
          }
        },
        "ca5e719f7e0e40c5904c97c5157556b5": {
          "model_module": "@jupyter-widgets/base",
          "model_name": "LayoutModel",
          "model_module_version": "1.2.0",
          "state": {
            "_model_module": "@jupyter-widgets/base",
            "_model_module_version": "1.2.0",
            "_model_name": "LayoutModel",
            "_view_count": null,
            "_view_module": "@jupyter-widgets/base",
            "_view_module_version": "1.2.0",
            "_view_name": "LayoutView",
            "align_content": null,
            "align_items": null,
            "align_self": null,
            "border": null,
            "bottom": null,
            "display": null,
            "flex": null,
            "flex_flow": null,
            "grid_area": null,
            "grid_auto_columns": null,
            "grid_auto_flow": null,
            "grid_auto_rows": null,
            "grid_column": null,
            "grid_gap": null,
            "grid_row": null,
            "grid_template_areas": null,
            "grid_template_columns": null,
            "grid_template_rows": null,
            "height": null,
            "justify_content": null,
            "justify_items": null,
            "left": null,
            "margin": null,
            "max_height": null,
            "max_width": null,
            "min_height": null,
            "min_width": null,
            "object_fit": null,
            "object_position": null,
            "order": null,
            "overflow": null,
            "overflow_x": null,
            "overflow_y": null,
            "padding": null,
            "right": null,
            "top": null,
            "visibility": null,
            "width": null
          }
        },
        "de5316f8b4e04972b3fe4a90179d3c61": {
          "model_module": "@jupyter-widgets/controls",
          "model_name": "ProgressStyleModel",
          "model_module_version": "1.5.0",
          "state": {
            "_model_module": "@jupyter-widgets/controls",
            "_model_module_version": "1.5.0",
            "_model_name": "ProgressStyleModel",
            "_view_count": null,
            "_view_module": "@jupyter-widgets/base",
            "_view_module_version": "1.2.0",
            "_view_name": "StyleView",
            "bar_color": null,
            "description_width": ""
          }
        },
        "67dfd261c25a4e11aff53e12a2248276": {
          "model_module": "@jupyter-widgets/base",
          "model_name": "LayoutModel",
          "model_module_version": "1.2.0",
          "state": {
            "_model_module": "@jupyter-widgets/base",
            "_model_module_version": "1.2.0",
            "_model_name": "LayoutModel",
            "_view_count": null,
            "_view_module": "@jupyter-widgets/base",
            "_view_module_version": "1.2.0",
            "_view_name": "LayoutView",
            "align_content": null,
            "align_items": null,
            "align_self": null,
            "border": null,
            "bottom": null,
            "display": null,
            "flex": null,
            "flex_flow": null,
            "grid_area": null,
            "grid_auto_columns": null,
            "grid_auto_flow": null,
            "grid_auto_rows": null,
            "grid_column": null,
            "grid_gap": null,
            "grid_row": null,
            "grid_template_areas": null,
            "grid_template_columns": null,
            "grid_template_rows": null,
            "height": null,
            "justify_content": null,
            "justify_items": null,
            "left": null,
            "margin": null,
            "max_height": null,
            "max_width": null,
            "min_height": null,
            "min_width": null,
            "object_fit": null,
            "object_position": null,
            "order": null,
            "overflow": null,
            "overflow_x": null,
            "overflow_y": null,
            "padding": null,
            "right": null,
            "top": null,
            "visibility": null,
            "width": null
          }
        },
        "7154c6eeb8b94c8fac48a0e6e46f18fa": {
          "model_module": "@jupyter-widgets/controls",
          "model_name": "DescriptionStyleModel",
          "model_module_version": "1.5.0",
          "state": {
            "_model_module": "@jupyter-widgets/controls",
            "_model_module_version": "1.5.0",
            "_model_name": "DescriptionStyleModel",
            "_view_count": null,
            "_view_module": "@jupyter-widgets/base",
            "_view_module_version": "1.2.0",
            "_view_name": "StyleView",
            "description_width": ""
          }
        },
        "5434a64f58d34e4bbd8c2be1d1ce28fa": {
          "model_module": "@jupyter-widgets/controls",
          "model_name": "HBoxModel",
          "model_module_version": "1.5.0",
          "state": {
            "_dom_classes": [],
            "_model_module": "@jupyter-widgets/controls",
            "_model_module_version": "1.5.0",
            "_model_name": "HBoxModel",
            "_view_count": null,
            "_view_module": "@jupyter-widgets/controls",
            "_view_module_version": "1.5.0",
            "_view_name": "HBoxView",
            "box_style": "",
            "children": [
              "IPY_MODEL_3d597c576d844ca88b4483471778e1d7",
              "IPY_MODEL_bc35f079c6d0447081db62fb0f570790",
              "IPY_MODEL_fd1db5f78dcf4ec8a995c22196c13f1d"
            ],
            "layout": "IPY_MODEL_cde768497a6141e586aad1267775ab7f"
          }
        },
        "3d597c576d844ca88b4483471778e1d7": {
          "model_module": "@jupyter-widgets/controls",
          "model_name": "HTMLModel",
          "model_module_version": "1.5.0",
          "state": {
            "_dom_classes": [],
            "_model_module": "@jupyter-widgets/controls",
            "_model_module_version": "1.5.0",
            "_model_name": "HTMLModel",
            "_view_count": null,
            "_view_module": "@jupyter-widgets/controls",
            "_view_module_version": "1.5.0",
            "_view_name": "HTMLView",
            "description": "",
            "description_tooltip": null,
            "layout": "IPY_MODEL_a828827379a24df494ae6513a1994ef1",
            "placeholder": "​",
            "style": "IPY_MODEL_46962a20035a4d3599bd5917ec6b9ccf",
            "value": "spiece.model: 100%"
          }
        },
        "bc35f079c6d0447081db62fb0f570790": {
          "model_module": "@jupyter-widgets/controls",
          "model_name": "FloatProgressModel",
          "model_module_version": "1.5.0",
          "state": {
            "_dom_classes": [],
            "_model_module": "@jupyter-widgets/controls",
            "_model_module_version": "1.5.0",
            "_model_name": "FloatProgressModel",
            "_view_count": null,
            "_view_module": "@jupyter-widgets/controls",
            "_view_module_version": "1.5.0",
            "_view_name": "ProgressView",
            "bar_style": "success",
            "description": "",
            "description_tooltip": null,
            "layout": "IPY_MODEL_b04312df27304694a18fd2304b20b3e4",
            "max": 760289,
            "min": 0,
            "orientation": "horizontal",
            "style": "IPY_MODEL_68fb6902a20d4191a08d9b5453b10fbb",
            "value": 760289
          }
        },
        "fd1db5f78dcf4ec8a995c22196c13f1d": {
          "model_module": "@jupyter-widgets/controls",
          "model_name": "HTMLModel",
          "model_module_version": "1.5.0",
          "state": {
            "_dom_classes": [],
            "_model_module": "@jupyter-widgets/controls",
            "_model_module_version": "1.5.0",
            "_model_name": "HTMLModel",
            "_view_count": null,
            "_view_module": "@jupyter-widgets/controls",
            "_view_module_version": "1.5.0",
            "_view_name": "HTMLView",
            "description": "",
            "description_tooltip": null,
            "layout": "IPY_MODEL_d0bead7fbf714196a66a14ebe6be3b98",
            "placeholder": "​",
            "style": "IPY_MODEL_a7699ea8ff6240d0a33f8a0dee80bad0",
            "value": " 760k/760k [00:00&lt;00:00, 10.8MB/s]"
          }
        },
        "cde768497a6141e586aad1267775ab7f": {
          "model_module": "@jupyter-widgets/base",
          "model_name": "LayoutModel",
          "model_module_version": "1.2.0",
          "state": {
            "_model_module": "@jupyter-widgets/base",
            "_model_module_version": "1.2.0",
            "_model_name": "LayoutModel",
            "_view_count": null,
            "_view_module": "@jupyter-widgets/base",
            "_view_module_version": "1.2.0",
            "_view_name": "LayoutView",
            "align_content": null,
            "align_items": null,
            "align_self": null,
            "border": null,
            "bottom": null,
            "display": null,
            "flex": null,
            "flex_flow": null,
            "grid_area": null,
            "grid_auto_columns": null,
            "grid_auto_flow": null,
            "grid_auto_rows": null,
            "grid_column": null,
            "grid_gap": null,
            "grid_row": null,
            "grid_template_areas": null,
            "grid_template_columns": null,
            "grid_template_rows": null,
            "height": null,
            "justify_content": null,
            "justify_items": null,
            "left": null,
            "margin": null,
            "max_height": null,
            "max_width": null,
            "min_height": null,
            "min_width": null,
            "object_fit": null,
            "object_position": null,
            "order": null,
            "overflow": null,
            "overflow_x": null,
            "overflow_y": null,
            "padding": null,
            "right": null,
            "top": null,
            "visibility": null,
            "width": null
          }
        },
        "a828827379a24df494ae6513a1994ef1": {
          "model_module": "@jupyter-widgets/base",
          "model_name": "LayoutModel",
          "model_module_version": "1.2.0",
          "state": {
            "_model_module": "@jupyter-widgets/base",
            "_model_module_version": "1.2.0",
            "_model_name": "LayoutModel",
            "_view_count": null,
            "_view_module": "@jupyter-widgets/base",
            "_view_module_version": "1.2.0",
            "_view_name": "LayoutView",
            "align_content": null,
            "align_items": null,
            "align_self": null,
            "border": null,
            "bottom": null,
            "display": null,
            "flex": null,
            "flex_flow": null,
            "grid_area": null,
            "grid_auto_columns": null,
            "grid_auto_flow": null,
            "grid_auto_rows": null,
            "grid_column": null,
            "grid_gap": null,
            "grid_row": null,
            "grid_template_areas": null,
            "grid_template_columns": null,
            "grid_template_rows": null,
            "height": null,
            "justify_content": null,
            "justify_items": null,
            "left": null,
            "margin": null,
            "max_height": null,
            "max_width": null,
            "min_height": null,
            "min_width": null,
            "object_fit": null,
            "object_position": null,
            "order": null,
            "overflow": null,
            "overflow_x": null,
            "overflow_y": null,
            "padding": null,
            "right": null,
            "top": null,
            "visibility": null,
            "width": null
          }
        },
        "46962a20035a4d3599bd5917ec6b9ccf": {
          "model_module": "@jupyter-widgets/controls",
          "model_name": "DescriptionStyleModel",
          "model_module_version": "1.5.0",
          "state": {
            "_model_module": "@jupyter-widgets/controls",
            "_model_module_version": "1.5.0",
            "_model_name": "DescriptionStyleModel",
            "_view_count": null,
            "_view_module": "@jupyter-widgets/base",
            "_view_module_version": "1.2.0",
            "_view_name": "StyleView",
            "description_width": ""
          }
        },
        "b04312df27304694a18fd2304b20b3e4": {
          "model_module": "@jupyter-widgets/base",
          "model_name": "LayoutModel",
          "model_module_version": "1.2.0",
          "state": {
            "_model_module": "@jupyter-widgets/base",
            "_model_module_version": "1.2.0",
            "_model_name": "LayoutModel",
            "_view_count": null,
            "_view_module": "@jupyter-widgets/base",
            "_view_module_version": "1.2.0",
            "_view_name": "LayoutView",
            "align_content": null,
            "align_items": null,
            "align_self": null,
            "border": null,
            "bottom": null,
            "display": null,
            "flex": null,
            "flex_flow": null,
            "grid_area": null,
            "grid_auto_columns": null,
            "grid_auto_flow": null,
            "grid_auto_rows": null,
            "grid_column": null,
            "grid_gap": null,
            "grid_row": null,
            "grid_template_areas": null,
            "grid_template_columns": null,
            "grid_template_rows": null,
            "height": null,
            "justify_content": null,
            "justify_items": null,
            "left": null,
            "margin": null,
            "max_height": null,
            "max_width": null,
            "min_height": null,
            "min_width": null,
            "object_fit": null,
            "object_position": null,
            "order": null,
            "overflow": null,
            "overflow_x": null,
            "overflow_y": null,
            "padding": null,
            "right": null,
            "top": null,
            "visibility": null,
            "width": null
          }
        },
        "68fb6902a20d4191a08d9b5453b10fbb": {
          "model_module": "@jupyter-widgets/controls",
          "model_name": "ProgressStyleModel",
          "model_module_version": "1.5.0",
          "state": {
            "_model_module": "@jupyter-widgets/controls",
            "_model_module_version": "1.5.0",
            "_model_name": "ProgressStyleModel",
            "_view_count": null,
            "_view_module": "@jupyter-widgets/base",
            "_view_module_version": "1.2.0",
            "_view_name": "StyleView",
            "bar_color": null,
            "description_width": ""
          }
        },
        "d0bead7fbf714196a66a14ebe6be3b98": {
          "model_module": "@jupyter-widgets/base",
          "model_name": "LayoutModel",
          "model_module_version": "1.2.0",
          "state": {
            "_model_module": "@jupyter-widgets/base",
            "_model_module_version": "1.2.0",
            "_model_name": "LayoutModel",
            "_view_count": null,
            "_view_module": "@jupyter-widgets/base",
            "_view_module_version": "1.2.0",
            "_view_name": "LayoutView",
            "align_content": null,
            "align_items": null,
            "align_self": null,
            "border": null,
            "bottom": null,
            "display": null,
            "flex": null,
            "flex_flow": null,
            "grid_area": null,
            "grid_auto_columns": null,
            "grid_auto_flow": null,
            "grid_auto_rows": null,
            "grid_column": null,
            "grid_gap": null,
            "grid_row": null,
            "grid_template_areas": null,
            "grid_template_columns": null,
            "grid_template_rows": null,
            "height": null,
            "justify_content": null,
            "justify_items": null,
            "left": null,
            "margin": null,
            "max_height": null,
            "max_width": null,
            "min_height": null,
            "min_width": null,
            "object_fit": null,
            "object_position": null,
            "order": null,
            "overflow": null,
            "overflow_x": null,
            "overflow_y": null,
            "padding": null,
            "right": null,
            "top": null,
            "visibility": null,
            "width": null
          }
        },
        "a7699ea8ff6240d0a33f8a0dee80bad0": {
          "model_module": "@jupyter-widgets/controls",
          "model_name": "DescriptionStyleModel",
          "model_module_version": "1.5.0",
          "state": {
            "_model_module": "@jupyter-widgets/controls",
            "_model_module_version": "1.5.0",
            "_model_name": "DescriptionStyleModel",
            "_view_count": null,
            "_view_module": "@jupyter-widgets/base",
            "_view_module_version": "1.2.0",
            "_view_name": "StyleView",
            "description_width": ""
          }
        },
        "fe3e1cc8f0d54764970a5199b0aa62cb": {
          "model_module": "@jupyter-widgets/controls",
          "model_name": "HBoxModel",
          "model_module_version": "1.5.0",
          "state": {
            "_dom_classes": [],
            "_model_module": "@jupyter-widgets/controls",
            "_model_module_version": "1.5.0",
            "_model_name": "HBoxModel",
            "_view_count": null,
            "_view_module": "@jupyter-widgets/controls",
            "_view_module_version": "1.5.0",
            "_view_name": "HBoxView",
            "box_style": "",
            "children": [
              "IPY_MODEL_8560469a90a849b2a06eb97d1b8d99c2",
              "IPY_MODEL_24227425e90748f89fd3af1010b8c852",
              "IPY_MODEL_b825361d9ca748c9a89eb285c4b325eb"
            ],
            "layout": "IPY_MODEL_1e24dfe11c054c97990421120a7dee23"
          }
        },
        "8560469a90a849b2a06eb97d1b8d99c2": {
          "model_module": "@jupyter-widgets/controls",
          "model_name": "HTMLModel",
          "model_module_version": "1.5.0",
          "state": {
            "_dom_classes": [],
            "_model_module": "@jupyter-widgets/controls",
            "_model_module_version": "1.5.0",
            "_model_name": "HTMLModel",
            "_view_count": null,
            "_view_module": "@jupyter-widgets/controls",
            "_view_module_version": "1.5.0",
            "_view_name": "HTMLView",
            "description": "",
            "description_tooltip": null,
            "layout": "IPY_MODEL_6d803805cf9b4c5da8cbe55e8c9c82fc",
            "placeholder": "​",
            "style": "IPY_MODEL_d2180f962697436dbb39e256668a52e1",
            "value": "tokenizer.json: 100%"
          }
        },
        "24227425e90748f89fd3af1010b8c852": {
          "model_module": "@jupyter-widgets/controls",
          "model_name": "FloatProgressModel",
          "model_module_version": "1.5.0",
          "state": {
            "_dom_classes": [],
            "_model_module": "@jupyter-widgets/controls",
            "_model_module_version": "1.5.0",
            "_model_name": "FloatProgressModel",
            "_view_count": null,
            "_view_module": "@jupyter-widgets/controls",
            "_view_module_version": "1.5.0",
            "_view_name": "ProgressView",
            "bar_style": "success",
            "description": "",
            "description_tooltip": null,
            "layout": "IPY_MODEL_11c17c7aa92d4c3693e1b46622b05d6f",
            "max": 1311010,
            "min": 0,
            "orientation": "horizontal",
            "style": "IPY_MODEL_2aa4ddd58c794d94b91d69e0dc5e0267",
            "value": 1311010
          }
        },
        "b825361d9ca748c9a89eb285c4b325eb": {
          "model_module": "@jupyter-widgets/controls",
          "model_name": "HTMLModel",
          "model_module_version": "1.5.0",
          "state": {
            "_dom_classes": [],
            "_model_module": "@jupyter-widgets/controls",
            "_model_module_version": "1.5.0",
            "_model_name": "HTMLModel",
            "_view_count": null,
            "_view_module": "@jupyter-widgets/controls",
            "_view_module_version": "1.5.0",
            "_view_name": "HTMLView",
            "description": "",
            "description_tooltip": null,
            "layout": "IPY_MODEL_fe79d1f804de4f3aa19d4ecf85a6474c",
            "placeholder": "​",
            "style": "IPY_MODEL_71e02a315d46423eab73feb19822b262",
            "value": " 1.31M/1.31M [00:00&lt;00:00, 14.9MB/s]"
          }
        },
        "1e24dfe11c054c97990421120a7dee23": {
          "model_module": "@jupyter-widgets/base",
          "model_name": "LayoutModel",
          "model_module_version": "1.2.0",
          "state": {
            "_model_module": "@jupyter-widgets/base",
            "_model_module_version": "1.2.0",
            "_model_name": "LayoutModel",
            "_view_count": null,
            "_view_module": "@jupyter-widgets/base",
            "_view_module_version": "1.2.0",
            "_view_name": "LayoutView",
            "align_content": null,
            "align_items": null,
            "align_self": null,
            "border": null,
            "bottom": null,
            "display": null,
            "flex": null,
            "flex_flow": null,
            "grid_area": null,
            "grid_auto_columns": null,
            "grid_auto_flow": null,
            "grid_auto_rows": null,
            "grid_column": null,
            "grid_gap": null,
            "grid_row": null,
            "grid_template_areas": null,
            "grid_template_columns": null,
            "grid_template_rows": null,
            "height": null,
            "justify_content": null,
            "justify_items": null,
            "left": null,
            "margin": null,
            "max_height": null,
            "max_width": null,
            "min_height": null,
            "min_width": null,
            "object_fit": null,
            "object_position": null,
            "order": null,
            "overflow": null,
            "overflow_x": null,
            "overflow_y": null,
            "padding": null,
            "right": null,
            "top": null,
            "visibility": null,
            "width": null
          }
        },
        "6d803805cf9b4c5da8cbe55e8c9c82fc": {
          "model_module": "@jupyter-widgets/base",
          "model_name": "LayoutModel",
          "model_module_version": "1.2.0",
          "state": {
            "_model_module": "@jupyter-widgets/base",
            "_model_module_version": "1.2.0",
            "_model_name": "LayoutModel",
            "_view_count": null,
            "_view_module": "@jupyter-widgets/base",
            "_view_module_version": "1.2.0",
            "_view_name": "LayoutView",
            "align_content": null,
            "align_items": null,
            "align_self": null,
            "border": null,
            "bottom": null,
            "display": null,
            "flex": null,
            "flex_flow": null,
            "grid_area": null,
            "grid_auto_columns": null,
            "grid_auto_flow": null,
            "grid_auto_rows": null,
            "grid_column": null,
            "grid_gap": null,
            "grid_row": null,
            "grid_template_areas": null,
            "grid_template_columns": null,
            "grid_template_rows": null,
            "height": null,
            "justify_content": null,
            "justify_items": null,
            "left": null,
            "margin": null,
            "max_height": null,
            "max_width": null,
            "min_height": null,
            "min_width": null,
            "object_fit": null,
            "object_position": null,
            "order": null,
            "overflow": null,
            "overflow_x": null,
            "overflow_y": null,
            "padding": null,
            "right": null,
            "top": null,
            "visibility": null,
            "width": null
          }
        },
        "d2180f962697436dbb39e256668a52e1": {
          "model_module": "@jupyter-widgets/controls",
          "model_name": "DescriptionStyleModel",
          "model_module_version": "1.5.0",
          "state": {
            "_model_module": "@jupyter-widgets/controls",
            "_model_module_version": "1.5.0",
            "_model_name": "DescriptionStyleModel",
            "_view_count": null,
            "_view_module": "@jupyter-widgets/base",
            "_view_module_version": "1.2.0",
            "_view_name": "StyleView",
            "description_width": ""
          }
        },
        "11c17c7aa92d4c3693e1b46622b05d6f": {
          "model_module": "@jupyter-widgets/base",
          "model_name": "LayoutModel",
          "model_module_version": "1.2.0",
          "state": {
            "_model_module": "@jupyter-widgets/base",
            "_model_module_version": "1.2.0",
            "_model_name": "LayoutModel",
            "_view_count": null,
            "_view_module": "@jupyter-widgets/base",
            "_view_module_version": "1.2.0",
            "_view_name": "LayoutView",
            "align_content": null,
            "align_items": null,
            "align_self": null,
            "border": null,
            "bottom": null,
            "display": null,
            "flex": null,
            "flex_flow": null,
            "grid_area": null,
            "grid_auto_columns": null,
            "grid_auto_flow": null,
            "grid_auto_rows": null,
            "grid_column": null,
            "grid_gap": null,
            "grid_row": null,
            "grid_template_areas": null,
            "grid_template_columns": null,
            "grid_template_rows": null,
            "height": null,
            "justify_content": null,
            "justify_items": null,
            "left": null,
            "margin": null,
            "max_height": null,
            "max_width": null,
            "min_height": null,
            "min_width": null,
            "object_fit": null,
            "object_position": null,
            "order": null,
            "overflow": null,
            "overflow_x": null,
            "overflow_y": null,
            "padding": null,
            "right": null,
            "top": null,
            "visibility": null,
            "width": null
          }
        },
        "2aa4ddd58c794d94b91d69e0dc5e0267": {
          "model_module": "@jupyter-widgets/controls",
          "model_name": "ProgressStyleModel",
          "model_module_version": "1.5.0",
          "state": {
            "_model_module": "@jupyter-widgets/controls",
            "_model_module_version": "1.5.0",
            "_model_name": "ProgressStyleModel",
            "_view_count": null,
            "_view_module": "@jupyter-widgets/base",
            "_view_module_version": "1.2.0",
            "_view_name": "StyleView",
            "bar_color": null,
            "description_width": ""
          }
        },
        "fe79d1f804de4f3aa19d4ecf85a6474c": {
          "model_module": "@jupyter-widgets/base",
          "model_name": "LayoutModel",
          "model_module_version": "1.2.0",
          "state": {
            "_model_module": "@jupyter-widgets/base",
            "_model_module_version": "1.2.0",
            "_model_name": "LayoutModel",
            "_view_count": null,
            "_view_module": "@jupyter-widgets/base",
            "_view_module_version": "1.2.0",
            "_view_name": "LayoutView",
            "align_content": null,
            "align_items": null,
            "align_self": null,
            "border": null,
            "bottom": null,
            "display": null,
            "flex": null,
            "flex_flow": null,
            "grid_area": null,
            "grid_auto_columns": null,
            "grid_auto_flow": null,
            "grid_auto_rows": null,
            "grid_column": null,
            "grid_gap": null,
            "grid_row": null,
            "grid_template_areas": null,
            "grid_template_columns": null,
            "grid_template_rows": null,
            "height": null,
            "justify_content": null,
            "justify_items": null,
            "left": null,
            "margin": null,
            "max_height": null,
            "max_width": null,
            "min_height": null,
            "min_width": null,
            "object_fit": null,
            "object_position": null,
            "order": null,
            "overflow": null,
            "overflow_x": null,
            "overflow_y": null,
            "padding": null,
            "right": null,
            "top": null,
            "visibility": null,
            "width": null
          }
        },
        "71e02a315d46423eab73feb19822b262": {
          "model_module": "@jupyter-widgets/controls",
          "model_name": "DescriptionStyleModel",
          "model_module_version": "1.5.0",
          "state": {
            "_model_module": "@jupyter-widgets/controls",
            "_model_module_version": "1.5.0",
            "_model_name": "DescriptionStyleModel",
            "_view_count": null,
            "_view_module": "@jupyter-widgets/base",
            "_view_module_version": "1.2.0",
            "_view_name": "StyleView",
            "description_width": ""
          }
        },
        "d62e63bf011a494e9d28bb112a8b85df": {
          "model_module": "@jupyter-widgets/controls",
          "model_name": "HBoxModel",
          "model_module_version": "1.5.0",
          "state": {
            "_dom_classes": [],
            "_model_module": "@jupyter-widgets/controls",
            "_model_module_version": "1.5.0",
            "_model_name": "HBoxModel",
            "_view_count": null,
            "_view_module": "@jupyter-widgets/controls",
            "_view_module_version": "1.5.0",
            "_view_name": "HBoxView",
            "box_style": "",
            "children": [
              "IPY_MODEL_993c876477084a539563fd28cd37bfa3",
              "IPY_MODEL_b16e3a4d1d6642f6a0c1f0578b32468c",
              "IPY_MODEL_154634e73f54480eb6c75581ecc2ca67"
            ],
            "layout": "IPY_MODEL_022c439f6e4e45f89e97a6564d8f29f4"
          }
        },
        "993c876477084a539563fd28cd37bfa3": {
          "model_module": "@jupyter-widgets/controls",
          "model_name": "HTMLModel",
          "model_module_version": "1.5.0",
          "state": {
            "_dom_classes": [],
            "_model_module": "@jupyter-widgets/controls",
            "_model_module_version": "1.5.0",
            "_model_name": "HTMLModel",
            "_view_count": null,
            "_view_module": "@jupyter-widgets/controls",
            "_view_module_version": "1.5.0",
            "_view_name": "HTMLView",
            "description": "",
            "description_tooltip": null,
            "layout": "IPY_MODEL_fca319c8a47347669e2e077df4cddda5",
            "placeholder": "​",
            "style": "IPY_MODEL_79e93167a4f24bb5ab81ff22c6a136b6",
            "value": "special_tokens_map.json: 100%"
          }
        },
        "b16e3a4d1d6642f6a0c1f0578b32468c": {
          "model_module": "@jupyter-widgets/controls",
          "model_name": "FloatProgressModel",
          "model_module_version": "1.5.0",
          "state": {
            "_dom_classes": [],
            "_model_module": "@jupyter-widgets/controls",
            "_model_module_version": "1.5.0",
            "_model_name": "FloatProgressModel",
            "_view_count": null,
            "_view_module": "@jupyter-widgets/controls",
            "_view_module_version": "1.5.0",
            "_view_name": "ProgressView",
            "bar_style": "success",
            "description": "",
            "description_tooltip": null,
            "layout": "IPY_MODEL_3c8c7560af11409f8de7a817634970bc",
            "max": 245,
            "min": 0,
            "orientation": "horizontal",
            "style": "IPY_MODEL_dc6b129c2a4a4ca3ab17097b7b35507f",
            "value": 245
          }
        },
        "154634e73f54480eb6c75581ecc2ca67": {
          "model_module": "@jupyter-widgets/controls",
          "model_name": "HTMLModel",
          "model_module_version": "1.5.0",
          "state": {
            "_dom_classes": [],
            "_model_module": "@jupyter-widgets/controls",
            "_model_module_version": "1.5.0",
            "_model_name": "HTMLModel",
            "_view_count": null,
            "_view_module": "@jupyter-widgets/controls",
            "_view_module_version": "1.5.0",
            "_view_name": "HTMLView",
            "description": "",
            "description_tooltip": null,
            "layout": "IPY_MODEL_adc83888d74348a180bc196d8f1a9fcf",
            "placeholder": "​",
            "style": "IPY_MODEL_3c94b0e74e1947fbb71c2f63f06fa0e8",
            "value": " 245/245 [00:00&lt;00:00, 10.7kB/s]"
          }
        },
        "022c439f6e4e45f89e97a6564d8f29f4": {
          "model_module": "@jupyter-widgets/base",
          "model_name": "LayoutModel",
          "model_module_version": "1.2.0",
          "state": {
            "_model_module": "@jupyter-widgets/base",
            "_model_module_version": "1.2.0",
            "_model_name": "LayoutModel",
            "_view_count": null,
            "_view_module": "@jupyter-widgets/base",
            "_view_module_version": "1.2.0",
            "_view_name": "LayoutView",
            "align_content": null,
            "align_items": null,
            "align_self": null,
            "border": null,
            "bottom": null,
            "display": null,
            "flex": null,
            "flex_flow": null,
            "grid_area": null,
            "grid_auto_columns": null,
            "grid_auto_flow": null,
            "grid_auto_rows": null,
            "grid_column": null,
            "grid_gap": null,
            "grid_row": null,
            "grid_template_areas": null,
            "grid_template_columns": null,
            "grid_template_rows": null,
            "height": null,
            "justify_content": null,
            "justify_items": null,
            "left": null,
            "margin": null,
            "max_height": null,
            "max_width": null,
            "min_height": null,
            "min_width": null,
            "object_fit": null,
            "object_position": null,
            "order": null,
            "overflow": null,
            "overflow_x": null,
            "overflow_y": null,
            "padding": null,
            "right": null,
            "top": null,
            "visibility": null,
            "width": null
          }
        },
        "fca319c8a47347669e2e077df4cddda5": {
          "model_module": "@jupyter-widgets/base",
          "model_name": "LayoutModel",
          "model_module_version": "1.2.0",
          "state": {
            "_model_module": "@jupyter-widgets/base",
            "_model_module_version": "1.2.0",
            "_model_name": "LayoutModel",
            "_view_count": null,
            "_view_module": "@jupyter-widgets/base",
            "_view_module_version": "1.2.0",
            "_view_name": "LayoutView",
            "align_content": null,
            "align_items": null,
            "align_self": null,
            "border": null,
            "bottom": null,
            "display": null,
            "flex": null,
            "flex_flow": null,
            "grid_area": null,
            "grid_auto_columns": null,
            "grid_auto_flow": null,
            "grid_auto_rows": null,
            "grid_column": null,
            "grid_gap": null,
            "grid_row": null,
            "grid_template_areas": null,
            "grid_template_columns": null,
            "grid_template_rows": null,
            "height": null,
            "justify_content": null,
            "justify_items": null,
            "left": null,
            "margin": null,
            "max_height": null,
            "max_width": null,
            "min_height": null,
            "min_width": null,
            "object_fit": null,
            "object_position": null,
            "order": null,
            "overflow": null,
            "overflow_x": null,
            "overflow_y": null,
            "padding": null,
            "right": null,
            "top": null,
            "visibility": null,
            "width": null
          }
        },
        "79e93167a4f24bb5ab81ff22c6a136b6": {
          "model_module": "@jupyter-widgets/controls",
          "model_name": "DescriptionStyleModel",
          "model_module_version": "1.5.0",
          "state": {
            "_model_module": "@jupyter-widgets/controls",
            "_model_module_version": "1.5.0",
            "_model_name": "DescriptionStyleModel",
            "_view_count": null,
            "_view_module": "@jupyter-widgets/base",
            "_view_module_version": "1.2.0",
            "_view_name": "StyleView",
            "description_width": ""
          }
        },
        "3c8c7560af11409f8de7a817634970bc": {
          "model_module": "@jupyter-widgets/base",
          "model_name": "LayoutModel",
          "model_module_version": "1.2.0",
          "state": {
            "_model_module": "@jupyter-widgets/base",
            "_model_module_version": "1.2.0",
            "_model_name": "LayoutModel",
            "_view_count": null,
            "_view_module": "@jupyter-widgets/base",
            "_view_module_version": "1.2.0",
            "_view_name": "LayoutView",
            "align_content": null,
            "align_items": null,
            "align_self": null,
            "border": null,
            "bottom": null,
            "display": null,
            "flex": null,
            "flex_flow": null,
            "grid_area": null,
            "grid_auto_columns": null,
            "grid_auto_flow": null,
            "grid_auto_rows": null,
            "grid_column": null,
            "grid_gap": null,
            "grid_row": null,
            "grid_template_areas": null,
            "grid_template_columns": null,
            "grid_template_rows": null,
            "height": null,
            "justify_content": null,
            "justify_items": null,
            "left": null,
            "margin": null,
            "max_height": null,
            "max_width": null,
            "min_height": null,
            "min_width": null,
            "object_fit": null,
            "object_position": null,
            "order": null,
            "overflow": null,
            "overflow_x": null,
            "overflow_y": null,
            "padding": null,
            "right": null,
            "top": null,
            "visibility": null,
            "width": null
          }
        },
        "dc6b129c2a4a4ca3ab17097b7b35507f": {
          "model_module": "@jupyter-widgets/controls",
          "model_name": "ProgressStyleModel",
          "model_module_version": "1.5.0",
          "state": {
            "_model_module": "@jupyter-widgets/controls",
            "_model_module_version": "1.5.0",
            "_model_name": "ProgressStyleModel",
            "_view_count": null,
            "_view_module": "@jupyter-widgets/base",
            "_view_module_version": "1.2.0",
            "_view_name": "StyleView",
            "bar_color": null,
            "description_width": ""
          }
        },
        "adc83888d74348a180bc196d8f1a9fcf": {
          "model_module": "@jupyter-widgets/base",
          "model_name": "LayoutModel",
          "model_module_version": "1.2.0",
          "state": {
            "_model_module": "@jupyter-widgets/base",
            "_model_module_version": "1.2.0",
            "_model_name": "LayoutModel",
            "_view_count": null,
            "_view_module": "@jupyter-widgets/base",
            "_view_module_version": "1.2.0",
            "_view_name": "LayoutView",
            "align_content": null,
            "align_items": null,
            "align_self": null,
            "border": null,
            "bottom": null,
            "display": null,
            "flex": null,
            "flex_flow": null,
            "grid_area": null,
            "grid_auto_columns": null,
            "grid_auto_flow": null,
            "grid_auto_rows": null,
            "grid_column": null,
            "grid_gap": null,
            "grid_row": null,
            "grid_template_areas": null,
            "grid_template_columns": null,
            "grid_template_rows": null,
            "height": null,
            "justify_content": null,
            "justify_items": null,
            "left": null,
            "margin": null,
            "max_height": null,
            "max_width": null,
            "min_height": null,
            "min_width": null,
            "object_fit": null,
            "object_position": null,
            "order": null,
            "overflow": null,
            "overflow_x": null,
            "overflow_y": null,
            "padding": null,
            "right": null,
            "top": null,
            "visibility": null,
            "width": null
          }
        },
        "3c94b0e74e1947fbb71c2f63f06fa0e8": {
          "model_module": "@jupyter-widgets/controls",
          "model_name": "DescriptionStyleModel",
          "model_module_version": "1.5.0",
          "state": {
            "_model_module": "@jupyter-widgets/controls",
            "_model_module_version": "1.5.0",
            "_model_name": "DescriptionStyleModel",
            "_view_count": null,
            "_view_module": "@jupyter-widgets/base",
            "_view_module_version": "1.2.0",
            "_view_name": "StyleView",
            "description_width": ""
          }
        },
        "769fd8194b434b42a2dd16ee5aed4925": {
          "model_module": "@jupyter-widgets/controls",
          "model_name": "HBoxModel",
          "model_module_version": "1.5.0",
          "state": {
            "_dom_classes": [],
            "_model_module": "@jupyter-widgets/controls",
            "_model_module_version": "1.5.0",
            "_model_name": "HBoxModel",
            "_view_count": null,
            "_view_module": "@jupyter-widgets/controls",
            "_view_module_version": "1.5.0",
            "_view_name": "HBoxView",
            "box_style": "",
            "children": [
              "IPY_MODEL_9edf1e312f674c14956f57efc164e9e0",
              "IPY_MODEL_bc65bfb94f434c098630365d38b947d7",
              "IPY_MODEL_1d2b887efb5e46ac9317dc60aef6208d"
            ],
            "layout": "IPY_MODEL_128bd191caab4a9dae5e70bf48e07b53"
          }
        },
        "9edf1e312f674c14956f57efc164e9e0": {
          "model_module": "@jupyter-widgets/controls",
          "model_name": "HTMLModel",
          "model_module_version": "1.5.0",
          "state": {
            "_dom_classes": [],
            "_model_module": "@jupyter-widgets/controls",
            "_model_module_version": "1.5.0",
            "_model_name": "HTMLModel",
            "_view_count": null,
            "_view_module": "@jupyter-widgets/controls",
            "_view_module_version": "1.5.0",
            "_view_name": "HTMLView",
            "description": "",
            "description_tooltip": null,
            "layout": "IPY_MODEL_2e3d593cf552457fab014f581cb6884a",
            "placeholder": "​",
            "style": "IPY_MODEL_0e9647d0307c4342b9a6b9c7f6f41307",
            "value": "model.onnx: 100%"
          }
        },
        "bc65bfb94f434c098630365d38b947d7": {
          "model_module": "@jupyter-widgets/controls",
          "model_name": "FloatProgressModel",
          "model_module_version": "1.5.0",
          "state": {
            "_dom_classes": [],
            "_model_module": "@jupyter-widgets/controls",
            "_model_module_version": "1.5.0",
            "_model_name": "FloatProgressModel",
            "_view_count": null,
            "_view_module": "@jupyter-widgets/controls",
            "_view_module_version": "1.5.0",
            "_view_name": "ProgressView",
            "bar_style": "success",
            "description": "",
            "description_tooltip": null,
            "layout": "IPY_MODEL_1ddb282ca0b94414a3d53ab9636d7f86",
            "max": 46865550,
            "min": 0,
            "orientation": "horizontal",
            "style": "IPY_MODEL_fec2cf79a5c04d43a953982c83d5a095",
            "value": 46865550
          }
        },
        "1d2b887efb5e46ac9317dc60aef6208d": {
          "model_module": "@jupyter-widgets/controls",
          "model_name": "HTMLModel",
          "model_module_version": "1.5.0",
          "state": {
            "_dom_classes": [],
            "_model_module": "@jupyter-widgets/controls",
            "_model_module_version": "1.5.0",
            "_model_name": "HTMLModel",
            "_view_count": null,
            "_view_module": "@jupyter-widgets/controls",
            "_view_module_version": "1.5.0",
            "_view_name": "HTMLView",
            "description": "",
            "description_tooltip": null,
            "layout": "IPY_MODEL_b220adb1bf6044b8bd3e04944f5bf5d5",
            "placeholder": "​",
            "style": "IPY_MODEL_3d2e3dee401b4ea18fd8b309206ee9b7",
            "value": " 46.9M/46.9M [00:00&lt;00:00, 174MB/s]"
          }
        },
        "128bd191caab4a9dae5e70bf48e07b53": {
          "model_module": "@jupyter-widgets/base",
          "model_name": "LayoutModel",
          "model_module_version": "1.2.0",
          "state": {
            "_model_module": "@jupyter-widgets/base",
            "_model_module_version": "1.2.0",
            "_model_name": "LayoutModel",
            "_view_count": null,
            "_view_module": "@jupyter-widgets/base",
            "_view_module_version": "1.2.0",
            "_view_name": "LayoutView",
            "align_content": null,
            "align_items": null,
            "align_self": null,
            "border": null,
            "bottom": null,
            "display": null,
            "flex": null,
            "flex_flow": null,
            "grid_area": null,
            "grid_auto_columns": null,
            "grid_auto_flow": null,
            "grid_auto_rows": null,
            "grid_column": null,
            "grid_gap": null,
            "grid_row": null,
            "grid_template_areas": null,
            "grid_template_columns": null,
            "grid_template_rows": null,
            "height": null,
            "justify_content": null,
            "justify_items": null,
            "left": null,
            "margin": null,
            "max_height": null,
            "max_width": null,
            "min_height": null,
            "min_width": null,
            "object_fit": null,
            "object_position": null,
            "order": null,
            "overflow": null,
            "overflow_x": null,
            "overflow_y": null,
            "padding": null,
            "right": null,
            "top": null,
            "visibility": null,
            "width": null
          }
        },
        "2e3d593cf552457fab014f581cb6884a": {
          "model_module": "@jupyter-widgets/base",
          "model_name": "LayoutModel",
          "model_module_version": "1.2.0",
          "state": {
            "_model_module": "@jupyter-widgets/base",
            "_model_module_version": "1.2.0",
            "_model_name": "LayoutModel",
            "_view_count": null,
            "_view_module": "@jupyter-widgets/base",
            "_view_module_version": "1.2.0",
            "_view_name": "LayoutView",
            "align_content": null,
            "align_items": null,
            "align_self": null,
            "border": null,
            "bottom": null,
            "display": null,
            "flex": null,
            "flex_flow": null,
            "grid_area": null,
            "grid_auto_columns": null,
            "grid_auto_flow": null,
            "grid_auto_rows": null,
            "grid_column": null,
            "grid_gap": null,
            "grid_row": null,
            "grid_template_areas": null,
            "grid_template_columns": null,
            "grid_template_rows": null,
            "height": null,
            "justify_content": null,
            "justify_items": null,
            "left": null,
            "margin": null,
            "max_height": null,
            "max_width": null,
            "min_height": null,
            "min_width": null,
            "object_fit": null,
            "object_position": null,
            "order": null,
            "overflow": null,
            "overflow_x": null,
            "overflow_y": null,
            "padding": null,
            "right": null,
            "top": null,
            "visibility": null,
            "width": null
          }
        },
        "0e9647d0307c4342b9a6b9c7f6f41307": {
          "model_module": "@jupyter-widgets/controls",
          "model_name": "DescriptionStyleModel",
          "model_module_version": "1.5.0",
          "state": {
            "_model_module": "@jupyter-widgets/controls",
            "_model_module_version": "1.5.0",
            "_model_name": "DescriptionStyleModel",
            "_view_count": null,
            "_view_module": "@jupyter-widgets/base",
            "_view_module_version": "1.2.0",
            "_view_name": "StyleView",
            "description_width": ""
          }
        },
        "1ddb282ca0b94414a3d53ab9636d7f86": {
          "model_module": "@jupyter-widgets/base",
          "model_name": "LayoutModel",
          "model_module_version": "1.2.0",
          "state": {
            "_model_module": "@jupyter-widgets/base",
            "_model_module_version": "1.2.0",
            "_model_name": "LayoutModel",
            "_view_count": null,
            "_view_module": "@jupyter-widgets/base",
            "_view_module_version": "1.2.0",
            "_view_name": "LayoutView",
            "align_content": null,
            "align_items": null,
            "align_self": null,
            "border": null,
            "bottom": null,
            "display": null,
            "flex": null,
            "flex_flow": null,
            "grid_area": null,
            "grid_auto_columns": null,
            "grid_auto_flow": null,
            "grid_auto_rows": null,
            "grid_column": null,
            "grid_gap": null,
            "grid_row": null,
            "grid_template_areas": null,
            "grid_template_columns": null,
            "grid_template_rows": null,
            "height": null,
            "justify_content": null,
            "justify_items": null,
            "left": null,
            "margin": null,
            "max_height": null,
            "max_width": null,
            "min_height": null,
            "min_width": null,
            "object_fit": null,
            "object_position": null,
            "order": null,
            "overflow": null,
            "overflow_x": null,
            "overflow_y": null,
            "padding": null,
            "right": null,
            "top": null,
            "visibility": null,
            "width": null
          }
        },
        "fec2cf79a5c04d43a953982c83d5a095": {
          "model_module": "@jupyter-widgets/controls",
          "model_name": "ProgressStyleModel",
          "model_module_version": "1.5.0",
          "state": {
            "_model_module": "@jupyter-widgets/controls",
            "_model_module_version": "1.5.0",
            "_model_name": "ProgressStyleModel",
            "_view_count": null,
            "_view_module": "@jupyter-widgets/base",
            "_view_module_version": "1.2.0",
            "_view_name": "StyleView",
            "bar_color": null,
            "description_width": ""
          }
        },
        "b220adb1bf6044b8bd3e04944f5bf5d5": {
          "model_module": "@jupyter-widgets/base",
          "model_name": "LayoutModel",
          "model_module_version": "1.2.0",
          "state": {
            "_model_module": "@jupyter-widgets/base",
            "_model_module_version": "1.2.0",
            "_model_name": "LayoutModel",
            "_view_count": null,
            "_view_module": "@jupyter-widgets/base",
            "_view_module_version": "1.2.0",
            "_view_name": "LayoutView",
            "align_content": null,
            "align_items": null,
            "align_self": null,
            "border": null,
            "bottom": null,
            "display": null,
            "flex": null,
            "flex_flow": null,
            "grid_area": null,
            "grid_auto_columns": null,
            "grid_auto_flow": null,
            "grid_auto_rows": null,
            "grid_column": null,
            "grid_gap": null,
            "grid_row": null,
            "grid_template_areas": null,
            "grid_template_columns": null,
            "grid_template_rows": null,
            "height": null,
            "justify_content": null,
            "justify_items": null,
            "left": null,
            "margin": null,
            "max_height": null,
            "max_width": null,
            "min_height": null,
            "min_width": null,
            "object_fit": null,
            "object_position": null,
            "order": null,
            "overflow": null,
            "overflow_x": null,
            "overflow_y": null,
            "padding": null,
            "right": null,
            "top": null,
            "visibility": null,
            "width": null
          }
        },
        "3d2e3dee401b4ea18fd8b309206ee9b7": {
          "model_module": "@jupyter-widgets/controls",
          "model_name": "DescriptionStyleModel",
          "model_module_version": "1.5.0",
          "state": {
            "_model_module": "@jupyter-widgets/controls",
            "_model_module_version": "1.5.0",
            "_model_name": "DescriptionStyleModel",
            "_view_count": null,
            "_view_module": "@jupyter-widgets/base",
            "_view_module_version": "1.2.0",
            "_view_name": "StyleView",
            "description_width": ""
          }
        }
      }
    }
  },
  "cells": [
    {
      "cell_type": "code",
      "source": [
        "!pip install -U pymilvus"
      ],
      "metadata": {
        "colab": {
          "base_uri": "https://localhost:8080/"
        },
        "id": "f9vw8jRXZUac",
        "outputId": "c29b7eb6-cc2d-4a99-c639-b0e633772f32"
      },
      "execution_count": 1,
      "outputs": [
        {
          "output_type": "stream",
          "name": "stdout",
          "text": [
            "Collecting pymilvus\n",
            "  Downloading pymilvus-2.5.3-py3-none-any.whl.metadata (5.7 kB)\n",
            "Requirement already satisfied: setuptools>69 in /usr/local/lib/python3.10/dist-packages (from pymilvus) (75.1.0)\n",
            "Collecting grpcio<=1.67.1,>=1.49.1 (from pymilvus)\n",
            "  Downloading grpcio-1.67.1-cp310-cp310-manylinux_2_17_x86_64.manylinux2014_x86_64.whl.metadata (3.9 kB)\n",
            "Requirement already satisfied: protobuf>=3.20.0 in /usr/local/lib/python3.10/dist-packages (from pymilvus) (4.25.5)\n",
            "Collecting python-dotenv<2.0.0,>=1.0.1 (from pymilvus)\n",
            "  Downloading python_dotenv-1.0.1-py3-none-any.whl.metadata (23 kB)\n",
            "Collecting ujson>=2.0.0 (from pymilvus)\n",
            "  Downloading ujson-5.10.0-cp310-cp310-manylinux_2_17_x86_64.manylinux2014_x86_64.whl.metadata (9.3 kB)\n",
            "Requirement already satisfied: pandas>=1.2.4 in /usr/local/lib/python3.10/dist-packages (from pymilvus) (2.2.2)\n",
            "Collecting milvus-lite>=2.4.0 (from pymilvus)\n",
            "  Downloading milvus_lite-2.4.11-py3-none-manylinux2014_x86_64.whl.metadata (9.2 kB)\n",
            "Requirement already satisfied: tqdm in /usr/local/lib/python3.10/dist-packages (from milvus-lite>=2.4.0->pymilvus) (4.67.1)\n",
            "Requirement already satisfied: numpy>=1.22.4 in /usr/local/lib/python3.10/dist-packages (from pandas>=1.2.4->pymilvus) (1.26.4)\n",
            "Requirement already satisfied: python-dateutil>=2.8.2 in /usr/local/lib/python3.10/dist-packages (from pandas>=1.2.4->pymilvus) (2.8.2)\n",
            "Requirement already satisfied: pytz>=2020.1 in /usr/local/lib/python3.10/dist-packages (from pandas>=1.2.4->pymilvus) (2024.2)\n",
            "Requirement already satisfied: tzdata>=2022.7 in /usr/local/lib/python3.10/dist-packages (from pandas>=1.2.4->pymilvus) (2024.2)\n",
            "Requirement already satisfied: six>=1.5 in /usr/local/lib/python3.10/dist-packages (from python-dateutil>=2.8.2->pandas>=1.2.4->pymilvus) (1.17.0)\n",
            "Downloading pymilvus-2.5.3-py3-none-any.whl (229 kB)\n",
            "\u001b[2K   \u001b[90m━━━━━━━━━━━━━━━━━━━━━━━━━━━━━━━━━━━━━━━━\u001b[0m \u001b[32m229.9/229.9 kB\u001b[0m \u001b[31m4.7 MB/s\u001b[0m eta \u001b[36m0:00:00\u001b[0m\n",
            "\u001b[?25hDownloading grpcio-1.67.1-cp310-cp310-manylinux_2_17_x86_64.manylinux2014_x86_64.whl (5.9 MB)\n",
            "\u001b[2K   \u001b[90m━━━━━━━━━━━━━━━━━━━━━━━━━━━━━━━━━━━━━━━━\u001b[0m \u001b[32m5.9/5.9 MB\u001b[0m \u001b[31m38.6 MB/s\u001b[0m eta \u001b[36m0:00:00\u001b[0m\n",
            "\u001b[?25hDownloading milvus_lite-2.4.11-py3-none-manylinux2014_x86_64.whl (45.2 MB)\n",
            "\u001b[2K   \u001b[90m━━━━━━━━━━━━━━━━━━━━━━━━━━━━━━━━━━━━━━━━\u001b[0m \u001b[32m45.2/45.2 MB\u001b[0m \u001b[31m14.1 MB/s\u001b[0m eta \u001b[36m0:00:00\u001b[0m\n",
            "\u001b[?25hDownloading python_dotenv-1.0.1-py3-none-any.whl (19 kB)\n",
            "Downloading ujson-5.10.0-cp310-cp310-manylinux_2_17_x86_64.manylinux2014_x86_64.whl (53 kB)\n",
            "\u001b[2K   \u001b[90m━━━━━━━━━━━━━━━━━━━━━━━━━━━━━━━━━━━━━━━━\u001b[0m \u001b[32m53.6/53.6 kB\u001b[0m \u001b[31m4.8 MB/s\u001b[0m eta \u001b[36m0:00:00\u001b[0m\n",
            "\u001b[?25hInstalling collected packages: ujson, python-dotenv, milvus-lite, grpcio, pymilvus\n",
            "  Attempting uninstall: grpcio\n",
            "    Found existing installation: grpcio 1.68.1\n",
            "    Uninstalling grpcio-1.68.1:\n",
            "      Successfully uninstalled grpcio-1.68.1\n",
            "Successfully installed grpcio-1.67.1 milvus-lite-2.4.11 pymilvus-2.5.3 python-dotenv-1.0.1 ujson-5.10.0\n"
          ]
        }
      ]
    },
    {
      "cell_type": "markdown",
      "source": [
        "# 创建本地Milvus向量数据库"
      ],
      "metadata": {
        "id": "xk7aoPhiZ_4b"
      }
    },
    {
      "cell_type": "code",
      "source": [
        "from pymilvus import MilvusClient\n",
        "\n",
        "client = MilvusClient(\"milvus_demo.db\")"
      ],
      "metadata": {
        "id": "G33J-RF-ZUdL"
      },
      "execution_count": 2,
      "outputs": []
    },
    {
      "cell_type": "markdown",
      "source": [
        "# 创建Collection\n",
        "\n",
        "在milvus中，我们需要定义一个collection来存储vector和关联的metadata，collection可以理解为传统关系型数据库的table。\n",
        "\n",
        "创建collection需要定义schema、index参数（比如向量维度、index类型和distant指标）。\n",
        "\n",
        "这里进行最小设置：**collection名字**和**collection的向量维度**。"
      ],
      "metadata": {
        "id": "0u0QimbVacD5"
      }
    },
    {
      "cell_type": "code",
      "source": [
        "if client.has_collection(collection_name=\"demo_collection\"):\n",
        "    client.drop_collection(collection_name=\"demo_collection\")\n",
        "client.create_collection(\n",
        "    collection_name=\"demo_collection\",\n",
        "    dimension=768,  # The vectors we will use in this demo has 768 dimensions\n",
        ") # The default of metric type is \"COSINE\"，primary key is \"id\"，vector name is \"vector\""
      ],
      "metadata": {
        "id": "UrV-QBSpZUfJ"
      },
      "execution_count": 3,
      "outputs": []
    },
    {
      "cell_type": "markdown",
      "source": [
        "# 文本表示为向量"
      ],
      "metadata": {
        "id": "Oj7z9gLBdlCN"
      }
    },
    {
      "cell_type": "code",
      "source": [
        "# 安装模型所需的工具，如果没有安装pytorch，那么会下载pytorch\n",
        "!pip install \"pymilvus[model]\""
      ],
      "metadata": {
        "colab": {
          "base_uri": "https://localhost:8080/"
        },
        "id": "b4j4oGVRaXR7",
        "outputId": "2cfe7ab9-cf9e-4565-a0e0-ef576e419a89"
      },
      "execution_count": 4,
      "outputs": [
        {
          "output_type": "stream",
          "name": "stdout",
          "text": [
            "Requirement already satisfied: pymilvus[model] in /usr/local/lib/python3.10/dist-packages (2.5.3)\n",
            "Requirement already satisfied: setuptools>69 in /usr/local/lib/python3.10/dist-packages (from pymilvus[model]) (75.1.0)\n",
            "Requirement already satisfied: grpcio<=1.67.1,>=1.49.1 in /usr/local/lib/python3.10/dist-packages (from pymilvus[model]) (1.67.1)\n",
            "Requirement already satisfied: protobuf>=3.20.0 in /usr/local/lib/python3.10/dist-packages (from pymilvus[model]) (4.25.5)\n",
            "Requirement already satisfied: python-dotenv<2.0.0,>=1.0.1 in /usr/local/lib/python3.10/dist-packages (from pymilvus[model]) (1.0.1)\n",
            "Requirement already satisfied: ujson>=2.0.0 in /usr/local/lib/python3.10/dist-packages (from pymilvus[model]) (5.10.0)\n",
            "Requirement already satisfied: pandas>=1.2.4 in /usr/local/lib/python3.10/dist-packages (from pymilvus[model]) (2.2.2)\n",
            "Requirement already satisfied: milvus-lite>=2.4.0 in /usr/local/lib/python3.10/dist-packages (from pymilvus[model]) (2.4.11)\n",
            "Collecting milvus-model>=0.1.0 (from pymilvus[model])\n",
            "  Downloading milvus_model-0.2.11-py3-none-any.whl.metadata (1.6 kB)\n",
            "Requirement already satisfied: tqdm in /usr/local/lib/python3.10/dist-packages (from milvus-lite>=2.4.0->pymilvus[model]) (4.67.1)\n",
            "Requirement already satisfied: transformers>=4.36.0 in /usr/local/lib/python3.10/dist-packages (from milvus-model>=0.1.0->pymilvus[model]) (4.47.1)\n",
            "Collecting onnxruntime (from milvus-model>=0.1.0->pymilvus[model])\n",
            "  Downloading onnxruntime-1.20.1-cp310-cp310-manylinux_2_27_x86_64.manylinux_2_28_x86_64.whl.metadata (4.5 kB)\n",
            "Requirement already satisfied: scipy>=1.10.0 in /usr/local/lib/python3.10/dist-packages (from milvus-model>=0.1.0->pymilvus[model]) (1.13.1)\n",
            "Requirement already satisfied: numpy in /usr/local/lib/python3.10/dist-packages (from milvus-model>=0.1.0->pymilvus[model]) (1.26.4)\n",
            "Requirement already satisfied: python-dateutil>=2.8.2 in /usr/local/lib/python3.10/dist-packages (from pandas>=1.2.4->pymilvus[model]) (2.8.2)\n",
            "Requirement already satisfied: pytz>=2020.1 in /usr/local/lib/python3.10/dist-packages (from pandas>=1.2.4->pymilvus[model]) (2024.2)\n",
            "Requirement already satisfied: tzdata>=2022.7 in /usr/local/lib/python3.10/dist-packages (from pandas>=1.2.4->pymilvus[model]) (2024.2)\n",
            "Requirement already satisfied: six>=1.5 in /usr/local/lib/python3.10/dist-packages (from python-dateutil>=2.8.2->pandas>=1.2.4->pymilvus[model]) (1.17.0)\n",
            "Requirement already satisfied: filelock in /usr/local/lib/python3.10/dist-packages (from transformers>=4.36.0->milvus-model>=0.1.0->pymilvus[model]) (3.16.1)\n",
            "Requirement already satisfied: huggingface-hub<1.0,>=0.24.0 in /usr/local/lib/python3.10/dist-packages (from transformers>=4.36.0->milvus-model>=0.1.0->pymilvus[model]) (0.27.0)\n",
            "Requirement already satisfied: packaging>=20.0 in /usr/local/lib/python3.10/dist-packages (from transformers>=4.36.0->milvus-model>=0.1.0->pymilvus[model]) (24.2)\n",
            "Requirement already satisfied: pyyaml>=5.1 in /usr/local/lib/python3.10/dist-packages (from transformers>=4.36.0->milvus-model>=0.1.0->pymilvus[model]) (6.0.2)\n",
            "Requirement already satisfied: regex!=2019.12.17 in /usr/local/lib/python3.10/dist-packages (from transformers>=4.36.0->milvus-model>=0.1.0->pymilvus[model]) (2024.11.6)\n",
            "Requirement already satisfied: requests in /usr/local/lib/python3.10/dist-packages (from transformers>=4.36.0->milvus-model>=0.1.0->pymilvus[model]) (2.32.3)\n",
            "Requirement already satisfied: tokenizers<0.22,>=0.21 in /usr/local/lib/python3.10/dist-packages (from transformers>=4.36.0->milvus-model>=0.1.0->pymilvus[model]) (0.21.0)\n",
            "Requirement already satisfied: safetensors>=0.4.1 in /usr/local/lib/python3.10/dist-packages (from transformers>=4.36.0->milvus-model>=0.1.0->pymilvus[model]) (0.4.5)\n",
            "Collecting coloredlogs (from onnxruntime->milvus-model>=0.1.0->pymilvus[model])\n",
            "  Downloading coloredlogs-15.0.1-py2.py3-none-any.whl.metadata (12 kB)\n",
            "Requirement already satisfied: flatbuffers in /usr/local/lib/python3.10/dist-packages (from onnxruntime->milvus-model>=0.1.0->pymilvus[model]) (24.3.25)\n",
            "Requirement already satisfied: sympy in /usr/local/lib/python3.10/dist-packages (from onnxruntime->milvus-model>=0.1.0->pymilvus[model]) (1.13.1)\n",
            "Requirement already satisfied: fsspec>=2023.5.0 in /usr/local/lib/python3.10/dist-packages (from huggingface-hub<1.0,>=0.24.0->transformers>=4.36.0->milvus-model>=0.1.0->pymilvus[model]) (2024.10.0)\n",
            "Requirement already satisfied: typing-extensions>=3.7.4.3 in /usr/local/lib/python3.10/dist-packages (from huggingface-hub<1.0,>=0.24.0->transformers>=4.36.0->milvus-model>=0.1.0->pymilvus[model]) (4.12.2)\n",
            "Collecting humanfriendly>=9.1 (from coloredlogs->onnxruntime->milvus-model>=0.1.0->pymilvus[model])\n",
            "  Downloading humanfriendly-10.0-py2.py3-none-any.whl.metadata (9.2 kB)\n",
            "Requirement already satisfied: charset-normalizer<4,>=2 in /usr/local/lib/python3.10/dist-packages (from requests->transformers>=4.36.0->milvus-model>=0.1.0->pymilvus[model]) (3.4.0)\n",
            "Requirement already satisfied: idna<4,>=2.5 in /usr/local/lib/python3.10/dist-packages (from requests->transformers>=4.36.0->milvus-model>=0.1.0->pymilvus[model]) (3.10)\n",
            "Requirement already satisfied: urllib3<3,>=1.21.1 in /usr/local/lib/python3.10/dist-packages (from requests->transformers>=4.36.0->milvus-model>=0.1.0->pymilvus[model]) (2.2.3)\n",
            "Requirement already satisfied: certifi>=2017.4.17 in /usr/local/lib/python3.10/dist-packages (from requests->transformers>=4.36.0->milvus-model>=0.1.0->pymilvus[model]) (2024.12.14)\n",
            "Requirement already satisfied: mpmath<1.4,>=1.1.0 in /usr/local/lib/python3.10/dist-packages (from sympy->onnxruntime->milvus-model>=0.1.0->pymilvus[model]) (1.3.0)\n",
            "Downloading milvus_model-0.2.11-py3-none-any.whl (42 kB)\n",
            "\u001b[2K   \u001b[90m━━━━━━━━━━━━━━━━━━━━━━━━━━━━━━━━━━━━━━━━\u001b[0m \u001b[32m42.7/42.7 kB\u001b[0m \u001b[31m2.0 MB/s\u001b[0m eta \u001b[36m0:00:00\u001b[0m\n",
            "\u001b[?25hDownloading onnxruntime-1.20.1-cp310-cp310-manylinux_2_27_x86_64.manylinux_2_28_x86_64.whl (13.3 MB)\n",
            "\u001b[2K   \u001b[90m━━━━━━━━━━━━━━━━━━━━━━━━━━━━━━━━━━━━━━━━\u001b[0m \u001b[32m13.3/13.3 MB\u001b[0m \u001b[31m66.7 MB/s\u001b[0m eta \u001b[36m0:00:00\u001b[0m\n",
            "\u001b[?25hDownloading coloredlogs-15.0.1-py2.py3-none-any.whl (46 kB)\n",
            "\u001b[2K   \u001b[90m━━━━━━━━━━━━━━━━━━━━━━━━━━━━━━━━━━━━━━━━\u001b[0m \u001b[32m46.0/46.0 kB\u001b[0m \u001b[31m3.5 MB/s\u001b[0m eta \u001b[36m0:00:00\u001b[0m\n",
            "\u001b[?25hDownloading humanfriendly-10.0-py2.py3-none-any.whl (86 kB)\n",
            "\u001b[2K   \u001b[90m━━━━━━━━━━━━━━━━━━━━━━━━━━━━━━━━━━━━━━━━\u001b[0m \u001b[32m86.8/86.8 kB\u001b[0m \u001b[31m6.8 MB/s\u001b[0m eta \u001b[36m0:00:00\u001b[0m\n",
            "\u001b[?25hInstalling collected packages: humanfriendly, coloredlogs, onnxruntime, milvus-model\n",
            "Successfully installed coloredlogs-15.0.1 humanfriendly-10.0 milvus-model-0.2.11 onnxruntime-1.20.1\n"
          ]
        }
      ]
    },
    {
      "cell_type": "markdown",
      "source": [
        "使用默认Embedding模型生成向量，milvus需要的数据格式是一个list，其中每个元素都是一个数据记录"
      ],
      "metadata": {
        "id": "Tq4fVoa2fKY3"
      }
    },
    {
      "cell_type": "code",
      "source": [
        "from pymilvus import model\n",
        "\n",
        "\n",
        "embedding_fn = model.DefaultEmbeddingFunction()\n",
        "\n",
        "docs = [\n",
        "    \"Artificial intelligence was founded as an academic discipline in 1956.\",\n",
        "    \"Alan Turing was the first person to conduct substantial research in AI.\",\n",
        "    \"Born in Maida Vale, London, Turing was raised in southern England.\",\n",
        "]\n",
        "\n",
        "vectors = embedding_fn.encode_documents(docs)\n",
        "print(\"Dim:\", embedding_fn.dim, vectors[0].shape)  # Dim: 768 (768,)\n",
        "\n",
        "data = [\n",
        "    {\"id\": i, \"vector\": vectors[i], \"text\": docs[i], \"subject\": \"history\"}\n",
        "    for i in range(len(vectors))\n",
        "]\n",
        "\n",
        "print(\"Data has\", len(data), \"entities, each with fields: \", data[0].keys())\n",
        "print(\"Vector dim:\", len(data[0][\"vector\"]))"
      ],
      "metadata": {
        "colab": {
          "base_uri": "https://localhost:8080/",
          "height": 385,
          "referenced_widgets": [
            "c58947121af044649129c428ef2b093a",
            "c9dd78f3e7f14532b2e2631da82279ec",
            "d8febb02adda4a478b95b2a2f015c61c",
            "e96c564b34584ad68a6e0e957742786d",
            "41ea2afe2906459da285cde706794c3c",
            "05265c575d664df4a4794cb2309c00dc",
            "ae769f26ff0d4a0db96ab4d30965df75",
            "27febae2742b454ca6b93481303447ee",
            "ec8999dcc5004768bc02b06e07d26f99",
            "9c697cc1e0704589b95d5da96a13a2fe",
            "17e3aa17554749b1b574b91e1ac27bc5",
            "cb7306096eca497f96b1a375cefaec96",
            "2ec2a8383e2a47b296d21b9cee1c9edb",
            "a16dc15cec3c41228078779e187fc235",
            "b1c2e50fe21f40e983ff1569bfaea5fa",
            "741ed9f7f8b1496f9861ce21c4d0a5fe",
            "65b365f8535c4ec69ae48bdb35d56763",
            "084e954efb1444058d9bd6d880a46fa0",
            "ca5e719f7e0e40c5904c97c5157556b5",
            "de5316f8b4e04972b3fe4a90179d3c61",
            "67dfd261c25a4e11aff53e12a2248276",
            "7154c6eeb8b94c8fac48a0e6e46f18fa",
            "5434a64f58d34e4bbd8c2be1d1ce28fa",
            "3d597c576d844ca88b4483471778e1d7",
            "bc35f079c6d0447081db62fb0f570790",
            "fd1db5f78dcf4ec8a995c22196c13f1d",
            "cde768497a6141e586aad1267775ab7f",
            "a828827379a24df494ae6513a1994ef1",
            "46962a20035a4d3599bd5917ec6b9ccf",
            "b04312df27304694a18fd2304b20b3e4",
            "68fb6902a20d4191a08d9b5453b10fbb",
            "d0bead7fbf714196a66a14ebe6be3b98",
            "a7699ea8ff6240d0a33f8a0dee80bad0",
            "fe3e1cc8f0d54764970a5199b0aa62cb",
            "8560469a90a849b2a06eb97d1b8d99c2",
            "24227425e90748f89fd3af1010b8c852",
            "b825361d9ca748c9a89eb285c4b325eb",
            "1e24dfe11c054c97990421120a7dee23",
            "6d803805cf9b4c5da8cbe55e8c9c82fc",
            "d2180f962697436dbb39e256668a52e1",
            "11c17c7aa92d4c3693e1b46622b05d6f",
            "2aa4ddd58c794d94b91d69e0dc5e0267",
            "fe79d1f804de4f3aa19d4ecf85a6474c",
            "71e02a315d46423eab73feb19822b262",
            "d62e63bf011a494e9d28bb112a8b85df",
            "993c876477084a539563fd28cd37bfa3",
            "b16e3a4d1d6642f6a0c1f0578b32468c",
            "154634e73f54480eb6c75581ecc2ca67",
            "022c439f6e4e45f89e97a6564d8f29f4",
            "fca319c8a47347669e2e077df4cddda5",
            "79e93167a4f24bb5ab81ff22c6a136b6",
            "3c8c7560af11409f8de7a817634970bc",
            "dc6b129c2a4a4ca3ab17097b7b35507f",
            "adc83888d74348a180bc196d8f1a9fcf",
            "3c94b0e74e1947fbb71c2f63f06fa0e8",
            "769fd8194b434b42a2dd16ee5aed4925",
            "9edf1e312f674c14956f57efc164e9e0",
            "bc65bfb94f434c098630365d38b947d7",
            "1d2b887efb5e46ac9317dc60aef6208d",
            "128bd191caab4a9dae5e70bf48e07b53",
            "2e3d593cf552457fab014f581cb6884a",
            "0e9647d0307c4342b9a6b9c7f6f41307",
            "1ddb282ca0b94414a3d53ab9636d7f86",
            "fec2cf79a5c04d43a953982c83d5a095",
            "b220adb1bf6044b8bd3e04944f5bf5d5",
            "3d2e3dee401b4ea18fd8b309206ee9b7"
          ]
        },
        "id": "vCRWXzD2aXUN",
        "outputId": "91bb0410-df5c-4e2d-c5da-f7dd9f39e36a"
      },
      "execution_count": 5,
      "outputs": [
        {
          "output_type": "stream",
          "name": "stderr",
          "text": [
            "/usr/local/lib/python3.10/dist-packages/huggingface_hub/utils/_auth.py:94: UserWarning: \n",
            "The secret `HF_TOKEN` does not exist in your Colab secrets.\n",
            "To authenticate with the Hugging Face Hub, create a token in your settings tab (https://huggingface.co/settings/tokens), set it as secret in your Google Colab and restart your session.\n",
            "You will be able to reuse this secret in all of your notebooks.\n",
            "Please note that authentication is recommended but still optional to access public models or datasets.\n",
            "  warnings.warn(\n"
          ]
        },
        {
          "output_type": "display_data",
          "data": {
            "text/plain": [
              "tokenizer_config.json:   0%|          | 0.00/465 [00:00<?, ?B/s]"
            ],
            "application/vnd.jupyter.widget-view+json": {
              "version_major": 2,
              "version_minor": 0,
              "model_id": "c58947121af044649129c428ef2b093a"
            }
          },
          "metadata": {}
        },
        {
          "output_type": "display_data",
          "data": {
            "text/plain": [
              "config.json:   0%|          | 0.00/827 [00:00<?, ?B/s]"
            ],
            "application/vnd.jupyter.widget-view+json": {
              "version_major": 2,
              "version_minor": 0,
              "model_id": "cb7306096eca497f96b1a375cefaec96"
            }
          },
          "metadata": {}
        },
        {
          "output_type": "display_data",
          "data": {
            "text/plain": [
              "spiece.model:   0%|          | 0.00/760k [00:00<?, ?B/s]"
            ],
            "application/vnd.jupyter.widget-view+json": {
              "version_major": 2,
              "version_minor": 0,
              "model_id": "5434a64f58d34e4bbd8c2be1d1ce28fa"
            }
          },
          "metadata": {}
        },
        {
          "output_type": "display_data",
          "data": {
            "text/plain": [
              "tokenizer.json:   0%|          | 0.00/1.31M [00:00<?, ?B/s]"
            ],
            "application/vnd.jupyter.widget-view+json": {
              "version_major": 2,
              "version_minor": 0,
              "model_id": "fe3e1cc8f0d54764970a5199b0aa62cb"
            }
          },
          "metadata": {}
        },
        {
          "output_type": "display_data",
          "data": {
            "text/plain": [
              "special_tokens_map.json:   0%|          | 0.00/245 [00:00<?, ?B/s]"
            ],
            "application/vnd.jupyter.widget-view+json": {
              "version_major": 2,
              "version_minor": 0,
              "model_id": "d62e63bf011a494e9d28bb112a8b85df"
            }
          },
          "metadata": {}
        },
        {
          "output_type": "display_data",
          "data": {
            "text/plain": [
              "model.onnx:   0%|          | 0.00/46.9M [00:00<?, ?B/s]"
            ],
            "application/vnd.jupyter.widget-view+json": {
              "version_major": 2,
              "version_minor": 0,
              "model_id": "769fd8194b434b42a2dd16ee5aed4925"
            }
          },
          "metadata": {}
        },
        {
          "output_type": "stream",
          "name": "stdout",
          "text": [
            "Dim: 768 (768,)\n",
            "Data has 3 entities, each with fields:  dict_keys(['id', 'vector', 'text', 'subject'])\n",
            "Vector dim: 768\n"
          ]
        }
      ]
    },
    {
      "cell_type": "markdown",
      "source": [
        "# (optional)如果上述方法有网络问题，无法下载模型，可以使用如下随机方法来代替"
      ],
      "metadata": {
        "id": "qldItkHLiPlo"
      }
    },
    {
      "cell_type": "code",
      "source": [
        "import random\n",
        "\n",
        "docs = [\n",
        "    \"Artificial intelligence was founded as an academic discipline in 1956.\",\n",
        "    \"Alan Turing was the first person to conduct substantial research in AI.\",\n",
        "    \"Born in Maida Vale, London, Turing was raised in southern England.\",\n",
        "]\n",
        "vectors = [[random.uniform(-1, 1) for _ in range(768)] for _ in docs]\n",
        "data = [\n",
        "    {\"id\": i, \"vector\": vectors[i], \"text\": docs[i], \"subject\": \"history\"}\n",
        "    for i in range(len(vectors))\n",
        "]\n",
        "\n",
        "print(\"Data has\", len(data), \"entities, each with fields: \", data[0].keys())\n",
        "print(\"Vector dim:\", len(data[0][\"vector\"]))\n"
      ],
      "metadata": {
        "id": "QqCv16QXaXWn"
      },
      "execution_count": null,
      "outputs": []
    },
    {
      "cell_type": "markdown",
      "source": [
        "# 把数据插入到collection中"
      ],
      "metadata": {
        "id": "APPO-KfFikUz"
      }
    },
    {
      "cell_type": "code",
      "source": [
        "res = client.insert(collection_name=\"demo_collection\", data=data)\n",
        "\n",
        "print(res)"
      ],
      "metadata": {
        "colab": {
          "base_uri": "https://localhost:8080/"
        },
        "id": "JCIQMVJYaXZH",
        "outputId": "a74ab383-713f-4b20-c962-1a61d20e3e58"
      },
      "execution_count": 6,
      "outputs": [
        {
          "output_type": "stream",
          "name": "stdout",
          "text": [
            "{'insert_count': 3, 'ids': [0, 1, 2]}\n"
          ]
        }
      ]
    },
    {
      "cell_type": "markdown",
      "source": [
        "# 语义搜索"
      ],
      "metadata": {
        "id": "xjKEa6fujgxd"
      }
    },
    {
      "cell_type": "code",
      "source": [
        "query_vectors = embedding_fn.encode_queries([\"Who is Alan Turing?\"])\n",
        "\n",
        "res = client.search(\n",
        "    collection_name=\"demo_collection\",  # target collection\n",
        "    data=query_vectors,  # query vectors\n",
        "    limit=2,  # number of returned entities\n",
        "    output_fields=[\"text\", \"subject\"],  # specifies fields to be returned\n",
        ")\n",
        "\n",
        "print(res)"
      ],
      "metadata": {
        "colab": {
          "base_uri": "https://localhost:8080/"
        },
        "id": "DeTCrMPQaXbo",
        "outputId": "9e656ad5-3d63-4a3c-cfaa-4b72fb5de9d2"
      },
      "execution_count": 7,
      "outputs": [
        {
          "output_type": "stream",
          "name": "stdout",
          "text": [
            "data: [\"[{'id': 2, 'distance': 0.5859944820404053, 'entity': {'text': 'Born in Maida Vale, London, Turing was raised in southern England.', 'subject': 'history'}}, {'id': 1, 'distance': 0.5118255019187927, 'entity': {'text': 'Alan Turing was the first person to conduct substantial research in AI.', 'subject': 'history'}}]\"] \n"
          ]
        }
      ]
    },
    {
      "cell_type": "markdown",
      "source": [
        "# 使用metadata过滤进行向量搜索\n",
        "\n",
        "milvus可以使用字段scalar进行元数据过滤，默认是scalar不打开，如果想打开scalar，请参考[index](https://milvus.io/docs/scalar_index.md)"
      ],
      "metadata": {
        "id": "dCA6p8Cdn9Rh"
      }
    },
    {
      "cell_type": "code",
      "source": [
        "docs = [\n",
        "    \"Machine learning has been used for drug design.\",\n",
        "    \"Computational synthesis with AI algorithms predicts molecular properties.\",\n",
        "    \"DDR1 is involved in cancers and fibrosis.\",\n",
        "]\n",
        "vectors = embedding_fn.encode_documents(docs)\n",
        "data = [\n",
        "    {\"id\": 3 + i, \"vector\": vectors[i], \"text\": docs[i], \"subject\": \"biology\"}\n",
        "    for i in range(len(vectors))\n",
        "]\n",
        "\n",
        "client.insert(collection_name=\"demo_collection\", data=data)\n",
        "\n",
        "res = client.search(\n",
        "    collection_name=\"demo_collection\",\n",
        "    data=embedding_fn.encode_queries([\"tell me AI related information\"]),\n",
        "    filter=\"subject == 'biology'\",\n",
        "    limit=2,\n",
        "    output_fields=[\"text\", \"subject\"],\n",
        ")\n",
        "\n",
        "print(res)\n"
      ],
      "metadata": {
        "colab": {
          "base_uri": "https://localhost:8080/"
        },
        "id": "7aTU3VscaXd6",
        "outputId": "73f53979-b4f6-4faa-9232-865f2a10ec41"
      },
      "execution_count": 8,
      "outputs": [
        {
          "output_type": "stream",
          "name": "stdout",
          "text": [
            "data: [\"[{'id': 4, 'distance': 0.27030572295188904, 'entity': {'text': 'Computational synthesis with AI algorithms predicts molecular properties.', 'subject': 'biology'}}, {'id': 3, 'distance': 0.1642588973045349, 'entity': {'text': 'Machine learning has been used for drug design.', 'subject': 'biology'}}]\"] \n"
          ]
        }
      ]
    },
    {
      "cell_type": "markdown",
      "source": [
        "# Query\n",
        "\n",
        "query()可以检索匹配到特定规则的所有entities"
      ],
      "metadata": {
        "id": "rkJsARL_q_oY"
      }
    },
    {
      "cell_type": "code",
      "source": [
        "# 检索scalar字段包括history的所有entities\n",
        "res = client.query(\n",
        "    collection_name=\"demo_collection\",\n",
        "    filter=\"subject == 'history'\",\n",
        "    output_fields=[\"text\", \"subject\"],\n",
        ")"
      ],
      "metadata": {
        "id": "jw0PUl3OaXgM"
      },
      "execution_count": 9,
      "outputs": []
    },
    {
      "cell_type": "code",
      "source": [
        "res"
      ],
      "metadata": {
        "colab": {
          "base_uri": "https://localhost:8080/"
        },
        "id": "wNoYiiokaXik",
        "outputId": "6de7f4bb-666a-43c5-a9a4-cca8ba3bdc2d"
      },
      "execution_count": 10,
      "outputs": [
        {
          "output_type": "execute_result",
          "data": {
            "text/plain": [
              "data: [\"{'id': 0, 'text': 'Artificial intelligence was founded as an academic discipline in 1956.', 'subject': 'history'}\", \"{'id': 1, 'text': 'Alan Turing was the first person to conduct substantial research in AI.', 'subject': 'history'}\", \"{'id': 2, 'text': 'Born in Maida Vale, London, Turing was raised in southern England.', 'subject': 'history'}\"] "
            ]
          },
          "metadata": {},
          "execution_count": 10
        }
      ]
    },
    {
      "cell_type": "code",
      "source": [
        "# 直接按照primary key检索\n",
        "res = client.query(\n",
        "    collection_name=\"demo_collection\",\n",
        "    ids=[0, 2],\n",
        "    output_fields=[\"vector\", \"text\", \"subject\"],\n",
        ")\n",
        "res"
      ],
      "metadata": {
        "colab": {
          "base_uri": "https://localhost:8080/"
        },
        "id": "c0M0XJoXaXlO",
        "outputId": "54fe96c6-095a-4f41-e933-2e61402f1863"
      },
      "execution_count": 11,
      "outputs": [
        {
          "output_type": "execute_result",
          "data": {
            "text/plain": [
              "data: [\"{'id': 0, 'text': 'Artificial intelligence was founded as an academic discipline in 1956.', 'subject': 'history', 'vector': [0.010727894, -0.035895176, 0.018749746, 0.016348809, 0.03651688, 0.0035882127, -0.0004004981, 0.028529339, 0.0022745496, 0.0018362562, 0.004225859, 0.02717393, -0.0036843517, 0.03079148, 0.0045053945, 0.0442281, 0.010503842, -0.029494502, -0.06707345, -0.02052648, 0.015322829, -0.0060049067, -0.0622855, -0.039614785, 0.014206286, 0.032707665, -0.020834554, -0.044174287, -0.028339839, 0.029424427, -0.028087234, -0.020809026, 0.017159794, 0.0021116603, 0.021823755, -0.001577665, -0.037696734, 0.041460764, -0.02505642, 0.083336696, -0.015979158, 0.009813834, -0.026605438, 0.00061898713, 0.0037358247, -0.034155212, 0.058708236, -0.023721864, 0.0067459764, -0.03584181, -0.017560031, 0.022803081, 0.0026646194, 0.02511928, 0.046945184, 0.012622784, 0.018337477, -0.0071655777, 0.042811263, 0.0050310283, 0.05705552, -0.014866053, 0.10045472, 0.0064573605, -0.06832718, -0.016902734, 0.011977218, -0.0015766147, -0.022061639, 0.021156568, 0.04071084, -0.03600993, 0.019723987, -0.047073353, -0.087442085, -0.0046350053, 0.030835053, 0.10515199, 0.016166978, -0.008001137, 0.033673923, 0.015985558, 0.03438022, 0.01834291, 0.0777001, 0.02650154, -0.052214287, -0.09021926, -0.012340444, 0.05302757, -0.0011275421, -0.005958893, 0.047962528, -0.00796566, -0.028406044, 0.02852731, 0.067544736, -0.028825581, -0.034105226, 0.08487623, -0.007664788, -0.06363438, -0.06831104, -0.033039104, -0.002765511, 0.0015892504, 0.013780075, -0.018580519, -0.008844613, -0.053225037, -0.014389193, 0.008077421, -0.031215204, 0.018773323, 0.04937637, 0.07315665, -0.041901734, 0.06690276, 0.008933795, 0.045684587, 0.032135222, -0.0035595205, -0.046143197, 0.009210222, 0.06779029, 0.01337486, 0.010454049, 0.03719906, 0.015420819, 0.00878668, -0.033349376, 0.015551763, 0.05987698, 0.02897826, 0.046533074, -0.0051459074, 0.0045556845, -0.0018195718, 0.010539259, -0.019132169, 0.0116216075, 0.014161869, 0.0034369507, 0.0057789637, 0.035289373, 0.054262992, -0.051606055, -0.042924497, -0.015439735, 0.014695543, 0.012905061, -0.006806453, 0.05433569, 0.0035228806, -0.025712833, 0.0006317994, 0.016166896, -0.0069687953, -0.042992007, 0.020684378, 0.008367321, -0.02704684, 0.08865566, -0.052853346, -0.012384356, -0.041823797, 0.028680995, 0.051269848, 0.0606863, 0.023955012, 0.015168794, 0.07542115, 0.033699322, 0.04306795, 0.042949405, -0.010862258, -0.02362564, -0.06973062, -0.07056771, -0.020257926, 0.015855886, -0.03365138, -0.048190977, 0.056760717, 0.018719777, -0.0074206614, 0.007484566, 0.004210265, -0.010225762, 0.030543696, 0.03115236, -0.018680176, 0.05074322, 0.0009910323, -0.007215593, -0.009345567, 0.05457324, 0.032344252, 0.044765487, -0.07086166, 0.009228117, 0.006700527, -0.08809641, -0.022578117, 0.024984792, 0.060831085, 0.019521935, -0.074802615, 0.033076182, 0.004304986, 0.028265528, 0.036641285, 0.02916349, -0.007841018, 0.01626494, -0.011263691, -0.0017616351, -0.012803478, 0.020408474, 0.019711098, -0.0017434914, -0.03237056, -0.0155003695, 9.199228e-05, -0.029747186, -0.00398164, 0.007836241, 0.06148324, -0.06592361, -0.007985817, 0.06693117, 0.009926552, -0.0034373095, -0.036024135, -0.027951488, -0.04650123, -0.06412068, 0.03642691, 0.0825344, 0.0585784, -0.05032693, -0.0045528, 0.0057323873, 0.032517146, 0.004037023, -0.04214021, -0.030833207, -0.031996872, -0.037709747, 0.028296985, 0.018784646, 0.032598805, 0.008394976, 0.026254566, -0.01505602, -0.0087437425, 0.015322123, 0.036640234, -0.033632327, -0.022526558, 0.032640044, -0.019599868, -0.039372742, 0.054028872, -0.062149182, 0.004090776, 0.04435548, -0.0014420553, 0.014154516, 0.040782686, -0.032073244, 0.018714247, -0.007142502, -0.016126854, 0.018809833, 0.0249412, -0.0033121938, -0.030162675, -0.06936108, -0.02919379, -0.012788968, -0.014814663, -0.021107193, 0.0019980827, -0.03582991, 0.003942369, -0.06656848, 0.032609105, 0.020936666, -0.016428767, -0.04337574, 0.022506664, 0.037569806, 0.021610018, -0.010074206, -0.029767904, 0.03609145, -0.048857637, -0.06734756, -0.0028609897, 0.047057647, 0.06384801, 0.033374675, 0.028490296, 0.08580723, 0.027610075, -0.011656835, 0.042823263, 0.007727517, 0.055311404, 0.023568552, -0.05228898, -0.021390522, 0.022336492, -0.021049475, 0.117133565, -0.008431837, -0.009812999, 0.02247549, -0.015468915, 0.042983897, 0.0021705688, 0.041067388, 0.034534823, 0.022164008, -0.014718475, 0.009893878, -0.007470297, 0.043819137, 0.079693526, -0.008172728, 0.021132372, -0.011528283, 0.013240913, 0.022433778, 0.0009229477, 0.028354531, 0.02550462, 0.052205916, -0.05121987, -0.118383616, 0.015328722, -0.0911267, -0.0065619973, 0.028712658, -0.0023049957, -0.062731646, -0.062445957, -0.00022496837, -0.05743232, 0.045935422, -0.0036514425, 0.051867865, 0.040445335, -0.013785118, -0.042955928, -0.027023299, 0.02237699, -0.0025893212, 0.012199819, -0.065920085, -0.023238108, -0.06538677, -0.009300264, -0.06410405, -0.0012813819, -0.03778861, -0.02580196, -0.014350014, -0.027356563, -0.0059369477, -0.017061656, -0.0029574938, 0.05720172, -0.036152273, -0.003929681, -0.013378801, 0.0027767683, 0.02848731, -0.03197658, -0.015682403, 0.042555433, 0.0024153523, -0.040182058, -0.046252172, 0.017401742, -0.0031100095, -0.03788644, -0.03008895, 0.02187415, -0.05034511, 0.074992634, 0.006069072, 0.00016538241, -0.002204449, 0.04039776, 0.044864092, 0.04483857, 0.016728014, 0.019455114, 0.009703082, -0.0713864, 0.004547164, 0.011842776, -0.021119997, 0.031862214, -0.0163164, -0.032452974, 0.043734286, -0.03780957, 0.01862863, 0.0026922922, 0.02143967, 0.011781675, -0.05506032, 0.09022324, -0.0110554155, 0.06960761, -0.00035917098, -0.08548544, 0.02387248, -0.011865842, 0.015521648, -0.04648562, 0.015402178, 0.04594099, -0.0070058373, -0.009859651, 0.018634906, -0.10528863, 0.08274662, 0.048377432, -0.035858087, 0.026860394, -0.023511939, -0.053222492, 0.01732026, -0.009880075, -0.050168343, -0.083668746, -0.007005281, -0.020427957, 0.011652239, -0.051846534, -0.0062781717, 0.05482468, 0.011988266, -0.008480062, 0.083199084, 0.016768783, -0.0064335857, -0.0016107849, -0.051040635, 0.0074883187, -0.01796668, -0.0047214814, -0.047707163, -0.006425939, -0.026500786, -0.0015609168, 0.024658976, -0.050817832, -0.039008185, 0.03732614, 0.0072396644, 0.011915952, -0.0335996, -0.004511216, 0.06214498, -0.019449428, -0.006828407, -0.012891624, -0.027558377, 0.056652877, -0.0044484367, -0.015507976, 0.0012088877, -0.021853678, 0.024126453, -0.07942254, 0.010106058, 0.023366382, -0.054953147, 0.022021998, 0.010016428, 0.00991686, 0.016157106, -0.020806719, 0.017552523, 0.07044917, 0.0069603743, -0.08593744, 0.010648399, -0.028267585, 0.030690137, -0.05309262, -0.018545736, -0.0402619, 0.021165453, 0.029509034, -0.008143861, 0.018382253, 0.019559361, -0.049213625, 0.043225836, 0.077077314, -0.02241044, 0.010409715, -0.0027231898, 0.0017686215, -0.030084305, 0.04299615, 0.004372001, -0.006241691, -0.00024069796, 0.019953908, -0.029913124, -0.0036833123, 0.0072269347, 0.009177203, -0.014358161, -0.009241941, -0.0545571, -0.041030668, -0.031650107, -0.017134491, -0.0774857, 0.03988893, 0.03924, 0.048965182, -0.033233184, -0.05656642, 0.0066785184, 0.043541964, -0.03840391, 0.010154148, -0.079141356, -0.02179732, -0.026838427, 0.019221416, -0.040806603, -0.035613265, 0.014090001, 0.007671237, 0.029675303, -0.06884524, -0.056289576, 0.056673948, -0.050510287, -0.00088997406, -0.005598945, 0.003306516, 0.0057417303, -0.026555032, -0.00871542, 0.031434126, 0.08313016, 0.03839472, -0.058066435, 0.019183097, -0.009726564, 0.028438931, -0.02881138, -0.008976357, -0.103424095, -0.058222968, -0.037119884, 0.027700402, -0.04588986, -0.030398548, -0.039721783, -0.030508148, -0.019951146, 0.0015739397, 0.029676571, -0.023864947, 0.06367685, -0.0012287503, -0.0044368976, 0.041377433, -0.013923665, -0.08683903, -0.0025845582, 0.004466277, -0.05824013, -0.02084867, 0.011324719, 0.060676344, 0.0013325315, 0.02189349, -0.011963774, 0.01757775, 0.0006795136, 0.010710895, 0.0028006088, -0.03594827, -0.043163326, -0.010262608, 0.024484463, 0.03718086, -0.0103365695, -0.026769988, 0.048004147, -0.034203388, -0.014748419, -0.0063140364, -0.0028505353, 0.028525125, -0.04561002, 0.06568241, -0.049970742, 0.014379446, 0.04676709, -0.00048966025, -0.0024831025, -0.02797238, 0.046457335, 0.021673255, 0.0023266345, 0.0026431493, 0.035424143, -0.026333477, -0.03403934, 0.02262463, -0.032912746, 0.018376311, -0.027667392, 0.016704367, -0.002119031, -0.046784934, -0.03094579, 0.015710698, 0.037608508, 0.015457966, 0.019711863, 0.0015763103, -0.012232291, -0.025360525, -0.00022529686, 0.046190225, -0.021766407, 0.041865554, 0.025460199, 0.019476004, 0.0036154576, -0.052689914, -0.02768602, -0.0015855888, -0.040639695, 0.010056763, 0.0027428076, 0.016839854, -0.053006697, -0.020662665, 0.054520924, 0.0064187855, -0.099801704, -0.013525761, -0.043147024, -0.00056575425, 0.01667199, -0.001440206, -0.05040172, 0.014656949, 0.01622299, -0.0066976626, 0.040851556, 0.04093133, -0.037326813, 0.042844206, 0.05090436, -0.02728138, 0.010571457, -0.057239708, -0.0040859794, -0.037317447, -0.02698216, -0.00864287, 0.0049741566, 0.026029192, 0.020214643, 0.032763813, 0.016982969, 0.06404002, 0.072279096, -0.08395768, 0.013537561, -0.02755108, 0.007747567, -0.0018074329, -0.01546407, 0.0339815, 0.034956183, -0.0083111115, 0.017906437, 0.0059985104, 0.037306275, 0.020443458, -0.01973211, -0.053771947, -0.018225854, -0.04511043, -0.011363906, 0.016595906, -0.008448555, -0.03832561, -0.00014415295, 0.0039162473, 0.014675554, -0.051637307, 0.017472327, -0.014575322, 0.096618906, -0.011524697, -0.03202397, -0.030950008, 0.0073097744, -0.028882172, 0.015319454, 0.0062880768, -0.06236983, 0.048629977, -0.0010824584, -0.036816936, -0.0045622573, 0.0129731465, 0.019638203, -0.028105548, 0.023023302, -0.0009493454, -0.017095214, -0.044111747, -0.0045348154, -0.0053310124, -0.031483825, -0.0710584, 0.030531147, 0.0037261469, 0.0032810583, 0.014718037, 0.05704755, -0.04661801, -0.00024935263, -0.07460311, 0.020438995, 0.03437746, -0.065276764, 0.04699053, 0.02138347, -0.003860328, 0.021759469, 0.0018460158, -0.0103730345, -0.0075822314, -0.0072503723, 0.025801158, 0.007263607, -0.025909467, -0.017626088, -0.022974622, -0.0042768572, -0.006985694, 0.0655515, 0.0010739592, 0.042343006, -0.01662577, 0.012465766, -0.013358123]}\", \"{'id': 2, 'text': 'Born in Maida Vale, London, Turing was raised in southern England.', 'subject': 'history', 'vector': [0.01928132, -0.028283134, -0.076756634, -0.017908158, 0.011845605, 0.054446023, 0.037965704, 0.057670522, 0.019603444, 0.001864883, -0.057416752, 0.021919288, -0.06079969, -0.037110284, -0.066613905, -0.0140132895, -0.0108436635, 0.0207526, -0.0052934373, 0.050541706, -0.035528608, -0.062134042, -0.0028828066, 0.007493747, 0.03822024, 0.009055198, -0.027246848, -0.01546384, -0.0024796815, 0.006007196, -0.016478654, -0.024107838, 0.009196095, 0.020115701, 0.021710597, -0.016634654, -0.029107507, -0.0066517536, 0.02190223, -0.004241811, -0.040101722, -0.010728994, -0.045173768, -0.0127574615, -0.016636854, -0.023162402, 0.013965435, 0.011016185, 0.014364127, 0.009491451, -0.026133534, -0.01771155, 0.00021035665, 0.004241989, -0.041517146, 0.018948393, -0.0030209776, -0.057330072, 0.019971834, -0.00059102767, -0.0038510258, 0.012202597, 0.00370682, -0.042360466, 0.058113772, -0.021250904, -0.008751346, -0.021307103, -0.017953329, 0.022048205, -0.0043379776, 0.06171638, -0.052218072, 0.01808729, -0.006340968, -0.034124732, -0.010159057, 0.08677441, -0.0697241, -0.056788474, 0.00018726924, -0.041030698, -0.04143924, 0.044522174, -0.025784412, -0.03702454, 0.002814293, -0.023263095, 0.0071519865, 0.016516551, -0.035700772, -0.0067627067, 0.0401162, 0.023779785, -0.037065245, 0.01716639, -0.0051541124, 0.044314835, -0.017476855, 0.0257309, -0.0007174209, -0.07070816, 0.023777891, 0.027851729, 0.007520131, -0.006730819, 0.030355124, 0.032252382, 0.04862772, 0.031450197, -0.004308816, 0.0474947, -0.05638126, 0.04505874, 0.054217316, -0.022450186, -0.023444965, 0.016400503, -0.100387625, -0.011314838, 0.030737503, 0.06998733, 0.007253895, 0.013823638, 0.009824805, 0.026957802, 0.016245192, 0.07178876, -0.038917065, -0.043909315, 0.016177883, 0.0352427, 0.063234925, 0.0032881736, 0.042217646, -0.0181308, 0.033415332, -0.016487902, -0.017070726, 0.04443124, 0.01268763, -0.026999243, 0.05391019, 0.03129961, 0.009924147, 0.049643546, -0.03330342, 0.021308495, 0.024575064, 0.0010056116, 0.014374934, 0.022674453, 0.03301133, 0.013506835, 0.0061712395, -0.07136216, 0.011003013, 0.0063664, 0.06173381, -0.0203297, 0.012794093, 0.052048232, 0.02007257, -0.0023672918, 0.014110045, -0.06598979, 0.008995854, -0.009364199, 0.013119163, -0.044613525, -0.0037816619, -0.010297596, 0.0390968, 0.030267406, -0.014214508, 0.021846127, -0.031738203, -0.090121865, -0.07074508, -0.013102654, -0.025164347, 0.042046953, 0.014155792, 0.0032734256, -0.003768719, -0.0246397, -0.026024584, -0.039417904, 0.045451533, -0.012366024, -0.008559595, 0.01358203, 0.038957626, 0.020395854, -0.06879367, 0.027147204, -0.012379973, -0.04164032, 0.022121843, -0.03440914, -0.028521638, -0.011365882, -0.010214699, -0.06331988, 0.007565643, -0.016511742, -0.077616654, -0.020514032, -0.05963874, 0.025096413, 0.018933205, 0.029662214, 0.037923604, 0.0040797624, -0.04151374, -0.04701485, -0.04185049, 0.050889734, 0.060534652, -0.017094668, -0.043227136, -0.012025339, -0.020766826, 0.002923822, -0.017963866, 0.02701654, 0.0571223, 0.03504643, -0.06014493, -0.009496869, 0.019804869, 0.06834456, -0.0375001, 0.0007730762, 0.030533422, 0.041223243, -0.03768708, 0.0037212663, 0.0057614814, -0.007742856, -0.0005202383, -0.006998176, 0.027690075, -0.004430184, -0.038880683, 0.02853508, -0.014973757, 0.046119586, -0.02877903, 0.020385886, 0.00963546, -0.08387159, -0.014588059, -0.028878763, 0.07109259, -0.03932675, -0.01436585, 0.033004392, -0.009965328, 0.07141566, -0.0008204623, 0.028451217, -0.019422563, 0.061431322, -0.045484476, -0.0035509686, 0.047535487, 0.011838801, 0.05034515, 0.029790366, 0.0080643445, 0.058105424, -0.031105768, -0.0196517, 0.0198744, 0.025774982, -0.03569162, -0.027814366, -0.030203916, 0.012086186, -0.012683637, -0.0123220505, 0.0078110294, 0.025085913, 0.021967843, 0.05730503, -0.0045646057, -0.059445318, 0.028725358, 0.03785791, -0.046775814, 0.038932495, 0.0011485511, 0.0009734635, -0.030015275, -0.051708803, 0.008896231, -0.019983146, 0.003460193, 0.00016652414, 0.0343437, 0.091479495, 0.033640705, -0.018500697, -0.021546215, -0.0030688262, 0.06652244, -0.04645688, 0.06729327, 0.007386368, -0.01255747, 0.011506484, -0.063269824, 0.03495058, 0.016623676, 0.011610495, 0.054197308, 0.023570627, 0.020201337, 0.032954425, -0.009367009, 0.031756576, -0.03862775, 0.0023692006, -0.0365765, 0.0346634, 0.020835934, 0.06288209, -0.020952495, 0.012533523, -0.01229496, 0.018241772, -0.017522706, -0.038971007, -0.014575268, 0.00049713603, -0.003509416, 0.006997096, 0.009521062, -0.004801555, -0.063236386, 0.004835361, 0.060904782, 0.025174329, -0.012250062, 0.023379032, -0.035775006, -0.014167625, -0.060607664, 0.042122852, 0.0008152978, 0.049050182, -0.0019857127, 0.08047495, 0.0057676206, 0.008000492, 0.00088607275, -0.09224466, -0.0035735911, 0.033174813, 0.03316191, 0.030172845, -0.07336381, 0.032652896, -0.0017743284, 0.008425127, 0.020061085, -0.02199042, -0.016464615, 0.030506331, 0.028185926, 0.03304109, 0.05061035, 0.0040052994, -0.011990773, -0.0014111936, 0.004871683, -0.017679587, 0.011224007, -0.007503262, 0.051549554, 0.033684254, -0.019103296, -0.014495814, -0.04405715, -0.017490767, -0.026463278, 0.022244675, 0.003745219, -0.056957856, 0.037728075, 0.086947665, -0.0314512, 0.0042295814, -0.02328865, 0.015838517, 0.012248901, 0.060716476, 0.047850903, 0.00082756736, 0.016686587, -0.04178582, -0.0131202685, 0.02486086, -0.021316633, -0.0053191343, -0.0024161313, 0.024024565, -0.0004212946, 0.0067559555, -0.022909142, -0.01557383, 0.003376452, -0.04956513, -0.040485818, 0.027869353, -0.032576866, -0.014498764, 0.006967026, 0.0028689418, -0.0089783175, -0.008862131, -0.01886686, 0.020647136, 0.026101653, 0.031148981, -0.013548334, -0.013473518, -0.005498509, -0.014773207, 0.010054698, -0.038752027, -0.098963544, -0.02753012, -0.026578253, 0.028769609, -0.01385797, -0.042473514, 0.095448695, 0.07489469, -0.011750152, -0.0023634285, 0.021629846, -0.010537842, 0.030459778, -0.013420974, 0.056415074, -0.032414448, 0.031780973, -0.0057657976, -0.022319784, -0.017656945, -0.047520682, 0.0315106, 0.037337776, -0.0022690033, -0.046423823, -0.099899314, -0.019410871, -0.05630979, -0.04306377, 0.014738983, 0.0035294967, 0.056083355, 0.041182224, -0.0009944617, 0.019502109, -0.012314956, 0.019051846, -0.0021367897, 0.029047268, 0.08030761, 0.025468566, 0.077044405, -0.021088261, -0.034028877, -0.04600943, 0.01870246, 0.029221503, -0.020849697, -0.026715524, 0.062095176, 0.00908399, 0.07070783, -0.033804093, 0.03254154, 0.0319244, 0.022672303, -0.036467236, -0.040837053, -0.0068595787, -0.11503363, -0.009350499, 0.009014508, 0.0133532155, -0.018204411, 0.028366223, 0.04306139, 0.032721736, 0.07117607, 0.0051602595, -0.009105586, 0.051027544, -0.029728225, 0.028516604, -0.0007249556, -0.0031720172, -0.048314925, -0.08206164, -0.012049668, -0.0005087412, -0.06358256, 0.029505042, 0.02560021, 0.045742396, -0.053212035, -0.0040377905, -0.06075344, -0.022661088, -0.02829125, -0.037066117, 0.0007270349, -0.05083876, 0.017698226, -0.023997832, -0.010647061, -0.015736721, 0.0052898894, 0.010293657, 0.0562834, -0.011544301, 0.00869393, 0.017598242, -0.08910386, -0.053315908, 0.012299874, 0.02929849, 0.046427235, -0.004307049, -0.009139646, 0.028048957, 0.010080027, -0.053101018, -0.03348091, -0.042200856, -0.018348832, -0.036279153, 0.013816288, -0.012592286, -0.011407184, -0.044283368, 0.010275402, 0.041653935, -0.007885807, 0.00081506686, 0.042987183, 0.018986305, -0.005667604, 0.00013609034, -0.029173996, -0.045636702, 0.05806422, 0.0006771087, -0.06999032, 0.018261304, 0.023546092, -0.028502936, -0.03725159, -0.060322244, -0.014855212, -0.027274564, 0.023729775, -0.040057573, 0.0042842305, 0.03432606, -0.014623746, -0.032212246, 0.006515742, -0.011694889, 0.020043185, -0.02779252, 0.02459559, 0.04603971, 0.0017809578, 0.0011758904, -0.050963048, -0.004327321, -0.008237006, 0.10511727, 0.017017456, 0.0025839368, 0.0069668046, 0.029160751, 0.03383504, 0.059127178, -0.036691852, -0.0040119337, -0.020522175, -0.005363784, 0.019748911, -0.017320251, -0.030784337, 0.06435051, -0.010488911, -0.011937983, -0.02660258, -0.03495733, 0.0012405216, -0.023529187, 0.018226761, 0.020290645, -0.01470923, -0.022692394, -0.03473594, -0.017820708, -0.028229916, 0.062015653, 0.013456629, 0.0597704, -0.051213544, -0.012989932, -0.056244362, -0.01582943, -0.030969368, -0.028269107, -0.05636289, -0.010924875, -0.0025288716, -0.022353332, -0.028143212, 0.017062005, -0.02674303, -0.04790178, -0.036730472, 0.068438485, -0.010193703, 0.00041673734, 0.022595916, 0.030753084, 0.019276487, 0.005791039, -0.005679631, 0.038219966, -0.016086983, 0.030691737, 0.004402707, -0.06539907, -0.039117258, 0.010204471, -0.05856692, 0.016563514, -0.0062368438, -0.13897523, -0.020793572, 0.048943117, 0.04077592, 0.030437147, -0.033128146, 0.042349543, 0.008859997, -0.015394097, 0.014986827, -0.013578109, 0.01390319, -0.0008359862, -0.001369733, 0.035542477, 0.008369099, 0.071336396, 0.025898794, -0.0044171857, -0.045489494, -0.019040015, 0.035701778, -0.100682, -0.066066526, -0.014355445, 0.0725289, 0.08530514, 0.042917743, -0.03145694, -0.03311507, -0.0065308223, 0.020159401, -0.005740753, -0.062109582, 0.032814592, 0.015026684, 0.0114084855, -0.08774348, 0.038908567, 0.006028075, -0.030558182, 0.042875804, -0.015549421, -0.07391272, -0.02213909, -0.03187861, -0.009522909, 0.009861278, -0.0115690045, 0.034390263, -0.08049486, 0.01404401, -0.076721095, -0.06714487, -0.010078421, 0.001568861, 0.030545972, -0.007257732, 0.10652495, 0.014890996, 0.015423008, 0.014039594, -0.010565452, 0.007091956, 0.036437277, -0.056037825, 0.061431304, 0.032687943, 0.005349112, -0.022130793, 0.033974133, -0.023533601, 0.024791226, 0.06143407, -0.039910477, -0.010899056, -0.0045481687, -0.0002974845, 0.019341996, 0.00593246, 0.0029546658, -0.070737034, 0.00433369, -0.057347856, 0.040620066, 0.04863906, -0.0076623945, 0.0068910285, 0.033559974, -0.01320542, -0.040718105, -0.04008697, -0.039773602, 0.04704179, -0.003156234, 0.0012057007, -0.018283186, 0.047002643, -0.08620519, -0.005580952, -0.072384015, 0.05291762, 0.03040403, 0.06543513, 0.04979306, 0.043401696, -0.049598154, 0.024344955, 0.019741794, 0.029212015, -0.046416856, 0.0034977535, 0.07581703, -0.058527898, -0.0071373787, -0.041292693]}\"] "
            ]
          },
          "metadata": {},
          "execution_count": 11
        }
      ]
    },
    {
      "cell_type": "markdown",
      "source": [
        "# 删除entities"
      ],
      "metadata": {
        "id": "OADnSxnIrw6d"
      }
    },
    {
      "cell_type": "code",
      "source": [
        "# Delete entities by primary key\n",
        "res = client.delete(collection_name=\"demo_collection\", ids=[0, 2])\n",
        "\n",
        "print(res)\n",
        "\n",
        "# Delete entities by a filter expression\n",
        "res = client.delete(\n",
        "    collection_name=\"demo_collection\",\n",
        "    filter=\"subject == 'biology'\",\n",
        ")\n",
        "\n",
        "print(res)\n"
      ],
      "metadata": {
        "colab": {
          "base_uri": "https://localhost:8080/"
        },
        "id": "BBmKzn7joDmy",
        "outputId": "d8e0c854-9158-49b8-82f0-e23dcdec5dcb"
      },
      "execution_count": 12,
      "outputs": [
        {
          "output_type": "stream",
          "name": "stdout",
          "text": [
            "[0, 2]\n",
            "[3, 4, 5]\n"
          ]
        }
      ]
    },
    {
      "cell_type": "markdown",
      "source": [
        "# 导入已有数据\n",
        "\n",
        "由于milvus所有数据有存在了local file，因此，可以在程序中断后，就可以把所有数据导入到memory中，可以通过对已存在的数据创建MilvusClient来使用。例如，可以从\"milvus_demo.db\"文件恢复collection，并继续写入数据。"
      ],
      "metadata": {
        "id": "cUo065k4smT-"
      }
    },
    {
      "cell_type": "code",
      "source": [
        "from pymilvus import MilvusClient\n",
        "\n",
        "client = MilvusClient(\"milvus_demo.db\")\n",
        "client"
      ],
      "metadata": {
        "colab": {
          "base_uri": "https://localhost:8080/"
        },
        "id": "Dbb6MJM-oDrh",
        "outputId": "aba8fb69-da35-4443-aeb4-d034fc100f4a"
      },
      "execution_count": 13,
      "outputs": [
        {
          "output_type": "execute_result",
          "data": {
            "text/plain": [
              "<pymilvus.milvus_client.milvus_client.MilvusClient at 0x7fec56e033d0>"
            ]
          },
          "metadata": {},
          "execution_count": 13
        }
      ]
    },
    {
      "cell_type": "markdown",
      "source": [
        "# 删除collection"
      ],
      "metadata": {
        "id": "Q0IDlBkrtxQ6"
      }
    },
    {
      "cell_type": "code",
      "source": [
        "# Drop collection\n",
        "client.drop_collection(collection_name=\"demo_collection\")"
      ],
      "metadata": {
        "id": "mvZ17eTwslH1"
      },
      "execution_count": 14,
      "outputs": []
    },
    {
      "cell_type": "markdown",
      "source": [
        "# 生成环境最好使用[docker](https://milvus.io/docs/install_standalone-docker.md)或者[Kubernetes](https://milvus.io/docs/install_cluster-milvusoperator.md)\n",
        "不同部署方案的API是相同的，因此不同部署方案切换后只需要调整URL和Token即可。"
      ],
      "metadata": {
        "id": "zcFBx9KsuoEc"
      }
    },
    {
      "cell_type": "code",
      "source": [
        "client = MilvusClient(uri=\"http://localhost:19530\", token=\"root:Milvus\")\n",
        "client"
      ],
      "metadata": {
        "id": "RGDpFx2tslKN"
      },
      "execution_count": null,
      "outputs": []
    },
    {
      "cell_type": "markdown",
      "source": [
        "milvus提供REST和gRPC API，支持 Python, Java, Go, C# 和Node.js"
      ],
      "metadata": {
        "id": "adrlud0Kvb5c"
      }
    }
  ]
}