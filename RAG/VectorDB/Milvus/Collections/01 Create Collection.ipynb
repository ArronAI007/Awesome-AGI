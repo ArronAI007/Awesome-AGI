{
 "cells": [
  {
   "cell_type": "markdown",
   "id": "ccd2b5c7-240d-44d2-8e53-9283a4f0b731",
   "metadata": {},
   "source": [
    "Collection是一个固定列、可变行的二维表，每列表示一个field，每行表示一个entity。我们可以通过schema来定义数据结构。"
   ]
  },
  {
   "cell_type": "markdown",
   "id": "9339c1ac-3078-45b2-ae81-90f810569716",
   "metadata": {},
   "source": [
    "# 创建Schema\n",
    "\n",
    "下面创建**my_id**, **my_vector**, and **my_varchar**三个字段的Schema"
   ]
  },
  {
   "cell_type": "code",
   "execution_count": 1,
   "id": "48ace09c-d725-46ca-8c4f-cc064a559139",
   "metadata": {},
   "outputs": [
    {
     "data": {
      "text/plain": [
       "{'auto_id': False, 'description': '', 'fields': [{'name': 'my_id', 'description': '', 'type': <DataType.INT64: 5>, 'is_primary': True, 'auto_id': False}, {'name': 'my_vector', 'description': '', 'type': <DataType.FLOAT_VECTOR: 101>, 'params': {'dim': 5}}, {'name': 'my_varchar', 'description': '', 'type': <DataType.VARCHAR: 21>, 'params': {'max_length': 512}}], 'enable_dynamic_field': True}"
      ]
     },
     "execution_count": 1,
     "metadata": {},
     "output_type": "execute_result"
    }
   ],
   "source": [
    "from pymilvus import MilvusClient, DataType\n",
    "\n",
    "client = MilvusClient(\n",
    "    uri=\"http://localhost:19530\",\n",
    "    token=\"root:Milvus\"\n",
    ")\n",
    "\n",
    "schema = MilvusClient.create_schema(\n",
    "    auto_id=False,\n",
    "    enable_dynamic_field=True,\n",
    ")\n",
    "\n",
    "schema.add_field(field_name=\"my_id\", datatype=DataType.INT64, is_primary=True)\n",
    "schema.add_field(field_name=\"my_vector\", datatype=DataType.FLOAT_VECTOR, dim=5)\n",
    "schema.add_field(field_name=\"my_varchar\", datatype=DataType.VARCHAR, max_length=512)"
   ]
  },
  {
   "cell_type": "markdown",
   "id": "3694bc56-b908-401e-9a64-e29b639412a1",
   "metadata": {},
   "source": [
    "# 创建索引（Optional）\n",
    "\n",
    "AUTOINDEX可以对所有vector字段设置索引"
   ]
  },
  {
   "cell_type": "code",
   "execution_count": 2,
   "id": "b4913553-a806-4bd9-99ee-e003b3bf8053",
   "metadata": {},
   "outputs": [],
   "source": [
    "index_params = client.prepare_index_params()\n",
    "\n",
    "index_params.add_index(\n",
    "    field_name=\"my_id\",\n",
    "    index_type=\"STL_SORT\"\n",
    ")\n",
    "\n",
    "index_params.add_index(\n",
    "    field_name=\"my_vector\", \n",
    "    index_type=\"AUTOINDEX\",\n",
    "    metric_type=\"COSINE\"\n",
    ")"
   ]
  },
  {
   "cell_type": "markdown",
   "id": "4907b3b2-e4e4-4e05-a0b1-9e93341c9a74",
   "metadata": {},
   "source": [
    "# 创建Collection\n",
    "如果创建了索引，milvus会自动导入索引"
   ]
  },
  {
   "cell_type": "code",
   "execution_count": 3,
   "id": "aeb4b677-3496-4b13-9b9c-5cd57386e9bb",
   "metadata": {},
   "outputs": [
    {
     "name": "stdout",
     "output_type": "stream",
     "text": [
      "{'state': <LoadState: Loaded>}\n"
     ]
    }
   ],
   "source": [
    "# Create a collection with the index loaded simultaneously\n",
    "client.create_collection(\n",
    "    collection_name=\"customized_setup_1\",\n",
    "    schema=schema,\n",
    "    index_params=index_params\n",
    ")\n",
    "\n",
    "res = client.get_load_state(\n",
    "    collection_name=\"customized_setup_1\"\n",
    ")\n",
    "\n",
    "print(res)"
   ]
  },
  {
   "cell_type": "markdown",
   "id": "28f14d4f-cc2c-4772-a2c6-9e481c74eb6d",
   "metadata": {},
   "source": [
    "下面展示创建Collection的时候不加载索引"
   ]
  },
  {
   "cell_type": "code",
   "execution_count": 4,
   "id": "213b528d-8b25-404e-83d8-02494f88744c",
   "metadata": {},
   "outputs": [
    {
     "name": "stdout",
     "output_type": "stream",
     "text": [
      "{'state': <LoadState: NotLoad>}\n"
     ]
    }
   ],
   "source": [
    "# Create a collection and index it separately\n",
    "client.create_collection(\n",
    "    collection_name=\"customized_setup_2\",\n",
    "    schema=schema,\n",
    ")\n",
    "\n",
    "res = client.get_load_state(\n",
    "    collection_name=\"customized_setup_2\"\n",
    ")\n",
    "\n",
    "print(res)"
   ]
  },
  {
   "cell_type": "markdown",
   "id": "93913e38-d5ee-4c69-bc62-f1423970bab2",
   "metadata": {},
   "source": [
    "# 设置Collection的属性\n",
    "## 设置Shard数量"
   ]
  },
  {
   "cell_type": "code",
   "execution_count": 6,
   "id": "412942db-c783-4935-ac18-c4b3da1c3058",
   "metadata": {},
   "outputs": [],
   "source": [
    "client.create_collection(\n",
    "    collection_name=\"customized_setup_3\",\n",
    "    schema=schema,\n",
    "    # highlight-next-line\n",
    "    num_shards=1\n",
    ")"
   ]
  },
  {
   "cell_type": "markdown",
   "id": "8a44efef-69aa-4400-b06a-8d7d602230cd",
   "metadata": {},
   "source": [
    "## 启用mmap\n",
    "milvus默认使用mmap，这样milvus可以按照field数据加载到内存中，而不是加载全部数据。"
   ]
  },
  {
   "cell_type": "code",
   "execution_count": 7,
   "id": "b47749ad-60be-435b-b14e-dfe1bc589c97",
   "metadata": {},
   "outputs": [],
   "source": [
    "client.create_collection(\n",
    "    collection_name=\"customized_setup_4\",\n",
    "    schema=schema,\n",
    "    # highlight-next-line\n",
    "    enable_mmap=False\n",
    ")"
   ]
  },
  {
   "cell_type": "markdown",
   "id": "801e69f9-74b5-462a-b63c-ed26b73881d4",
   "metadata": {},
   "source": [
    "## 设置Collection TTL\n",
    "一旦Time-To-Live (TTL) 超时，milvus就是删除Collection中的entities和Collection，默认是一天（86400s）"
   ]
  },
  {
   "cell_type": "code",
   "execution_count": 8,
   "id": "f609a3c0-bb97-4b21-9c91-a36e01d84894",
   "metadata": {},
   "outputs": [],
   "source": [
    "client.create_collection(\n",
    "    collection_name=\"customized_setup_5\",\n",
    "    schema=schema,\n",
    "    # highlight-start\n",
    "    properties={\n",
    "        \"collection.ttl.seconds\": 86400\n",
    "    }\n",
    "    # highlight-end\n",
    ")"
   ]
  },
  {
   "cell_type": "markdown",
   "id": "4a363996-5ac7-4014-bc7c-eebb0e4bfdaf",
   "metadata": {},
   "source": [
    "## 设置Consistency Level"
   ]
  },
  {
   "cell_type": "code",
   "execution_count": 9,
   "id": "bdca2a51-da0f-4569-bdde-f7829f17f066",
   "metadata": {},
   "outputs": [],
   "source": [
    "client.create_collection(\n",
    "    collection_name=\"customized_setup_6\",\n",
    "    schema=schema,\n",
    "    # highlight-next\n",
    "    consistency_level=\"Bounded\",\n",
    ")"
   ]
  }
 ],
 "metadata": {
  "kernelspec": {
   "display_name": "milvus",
   "language": "python",
   "name": "milvus"
  },
  "language_info": {
   "codemirror_mode": {
    "name": "ipython",
    "version": 3
   },
   "file_extension": ".py",
   "mimetype": "text/x-python",
   "name": "python",
   "nbconvert_exporter": "python",
   "pygments_lexer": "ipython3",
   "version": "3.11.11"
  }
 },
 "nbformat": 4,
 "nbformat_minor": 5
}
