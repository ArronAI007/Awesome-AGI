{
  "cells": [
    {
      "cell_type": "markdown",
      "metadata": {
        "id": "RFsyON6vpy-D"
      },
      "source": [
        "# langchain+qwen+qdrant实现RAG数据之间的隔离\n"
      ]
    },
    {
      "cell_type": "markdown",
      "source": [
        "我们在开发RAG增加检索应用时，总会遇到数据隔离的问题，比如，你上传的资料数据，不能让别人检索到，不然会存在数据安全问题。所以我们得为每个用户的数据进行隔离， 他们都不应该看到对方的数据，除非数据已经授权或者分配权限给他们访问。\n",
        "\n",
        "本文主要实现该功能，只有进行了分配权限才能访问数据，该功能在企业或者RAG增强检索当中是比较常用的。\n",
        "\n",
        "## 主要的实现步骤\n",
        "不清楚RAG增强检索的可以看之前的文章\n",
        "- 1.先加载文档\n",
        "- 2.对文档数据进行分块\n",
        "- 3.分块之后增加role权限字段，用于过滤权限\n",
        "- 4.在检索文档数据时，会按role的值进行过滤\n",
        "- 5.把过滤好后的文档数据，加上用户提的问题一起发给llm模型处理（通义千问）\n",
        "- 6.LLM处理后，返回结果\n",
        "\n",
        "该功能实现的核心是增加role 权限字段过滤，在用户提问的时候，就分配好了他能检索哪方面的数据。"
      ],
      "metadata": {
        "id": "gikTMF-4lL7_"
      }
    },
    {
      "cell_type": "markdown",
      "source": [
        "# 一、安装相关依赖包"
      ],
      "metadata": {
        "id": "Kc-ck9MsltBz"
      }
    },
    {
      "cell_type": "code",
      "execution_count": null,
      "metadata": {
        "colab": {
          "base_uri": "https://localhost:8080/"
        },
        "id": "lelTYRou9xuh",
        "outputId": "6f3dee7a-65bd-4668-bb77-54f0472c62c7"
      },
      "outputs": [
        {
          "output_type": "stream",
          "name": "stdout",
          "text": [
            "\u001b[2K     \u001b[90m━━━━━━━━━━━━━━━━━━━━━━━━━━━━━━━━━━━━━━━━\u001b[0m \u001b[32m48.2/48.2 kB\u001b[0m \u001b[31m2.0 MB/s\u001b[0m eta \u001b[36m0:00:00\u001b[0m\n",
            "\u001b[2K   \u001b[90m━━━━━━━━━━━━━━━━━━━━━━━━━━━━━━━━━━━━━━━━\u001b[0m \u001b[32m327.7/327.7 kB\u001b[0m \u001b[31m16.2 MB/s\u001b[0m eta \u001b[36m0:00:00\u001b[0m\n",
            "\u001b[2K   \u001b[90m━━━━━━━━━━━━━━━━━━━━━━━━━━━━━━━━━━━━━━━━\u001b[0m \u001b[32m2.9/2.9 MB\u001b[0m \u001b[31m20.4 MB/s\u001b[0m eta \u001b[36m0:00:00\u001b[0m\n",
            "\u001b[2K   \u001b[90m━━━━━━━━━━━━━━━━━━━━━━━━━━━━━━━━━━━━━━━━\u001b[0m \u001b[32m662.0/662.0 kB\u001b[0m \u001b[31m28.6 MB/s\u001b[0m eta \u001b[36m0:00:00\u001b[0m\n",
            "\u001b[2K   \u001b[90m━━━━━━━━━━━━━━━━━━━━━━━━━━━━━━━━━━━━━━━━\u001b[0m \u001b[32m62.8/62.8 kB\u001b[0m \u001b[31m4.1 MB/s\u001b[0m eta \u001b[36m0:00:00\u001b[0m\n",
            "\u001b[2K   \u001b[90m━━━━━━━━━━━━━━━━━━━━━━━━━━━━━━━━━━━━━━━━\u001b[0m \u001b[32m1.0/1.0 MB\u001b[0m \u001b[31m43.0 MB/s\u001b[0m eta \u001b[36m0:00:00\u001b[0m\n",
            "\u001b[2K   \u001b[90m━━━━━━━━━━━━━━━━━━━━━━━━━━━━━━━━━━━━━━━━\u001b[0m \u001b[32m2.5/2.5 MB\u001b[0m \u001b[31m30.7 MB/s\u001b[0m eta \u001b[36m0:00:00\u001b[0m\n",
            "\u001b[2K   \u001b[90m━━━━━━━━━━━━━━━━━━━━━━━━━━━━━━━━━━━━━━━━\u001b[0m \u001b[32m31.3/31.3 MB\u001b[0m \u001b[31m19.7 MB/s\u001b[0m eta \u001b[36m0:00:00\u001b[0m\n",
            "\u001b[2K   \u001b[90m━━━━━━━━━━━━━━━━━━━━━━━━━━━━━━━━━━━━━━━━\u001b[0m \u001b[32m437.6/437.6 kB\u001b[0m \u001b[31m21.0 MB/s\u001b[0m eta \u001b[36m0:00:00\u001b[0m\n",
            "\u001b[2K   \u001b[90m━━━━━━━━━━━━━━━━━━━━━━━━━━━━━━━━━━━━━━━━\u001b[0m \u001b[32m44.4/44.4 kB\u001b[0m \u001b[31m2.9 MB/s\u001b[0m eta \u001b[36m0:00:00\u001b[0m\n",
            "\u001b[2K   \u001b[90m━━━━━━━━━━━━━━━━━━━━━━━━━━━━━━━━━━━━━━━━\u001b[0m \u001b[32m1.2/1.2 MB\u001b[0m \u001b[31m19.4 MB/s\u001b[0m eta \u001b[36m0:00:00\u001b[0m\n",
            "\u001b[2K   \u001b[90m━━━━━━━━━━━━━━━━━━━━━━━━━━━━━━━━━━━━━━━━\u001b[0m \u001b[32m50.9/50.9 kB\u001b[0m \u001b[31m3.0 MB/s\u001b[0m eta \u001b[36m0:00:00\u001b[0m\n",
            "\u001b[?25h"
          ]
        }
      ],
      "source": [
        "!pip install --upgrade --quiet qdrant-client pypdfium2 backoff openai langchain_openai langchain langchain_community dashscope pypdf"
      ]
    },
    {
      "cell_type": "markdown",
      "metadata": {
        "id": "2yXHWECMAuO5"
      },
      "source": [
        "# 二、导入相关依赖包"
      ]
    },
    {
      "cell_type": "code",
      "execution_count": null,
      "metadata": {
        "id": "ejo6uOsB-ne2"
      },
      "outputs": [],
      "source": [
        "from langchain_community.chat_models.tongyi import ChatTongyi\n",
        "from langchain_community.vectorstores import Qdrant\n",
        "from langchain_community.document_loaders import PyPDFLoader\n",
        "from langchain_community.embeddings import DashScopeEmbeddings\n",
        "from langchain_text_splitters import RecursiveCharacterTextSplitter\n",
        "from qdrant_client.http import models as rest\n",
        "from langchain.prompts import PromptTemplate\n",
        "from langchain.chains.retrieval_qa.base import RetrievalQA\n",
        "\n",
        "import os\n",
        "\n",
        "qwen_api_key = \"你的通义千问API-KEY\"\n",
        "os.environ[\"DASHSCOPE_API_KEY\"] = qwen_api_key"
      ]
    },
    {
      "cell_type": "markdown",
      "source": [
        "# 三、构建向量化对象"
      ],
      "metadata": {
        "id": "NMG8xzQvmB5O"
      }
    },
    {
      "cell_type": "code",
      "source": [
        "embeddings = DashScopeEmbeddings(\n",
        "    model=\"text-embedding-v1\", dashscope_api_key=qwen_api_key\n",
        ")"
      ],
      "metadata": {
        "id": "OafzuQpYdhPJ"
      },
      "execution_count": null,
      "outputs": []
    },
    {
      "cell_type": "markdown",
      "source": [
        "# 四、定义读取文档函数，并进行文档分块\n",
        "读取文档数据的方法，并定义角色metadata.roles字段，分块后的文档都会有该字段，表示这个文档有哪些角色可以访问。"
      ],
      "metadata": {
        "id": "ynGrHVQpmFkg"
      }
    },
    {
      "cell_type": "code",
      "source": [
        "def readPdfData(documents):\n",
        "    page = []\n",
        "\n",
        "    for document_path, roles in documents.items():\n",
        "        # 读取当前目录下文件名为test.pdf和byd.pdf的文件\n",
        "        pdf_loader = PyPDFLoader(document_path, extract_images=True)\n",
        "        text_splitter = RecursiveCharacterTextSplitter(\n",
        "            chunk_size=1000, chunk_overlap=200, add_start_index=True\n",
        "        )\n",
        "\n",
        "        loaded_documents = pdf_loader.load_and_split()\n",
        "\n",
        "        for doc in loaded_documents:\n",
        "            doc.metadata[\"roles\"] = roles\n",
        "\n",
        "        # 对文档进行分块\n",
        "        split_documents = text_splitter.split_documents(loaded_documents)\n",
        "        page.extend(split_documents)\n",
        "    return page"
      ],
      "metadata": {
        "id": "KAXMQna8dhRv"
      },
      "execution_count": null,
      "outputs": []
    },
    {
      "cell_type": "markdown",
      "source": [
        "# 五、切换到Google Colab数据目录"
      ],
      "metadata": {
        "id": "3XG3ORKDmXp3"
      }
    },
    {
      "cell_type": "code",
      "source": [
        "from google.colab import drive\n",
        "drive.mount('/content/drive')"
      ],
      "metadata": {
        "colab": {
          "base_uri": "https://localhost:8080/"
        },
        "id": "Hsdg2lehjdG4",
        "outputId": "a7381512-02cd-4441-f6a8-eca8478c7859"
      },
      "execution_count": null,
      "outputs": [
        {
          "output_type": "stream",
          "name": "stdout",
          "text": [
            "Mounted at /content/drive\n"
          ]
        }
      ]
    },
    {
      "cell_type": "code",
      "source": [
        "import os\n",
        "path = \"/content/drive/My Drive/Colab/RAG/LangChain_RAG/\"\n",
        "os.chdir(path)"
      ],
      "metadata": {
        "id": "FhTxNRspjd__"
      },
      "execution_count": null,
      "outputs": []
    },
    {
      "cell_type": "markdown",
      "source": [
        "读取llm文件，并设置角色过滤字段roles为ali，意思是检索文档数据时，参数中roles字段包含ali 的时候才能访问这个文档数据"
      ],
      "metadata": {
        "id": "Op5kRnt8mQZD"
      }
    },
    {
      "cell_type": "code",
      "source": [
        "split_documents = readPdfData({\"Data/llm.pdf\": [\"ali\"]})"
      ],
      "metadata": {
        "colab": {
          "base_uri": "https://localhost:8080/"
        },
        "id": "jHrDXUEodhUF",
        "outputId": "37acf6ec-f977-437e-a106-277b5aa3473f"
      },
      "execution_count": null,
      "outputs": [
        {
          "output_type": "stream",
          "name": "stderr",
          "text": [
            "WARNING:pypdf._reader:Ignoring wrong pointing object 6 0 (offset 0)\n"
          ]
        }
      ]
    },
    {
      "cell_type": "markdown",
      "source": [
        "# 六、构建qdrant矢量数据库对象\n",
        "\n",
        "存储数据的集合名称为my_documents，构建的方式是把文档数据加载到内存，仅用于测试，想构成存储到磁盘或者使用本地服务器的话参考官方提供的例子。"
      ],
      "metadata": {
        "id": "A-YQHKrumlra"
      }
    },
    {
      "cell_type": "code",
      "source": [
        "# 内存方式\n",
        "qdrant = Qdrant.from_documents(\n",
        "    split_documents,\n",
        "    embeddings,\n",
        "    prefer_grpc=True,\n",
        "    location=\":memory:\",  # 加载到内存\n",
        "    collection_name=\"my_documents\",\n",
        ")"
      ],
      "metadata": {
        "id": "sAY2x1OTdhW9"
      },
      "execution_count": null,
      "outputs": []
    },
    {
      "cell_type": "markdown",
      "source": [
        "# 七、在之前的集合追加文档\n",
        "读取maotai文件，并也为该文件分配了maotai权限"
      ],
      "metadata": {
        "id": "pwh37jiymt1n"
      }
    },
    {
      "cell_type": "code",
      "source": [
        "# 该文档为茅台的财报，可多个pdf\n",
        "documents = {\n",
        "    \"Data/maotai.pdf\": [\"maotai\"],\n",
        "}\n",
        "\n",
        "split_documents = readPdfData(documents)\n",
        "\n",
        "# 追加新的文档\n",
        "qdrant.add_documents(split_documents, batch_size=20)"
      ],
      "metadata": {
        "colab": {
          "base_uri": "https://localhost:8080/"
        },
        "id": "dPUBZe-9e-oQ",
        "outputId": "2b286895-dde9-4612-bb94-08c85890eccc"
      },
      "execution_count": null,
      "outputs": [
        {
          "output_type": "stream",
          "name": "stderr",
          "text": [
            "WARNING:pypdf._reader:Ignoring wrong pointing object 6 0 (offset 0)\n"
          ]
        },
        {
          "output_type": "execute_result",
          "data": {
            "text/plain": [
              "['b6f9950e4bc741a6a1921045193c8b62']"
            ]
          },
          "metadata": {},
          "execution_count": 14
        }
      ]
    },
    {
      "cell_type": "markdown",
      "source": [
        "# 八、定义检索对象\n",
        "检索文档数据库时，只会检索metadata.roles字段为maotai、ali的数据，其它数据都会过滤掉。"
      ],
      "metadata": {
        "id": "SM4VAcZYm0p_"
      }
    },
    {
      "cell_type": "code",
      "source": [
        "user_roles = [\"maotai\", \"ali\"]\n",
        "\n",
        "qdrant_retriever = qdrant.as_retriever(\n",
        "    search_kwargs={\n",
        "        \"filter\": rest.Filter(\n",
        "            must=[\n",
        "                rest.FieldCondition(\n",
        "                    key=\"metadata.roles\",\n",
        "                    match=rest.MatchAny(any=user_roles)\n",
        "                )\n",
        "            ]\n",
        "       )\n",
        "    }\n",
        ")"
      ],
      "metadata": {
        "id": "vHqgn4Pde-q2"
      },
      "execution_count": null,
      "outputs": []
    },
    {
      "cell_type": "markdown",
      "source": [
        "# 九、构建大语言模型对象"
      ],
      "metadata": {
        "id": "_oO6U3zVm_Az"
      }
    },
    {
      "cell_type": "code",
      "source": [
        "llm = ChatTongyi(model=\"qwen-plus\")"
      ],
      "metadata": {
        "id": "J3hJLVsre-te"
      },
      "execution_count": null,
      "outputs": []
    },
    {
      "cell_type": "markdown",
      "source": [
        "# 十、向qwen模型提问\n",
        "根据用户提的问题，先去文档数据库中检索， 检索时会按我们定义的user_roles过滤掉数据，拿到相似的结果后，会根据用户的问题+相似的结果，一起发送给qwen模型，模型处理后会把最终的结果返回给我们。"
      ],
      "metadata": {
        "id": "zSb-Mfx0nDRp"
      }
    },
    {
      "cell_type": "code",
      "source": [
        "prompt_template = \"\"\"\n",
        "Question: {question}\n",
        "使用源回答问题。如果没有答案，请说\"文本中没有答案\".\n",
        "\n",
        "Source: {context}\n",
        "\n",
        "### Response:\n",
        "\"\"\"\n",
        "# 构建提问模板\n",
        "prompt = PromptTemplate(\n",
        "    template=prompt_template, input_variables=[\"context\", \"question\"]\n",
        ")\n",
        "\n",
        "# 构建过滤请求对象\n",
        "retrieval_qa = RetrievalQA.from_chain_type(\n",
        "    llm=llm,\n",
        "    chain_type=\"stuff\",\n",
        "    retriever=qdrant_retriever,\n",
        "    return_source_documents=True,\n",
        "    chain_type_kwargs={\"prompt\": prompt},\n",
        ")\n",
        "\n",
        "# 发送请求\n",
        "response = retrieval_qa.invoke({\"query\": \"贵州茅台?\"})\n",
        "print(response[\"result\"])"
      ],
      "metadata": {
        "colab": {
          "base_uri": "https://localhost:8080/"
        },
        "id": "x5duzS0Ie-wW",
        "outputId": "5195a386-1169-4e0d-efbe-1106606b6102"
      },
      "execution_count": null,
      "outputs": [
        {
          "output_type": "stream",
          "name": "stdout",
          "text": [
            "贵州茅台在2023年第三季度报告中展示了其主要财务数据和股东信息。以下是一些关键点：\n",
            "\n",
            "1. **营业收⼊**: 为103,268,354,688.44元，同⽐增⻓了18.48%。\n",
            "2. **净利润**: 归属于上市公司股东的净利润为52,876,217,064.12元，同⽐增⻓了19.09%。\n",
            "3. **流动资产**:\n",
            "   - 货币资⾦: 70,641,010,014.72元\n",
            "   - 拆出资⾦: 95,625,606,731.69元\n",
            "4. **负债和所有者权益总计**: 262,076,424,771.47元，其中所有者权益合计为225,018,799,759.41元。\n",
            "\n",
            "此外，贵州茅台的前10名⽆限售条件股东中，中国贵州茅台酒⼚（集团）有限责任公司是最⼤股东，持有679,211,576股。其他重要股东包括⾹港中央结算有限公司和贵州省国有资本运营有限责任公司等。\n"
          ]
        }
      ]
    },
    {
      "cell_type": "markdown",
      "source": [
        "还是提同样的问题，我们把该访问maotai.pdf的角色授权roles字段改为a，这里我们就不会访问到数据了，因为我们没有maotai权限，我们定义了只有这个权限才能访问该文件。"
      ],
      "metadata": {
        "id": "63uK7T91nati"
      }
    },
    {
      "cell_type": "code",
      "source": [
        "# 改为a权限\n",
        "user_roles = [\"a\", \"ali\"]\n",
        "\n",
        "qdrant_retriever = qdrant.as_retriever(\n",
        "    search_kwargs={\n",
        "        \"filter\": rest.Filter(\n",
        "            must=[\n",
        "                rest.FieldCondition(\n",
        "                    key=\"metadata.roles\",\n",
        "                    match=rest.MatchAny(any=user_roles)\n",
        "                )\n",
        "            ]\n",
        "       )\n",
        "    }\n",
        ")"
      ],
      "metadata": {
        "id": "XMZBD0Ake-y8"
      },
      "execution_count": null,
      "outputs": []
    },
    {
      "cell_type": "code",
      "source": [
        "prompt_template = \"\"\"\n",
        "Question: {question}\n",
        "使用源回答问题。如果没有答案，请说\"文本中没有答案\".\n",
        "\n",
        "Source: {context}\n",
        "\n",
        "### Response:\n",
        "\"\"\"\n",
        "# 构建提问模板\n",
        "prompt = PromptTemplate(\n",
        "    template=prompt_template, input_variables=[\"context\", \"question\"]\n",
        ")\n",
        "\n",
        "# 构建过滤请求对象\n",
        "retrieval_qa = RetrievalQA.from_chain_type(\n",
        "    llm=llm,\n",
        "    chain_type=\"stuff\",\n",
        "    retriever=qdrant_retriever,\n",
        "    return_source_documents=True,\n",
        "    chain_type_kwargs={\"prompt\": prompt},\n",
        ")\n",
        "\n",
        "# 发送请求\n",
        "response = retrieval_qa.invoke({\"query\": \"贵州茅台?\"})\n",
        "print(response[\"result\"])"
      ],
      "metadata": {
        "colab": {
          "base_uri": "https://localhost:8080/"
        },
        "id": "lgwzHINzkRH8",
        "outputId": "4fbd601a-72e7-45bc-92b7-a0b0a442f29e"
      },
      "execution_count": null,
      "outputs": [
        {
          "output_type": "stream",
          "name": "stdout",
          "text": [
            "文本中没有答案。\n"
          ]
        }
      ]
    }
  ],
  "metadata": {
    "accelerator": "GPU",
    "colab": {
      "gpuType": "T4",
      "provenance": []
    },
    "kernelspec": {
      "display_name": "Python 3",
      "name": "python3"
    },
    "language_info": {
      "name": "python"
    }
  },
  "nbformat": 4,
  "nbformat_minor": 0
}