{
 "cells": [
  {
   "cell_type": "code",
   "metadata": {
    "execution": {
     "iopub.execute_input": "2024-10-08T02:38:32.409004Z",
     "iopub.status.busy": "2024-10-08T02:38:32.408247Z",
     "iopub.status.idle": "2024-10-08T02:38:32.436481Z",
     "shell.execute_reply": "2024-10-08T02:38:32.434183Z",
     "shell.execute_reply.started": "2024-10-08T02:38:32.408934Z"
    },
    "ExecuteTime": {
     "end_time": "2024-10-08T03:18:36.859170Z",
     "start_time": "2024-10-08T03:18:36.857222Z"
    }
   },
   "source": [
    "%env LLM_API_KEY=替换为自己的key\n",
    "%env LLM_BASE_URL=https://dashscope.aliyuncs.com/compatible-mode/v1"
   ],
   "outputs": [
    {
     "name": "stdout",
     "output_type": "stream",
     "text": [
      "env: LLM_API_KEY=替换为自己的key\n",
      "env: LLM_BASE_URL=https://dashscope.aliyuncs.com/compatible-mode/v1\n"
     ]
    }
   ],
   "execution_count": 1
  },
  {
   "cell_type": "code",
   "execution_count": 2,
   "metadata": {
    "execution": {
     "iopub.execute_input": "2024-10-08T02:38:33.213465Z",
     "iopub.status.busy": "2024-10-08T02:38:33.212722Z",
     "iopub.status.idle": "2024-10-08T02:38:36.182918Z",
     "shell.execute_reply": "2024-10-08T02:38:36.182509Z",
     "shell.execute_reply.started": "2024-10-08T02:38:33.213397Z"
    }
   },
   "outputs": [
    {
     "name": "stderr",
     "output_type": "stream",
     "text": [
      "/opt/anaconda3/lib/python3.10/site-packages/sentence_transformers/cross_encoder/CrossEncoder.py:11: TqdmExperimentalWarning: Using `tqdm.autonotebook.tqdm` in notebook mode. Use `tqdm.tqdm` instead to force console mode (e.g. in jupyter console)\n",
      "  from tqdm.autonotebook import tqdm, trange\n"
     ]
    },
    {
     "name": "stdout",
     "output_type": "stream",
     "text": [
      "langchain                     0.2.10\n",
      "langchain_core                0.2.28\n",
      "langchain_community           0.2.9\n",
      "pypdf                         4.3.1\n",
      "sentence_transformers         3.0.1\n",
      "chromadb                      0.5.4\n"
     ]
    }
   ],
   "source": [
    "import chromadb\n",
    "import langchain\n",
    "import langchain_community\n",
    "import langchain_core\n",
    "import pypdf\n",
    "import sentence_transformers\n",
    "\n",
    "for module in (langchain, langchain_core, langchain_community, pypdf, sentence_transformers, chromadb):\n",
    "    print(f\"{module.__name__:<30}{module.__version__}\")"
   ]
  },
  {
   "cell_type": "code",
   "execution_count": 3,
   "metadata": {
    "execution": {
     "iopub.execute_input": "2024-10-08T02:38:36.949472Z",
     "iopub.status.busy": "2024-10-08T02:38:36.947166Z",
     "iopub.status.idle": "2024-10-08T02:38:36.957504Z",
     "shell.execute_reply": "2024-10-08T02:38:36.955288Z",
     "shell.execute_reply.started": "2024-10-08T02:38:36.949391Z"
    }
   },
   "outputs": [],
   "source": [
    "import os\n",
    "import pandas as pd"
   ]
  },
  {
   "cell_type": "code",
   "execution_count": 4,
   "metadata": {
    "execution": {
     "iopub.execute_input": "2024-10-08T02:38:37.278369Z",
     "iopub.status.busy": "2024-10-08T02:38:37.277579Z",
     "iopub.status.idle": "2024-10-08T02:38:37.283089Z",
     "shell.execute_reply": "2024-10-08T02:38:37.282673Z",
     "shell.execute_reply.started": "2024-10-08T02:38:37.278299Z"
    }
   },
   "outputs": [],
   "source": [
    "expr_version = 'retrieval_v8_step_back_prompting'\n",
    "\n",
    "preprocess_output_dir = os.path.join(os.path.pardir, 'outputs', 'v1_20240713')\n",
    "expr_dir = os.path.join(os.path.pardir, 'experiments', expr_version)"
   ]
  },
  {
   "cell_type": "markdown",
   "metadata": {},
   "source": [
    "# 读取文档"
   ]
  },
  {
   "cell_type": "code",
   "execution_count": 5,
   "metadata": {
    "execution": {
     "iopub.execute_input": "2024-10-08T02:38:39.213880Z",
     "iopub.status.busy": "2024-10-08T02:38:39.213073Z",
     "iopub.status.idle": "2024-10-08T02:38:40.783178Z",
     "shell.execute_reply": "2024-10-08T02:38:40.782694Z",
     "shell.execute_reply.started": "2024-10-08T02:38:39.213808Z"
    }
   },
   "outputs": [],
   "source": [
    "from langchain_community.document_loaders import PyPDFLoader\n",
    "\n",
    "loader = PyPDFLoader(os.path.join(os.path.pardir, 'data', '2024全球经济金融展望报告.pdf'))\n",
    "documents = loader.load()\n",
    "\n",
    "qa_df = pd.read_excel(os.path.join(preprocess_output_dir, 'question_answer.xlsx'))"
   ]
  },
  {
   "cell_type": "markdown",
   "metadata": {},
   "source": [
    "# 文档切分"
   ]
  },
  {
   "cell_type": "code",
   "execution_count": 6,
   "metadata": {
    "execution": {
     "iopub.execute_input": "2024-10-08T02:38:41.268384Z",
     "iopub.status.busy": "2024-10-08T02:38:41.267247Z",
     "iopub.status.idle": "2024-10-08T02:38:41.276924Z",
     "shell.execute_reply": "2024-10-08T02:38:41.276429Z",
     "shell.execute_reply.started": "2024-10-08T02:38:41.268307Z"
    }
   },
   "outputs": [],
   "source": [
    "from uuid import uuid4\n",
    "import os\n",
    "import pickle\n",
    "\n",
    "from langchain.text_splitter import RecursiveCharacterTextSplitter\n",
    "\n",
    "def split_docs(documents, filepath, chunk_size=400, chunk_overlap=40, seperators=['\\n\\n\\n', '\\n\\n'], force_split=False):\n",
    "    if os.path.exists(filepath) and not force_split:\n",
    "        print('found cache, restoring...')\n",
    "        return pickle.load(open(filepath, 'rb'))\n",
    "\n",
    "    splitter = RecursiveCharacterTextSplitter(\n",
    "        chunk_size=chunk_size,\n",
    "        chunk_overlap=chunk_overlap,\n",
    "        separators=seperators\n",
    "    )\n",
    "    split_docs = splitter.split_documents(documents)\n",
    "    for chunk in split_docs:\n",
    "        chunk.metadata['uuid'] = str(uuid4())\n",
    "\n",
    "    pickle.dump(split_docs, open(filepath, 'wb'))\n",
    "\n",
    "    return split_docs"
   ]
  },
  {
   "cell_type": "code",
   "execution_count": 7,
   "metadata": {
    "execution": {
     "iopub.execute_input": "2024-10-08T02:38:41.954323Z",
     "iopub.status.busy": "2024-10-08T02:38:41.952797Z",
     "iopub.status.idle": "2024-10-08T02:38:41.966522Z",
     "shell.execute_reply": "2024-10-08T02:38:41.964175Z",
     "shell.execute_reply.started": "2024-10-08T02:38:41.954243Z"
    }
   },
   "outputs": [
    {
     "name": "stdout",
     "output_type": "stream",
     "text": [
      "found cache, restoring...\n"
     ]
    }
   ],
   "source": [
    "splitted_docs = split_docs(documents, os.path.join(preprocess_output_dir, 'split_docs.pkl'), chunk_size=500, chunk_overlap=50)"
   ]
  },
  {
   "cell_type": "markdown",
   "metadata": {},
   "source": [
    "# 检索"
   ]
  },
  {
   "cell_type": "code",
   "execution_count": 8,
   "metadata": {
    "execution": {
     "iopub.execute_input": "2024-10-08T02:39:04.053697Z",
     "iopub.status.busy": "2024-10-08T02:39:04.052913Z",
     "iopub.status.idle": "2024-10-08T02:39:04.346182Z",
     "shell.execute_reply": "2024-10-08T02:39:04.345726Z",
     "shell.execute_reply.started": "2024-10-08T02:39:04.053626Z"
    }
   },
   "outputs": [],
   "source": [
    "from langchain_openai import ChatOpenAI\n",
    "\n",
    "# llm = ChatOllama(base_url='http://localhost:11434', model='qwen2:7b-instruct')\n",
    "# 使用Ollama，注意，不要使用上面这行，直接使用ChatOllama类后续流程会报错\n",
    "llm = ChatOpenAI(\n",
    "    model='qwen2:7b-instruct', \n",
    "    base_url='http://localhost:11434/v1', \n",
    "    api_key='ollama'\n",
    ")"
   ]
  },
  {
   "cell_type": "code",
   "execution_count": 9,
   "metadata": {
    "execution": {
     "iopub.execute_input": "2024-10-08T02:39:05.838265Z",
     "iopub.status.busy": "2024-10-08T02:39:05.837481Z",
     "iopub.status.idle": "2024-10-08T02:39:08.495879Z",
     "shell.execute_reply": "2024-10-08T02:39:08.495420Z",
     "shell.execute_reply.started": "2024-10-08T02:39:05.838195Z"
    }
   },
   "outputs": [
    {
     "name": "stderr",
     "output_type": "stream",
     "text": [
      "/opt/anaconda3/lib/python3.10/site-packages/langchain_core/_api/deprecation.py:139: LangChainDeprecationWarning: The method `BaseChatModel.__call__` was deprecated in langchain-core 0.1.7 and will be removed in 0.3.0. Use invoke instead.\n",
      "  warn_deprecated(\n"
     ]
    },
    {
     "data": {
      "text/plain": [
       "AIMessage(content='我是通义千问，是由阿里云开发的一个AI助手。我被设计用来回答各种问题、提供信息和与用户进行对话。有什么特定的问题或主题你想要了解更多吗？我会尽力帮助你。', response_metadata={'token_usage': {'completion_tokens': 46, 'prompt_tokens': 10, 'total_tokens': 56}, 'model_name': 'qwen2:7b-instruct', 'system_fingerprint': 'fp_ollama', 'finish_reason': 'stop', 'logprobs': None}, id='run-e6e537a1-151d-41c7-984b-2cc4f07ed1cf-0', usage_metadata={'input_tokens': 10, 'output_tokens': 46, 'total_tokens': 56})"
      ]
     },
     "execution_count": 9,
     "metadata": {},
     "output_type": "execute_result"
    }
   ],
   "source": [
    "llm('你是谁')"
   ]
  },
  {
   "cell_type": "markdown",
   "metadata": {
    "execution": {
     "iopub.execute_input": "2024-08-09T16:39:38.174798Z",
     "iopub.status.busy": "2024-08-09T16:39:38.174362Z",
     "iopub.status.idle": "2024-08-09T16:39:38.179679Z",
     "shell.execute_reply": "2024-08-09T16:39:38.178235Z",
     "shell.execute_reply.started": "2024-08-09T16:39:38.174731Z"
    }
   },
   "source": [
    "下面这段是官方示例"
   ]
  },
  {
   "cell_type": "code",
   "execution_count": 10,
   "metadata": {
    "execution": {
     "iopub.execute_input": "2024-10-08T02:39:10.655400Z",
     "iopub.status.busy": "2024-10-08T02:39:10.654587Z",
     "iopub.status.idle": "2024-10-08T02:39:10.670319Z",
     "shell.execute_reply": "2024-10-08T02:39:10.668522Z",
     "shell.execute_reply.started": "2024-10-08T02:39:10.655329Z"
    }
   },
   "outputs": [],
   "source": [
    "from langchain_core.output_parsers import StrOutputParser\n",
    "from langchain_core.prompts import ChatPromptTemplate\n",
    "\n",
    "system = \"\"\"You are an expert at taking a specific question and extracting a more generic question that gets at \\\n",
    "the underlying principles needed to answer the specific question.\n",
    "\n",
    "You will be asked about a set of software for building LLM-powered applications called LangChain, LangGraph, LangServe, and LangSmith.\n",
    "\n",
    "LangChain is a Python framework that provides a large set of integrations that can easily be composed to build LLM applications.\n",
    "LangGraph is a Python package built on top of LangChain that makes it easy to build stateful, multi-actor LLM applications.\n",
    "LangServe is a Python package built on top of LangChain that makes it easy to deploy a LangChain application as a REST API.\n",
    "LangSmith is a platform that makes it easy to trace and test LLM applications.\n",
    "\n",
    "Given a specific user question about one or more of these products, write a more generic question that needs to be answered in order to answer the specific question. \\\n",
    "\n",
    "If you don't recognize a word or acronym to not try to rewrite it.\n",
    "\n",
    "Write concise questions.\"\"\"\n",
    "prompt = ChatPromptTemplate.from_messages(\n",
    "    [\n",
    "        (\"system\", system),\n",
    "        (\"human\", \"{question}\"),\n",
    "    ]\n",
    ")\n",
    "# llm = ChatOpenAI(model=\"gpt-3.5-turbo-0125\", temperature=0)\n",
    "step_back = prompt | llm | StrOutputParser()"
   ]
  },
  {
   "cell_type": "code",
   "execution_count": 11,
   "metadata": {
    "execution": {
     "iopub.execute_input": "2024-10-08T02:39:10.928175Z",
     "iopub.status.busy": "2024-10-08T02:39:10.927403Z",
     "iopub.status.idle": "2024-10-08T02:39:10.957307Z",
     "shell.execute_reply": "2024-10-08T02:39:10.954970Z",
     "shell.execute_reply.started": "2024-10-08T02:39:10.928106Z"
    }
   },
   "outputs": [
    {
     "data": {
      "text/plain": [
       "ChatPromptValue(messages=[SystemMessage(content=\"You are an expert at taking a specific question and extracting a more generic question that gets at the underlying principles needed to answer the specific question.\\n\\nYou will be asked about a set of software for building LLM-powered applications called LangChain, LangGraph, LangServe, and LangSmith.\\n\\nLangChain is a Python framework that provides a large set of integrations that can easily be composed to build LLM applications.\\nLangGraph is a Python package built on top of LangChain that makes it easy to build stateful, multi-actor LLM applications.\\nLangServe is a Python package built on top of LangChain that makes it easy to deploy a LangChain application as a REST API.\\nLangSmith is a platform that makes it easy to trace and test LLM applications.\\n\\nGiven a specific user question about one or more of these products, write a more generic question that needs to be answered in order to answer the specific question. \\nIf you don't recognize a word or acronym to not try to rewrite it.\\n\\nWrite concise questions.\"), HumanMessage(content='美国单一家庭房贷整体拖欠率在2023年二季度达到多少？')])"
      ]
     },
     "execution_count": 11,
     "metadata": {},
     "output_type": "execute_result"
    }
   ],
   "source": [
    "prompt.invoke({'question': '美国单一家庭房贷整体拖欠率在2023年二季度达到多少？'})"
   ]
  },
  {
   "cell_type": "code",
   "execution_count": 12,
   "metadata": {
    "execution": {
     "iopub.execute_input": "2024-10-08T02:39:11.906872Z",
     "iopub.status.busy": "2024-10-08T02:39:11.906310Z",
     "iopub.status.idle": "2024-10-08T02:39:12.622904Z",
     "shell.execute_reply": "2024-10-08T02:39:12.622536Z",
     "shell.execute_reply.started": "2024-10-08T02:39:11.906844Z"
    }
   },
   "outputs": [
    {
     "data": {
      "text/plain": [
       "'2023年第二季度全美单户家庭的抵押贷款拖欠率是多少?'"
      ]
     },
     "execution_count": 12,
     "metadata": {},
     "output_type": "execute_result"
    }
   ],
   "source": [
    "step_back.invoke({'question': '美国单一家庭房贷整体拖欠率在2023年二季度达到多少？'})"
   ]
  },
  {
   "attachments": {},
   "cell_type": "markdown",
   "metadata": {},
   "source": [
    "## 准备Step back prompt"
   ]
  },
  {
   "metadata": {},
   "cell_type": "markdown",
   "source": "可以使用官方的chain，也可以自己定义prompt，此处为了讲清楚原理，使用自定义的chain"
  },
  {
   "cell_type": "code",
   "execution_count": 13,
   "metadata": {
    "execution": {
     "iopub.execute_input": "2024-10-08T02:39:42.016403Z",
     "iopub.status.busy": "2024-10-08T02:39:42.016207Z",
     "iopub.status.idle": "2024-10-08T02:39:42.021048Z",
     "shell.execute_reply": "2024-10-08T02:39:42.020536Z",
     "shell.execute_reply.started": "2024-10-08T02:39:42.016388Z"
    }
   },
   "outputs": [],
   "source": [
    "from langchain.prompts import FewShotChatMessagePromptTemplate, ChatPromptTemplate\n",
    "\n",
    "examples = [\n",
    "    {\n",
    "        \"input\": \"美联储预计下半年利率会下调多少？\",\n",
    "        \"output\": \"美联储下半年的利率政策会如何制定\",\n",
    "    },\n",
    "    {\n",
    "        \"input\": \"如何评估一家公司股票的内在价值？\",\n",
    "        \"output\": \"什么方法可以用来评估资产的真实价值？\",\n",
    "    }\n",
    "]\n",
    "# 转换为消息\n",
    "example_prompt = ChatPromptTemplate.from_messages(\n",
    "    [\n",
    "        ('human', '{input}'),\n",
    "        ('ai', '{output}')\n",
    "    ]\n",
    ")\n",
    "few_shot_prompt = FewShotChatMessagePromptTemplate(\n",
    "    example_prompt=example_prompt,\n",
    "    examples=examples\n",
    ")\n",
    "prompt = ChatPromptTemplate.from_messages([\n",
    "    (\n",
    "        'system',\n",
    "        \"\"\"你是金融领域的专家。你的任务是把一个问题改写成一个更一般或更抽象的问题，但注意仅问题改写得更一般即可，如果问题有主体，问题的主体要保持不变。如果你不确定如何改写，请保持原问题不变。直接输出改写后的问题即可，不需要包含“改写之后的问题”之类的描述性内容。这里有几个例子:\"\"\"\n",
    "    ),\n",
    "    few_shot_prompt,\n",
    "    ('user', '{question}')\n",
    "])"
   ]
  },
  {
   "attachments": {},
   "cell_type": "markdown",
   "metadata": {},
   "source": [
    "## 准备用于生成更抽象问题的Chain"
   ]
  },
  {
   "cell_type": "code",
   "execution_count": 14,
   "metadata": {
    "execution": {
     "iopub.execute_input": "2024-10-08T02:39:42.709235Z",
     "iopub.status.busy": "2024-10-08T02:39:42.708420Z",
     "iopub.status.idle": "2024-10-08T02:39:42.721890Z",
     "shell.execute_reply": "2024-10-08T02:39:42.719655Z",
     "shell.execute_reply.started": "2024-10-08T02:39:42.709165Z"
    }
   },
   "outputs": [],
   "source": [
    "step_back_query_gen = (\n",
    "    prompt\n",
    "    | llm\n",
    "    | (lambda ai_msg: ai_msg.content)\n",
    "    | (lambda x: x.replace('AI:', '').replace('ai:', '').strip() if x.lower().startswith('ai:') else x)\n",
    ")"
   ]
  },
  {
   "cell_type": "code",
   "execution_count": 15,
   "metadata": {
    "execution": {
     "iopub.execute_input": "2024-10-08T02:39:43.481117Z",
     "iopub.status.busy": "2024-10-08T02:39:43.480948Z",
     "iopub.status.idle": "2024-10-08T02:39:44.321796Z",
     "shell.execute_reply": "2024-10-08T02:39:44.321330Z",
     "shell.execute_reply.started": "2024-10-08T02:39:43.481104Z"
    }
   },
   "outputs": [
    {
     "data": {
      "text/plain": [
       "'什么是影响个人贷款违约率的主要因素？'"
      ]
     },
     "execution_count": 15,
     "metadata": {},
     "output_type": "execute_result"
    }
   ],
   "source": [
    "step_back_query_gen.invoke({'question': '美国单一家庭房贷整体拖欠率在2023年二季度达到多少？'})"
   ]
  },
  {
   "cell_type": "markdown",
   "metadata": {},
   "source": [
    "## 准备检索器"
   ]
  },
  {
   "cell_type": "code",
   "execution_count": 16,
   "metadata": {
    "execution": {
     "iopub.execute_input": "2024-10-08T02:39:50.470856Z",
     "iopub.status.busy": "2024-10-08T02:39:50.470681Z",
     "iopub.status.idle": "2024-10-08T02:39:50.480928Z",
     "shell.execute_reply": "2024-10-08T02:39:50.480487Z",
     "shell.execute_reply.started": "2024-10-08T02:39:50.470843Z"
    }
   },
   "outputs": [
    {
     "name": "stdout",
     "output_type": "stream",
     "text": [
      "device: cuda\n"
     ]
    }
   ],
   "source": [
    "import shutil\n",
    "import torch\n",
    "\n",
    "from langchain.embeddings import HuggingFaceBgeEmbeddings\n",
    "from langchain_community.vectorstores import Chroma\n",
    "\n",
    "# 可以替换为本地模型地址\n",
    "model_path = 'BAAI/bge-large-zh-v1.5'\n",
    "\n",
    "device = 'cuda' if torch.cuda.is_available() else 'cpu'\n",
    "print(f'device: {device}')\n",
    "\n",
    "def get_embeddings(model_path):\n",
    "    embeddings = HuggingFaceBgeEmbeddings(\n",
    "        model_name=model_path,\n",
    "        model_kwargs={'device': device},\n",
    "        encode_kwargs={'normalize_embeddings': True},\n",
    "        query_instruction='为这个句子生成表示以用于检索相关文章：'\n",
    "    )\n",
    "    return embeddings\n",
    "\n",
    "\n",
    "def get_vector_db(embeddings, docs, db_name):\n",
    "    persist_directory = os.path.join(expr_dir, 'chroma', db_name)\n",
    "    shutil.rmtree(persist_directory, ignore_errors=True)\n",
    "\n",
    "    vector_db = Chroma.from_documents(\n",
    "        splitted_docs,\n",
    "        embedding=embeddings,\n",
    "        persist_directory=persist_directory\n",
    "    )\n",
    "    return vector_db"
   ]
  },
  {
   "cell_type": "code",
   "execution_count": 17,
   "metadata": {
    "execution": {
     "iopub.execute_input": "2024-10-08T02:39:51.653799Z",
     "iopub.status.busy": "2024-10-08T02:39:51.653010Z",
     "iopub.status.idle": "2024-10-08T02:40:06.633799Z",
     "shell.execute_reply": "2024-10-08T02:40:06.632832Z",
     "shell.execute_reply.started": "2024-10-08T02:39:51.653728Z"
    }
   },
   "outputs": [],
   "source": [
    "vector_db = get_vector_db(get_embeddings(model_path), splitted_docs, 'step_back')\n",
    "\n",
    "def get_retrieve_chain(top_k):\n",
    "    chain = (\n",
    "        step_back_query_gen\n",
    "        | (lambda x: vector_db.similarity_search(x, k=top_k))\n",
    "    )\n",
    "    return chain"
   ]
  },
  {
   "cell_type": "markdown",
   "metadata": {},
   "source": [
    "测试一下"
   ]
  },
  {
   "cell_type": "code",
   "execution_count": 18,
   "metadata": {
    "execution": {
     "iopub.execute_input": "2024-10-08T02:40:06.635475Z",
     "iopub.status.busy": "2024-10-08T02:40:06.635193Z",
     "iopub.status.idle": "2024-10-08T02:40:06.639631Z",
     "shell.execute_reply": "2024-10-08T02:40:06.638793Z",
     "shell.execute_reply.started": "2024-10-08T02:40:06.635448Z"
    }
   },
   "outputs": [],
   "source": [
    "retrieve_chain = get_retrieve_chain(3)"
   ]
  },
  {
   "cell_type": "code",
   "execution_count": 19,
   "metadata": {
    "execution": {
     "iopub.execute_input": "2024-10-08T02:40:06.640964Z",
     "iopub.status.busy": "2024-10-08T02:40:06.640656Z",
     "iopub.status.idle": "2024-10-08T02:40:07.395735Z",
     "shell.execute_reply": "2024-10-08T02:40:07.395339Z",
     "shell.execute_reply.started": "2024-10-08T02:40:06.640935Z"
    }
   },
   "outputs": [
    {
     "data": {
      "text/plain": [
       "[Document(metadata={'page': 33, 'source': 'data/2024全球经济金融展望报告.pdf', 'uuid': '3e312dfa-dd43-4ab9-961f-a2e442c89cdd'}, page_content='全球经济金融展望报告\\n中国银行研究院 32 2024年\\n图19：美国联邦基金目标利率与全球MSCI指数\\n资料来源：Wind，中国银行研究院\\n表3：全球主要股指概览\\n注：涨跌幅区间为2023年1月1日至2023年11月15日，收盘价和市盈\\n率为2023年11月15日。\\n资料来源：Wind，中国银行研究院'),\n",
       " Document(metadata={'page': 51, 'source': 'data/2024全球经济金融展望报告.pdf', 'uuid': 'ebf0d999-59f6-4fd3-941e-05a7a60c255a'}, page_content='免责声明\\n本研究报告由中国银行研究院撰写，研究报告中所引用信息均来自公开资料。\\n本研究报告中包含的观点或估计仅代表作者迄今为止的判断，它们不一定反映中国银行的观点。中国\\n银行研究院可以不经通知加以改变，且没有对此报告更新、修正或修改的责任。\\n本研究报告内容及观点仅供参考，不构成任何投资建议。对于本报告所提供信息所导致的任何直接的\\n或者间接的投资盈亏后果不承担任何责任。\\n本研究报告版权仅为中国银行研究院所有，未经书面许可，任何机构和个人不得以任何形式翻版、复\\n制和发布。如引用发布，需注明出处为中国银行研究院，且不得对本报告进行有悖原意的引用、删节和修\\n改。中国银行研究院保留对任何侵权行为和有悖报告原意的引用行为进行追究的权利。'),\n",
       " Document(metadata={'page': 0, 'source': 'data/2024全球经济金融展望报告.pdf', 'uuid': 'e73a0c9d-d42b-4350-a4c3-b38bf67c68a5'}, page_content='研究院\\n全球经济金融展望报告\\n要点2024年年报（总第57期） 报告日期：2023年12月12日\\n●2023年全球经济增长动力持续回落，各国复苏分化，\\n发达经济体增速明显放缓，新兴经济体整体表现稳定。\\n全球贸易增长乏力，各国生产景气度逐渐回落，内需\\n对经济的拉动作用减弱。欧美央行货币政策紧缩态势\\n放缓，美元指数高位震荡后走弱，全球股市表现总体\\n好于预期，但区域分化明显。高利率环境抑制债券融\\n资需求，债券违约风险持续上升。\\n●展望2024年，预计全球经济复苏将依旧疲软，主要\\n经济体增长态势和货币政策走势将进一步分化。欧美\\n央行大概率结束本轮紧缩货币周期，美元指数将逐步\\n走弱，流向新兴经济体的跨境资本将增加。国际原油\\n市场短缺格局或延续，新能源发展成为重点。\\n●海湾六国经济发展与投资前景、高利率和高债务对\\n美国房地产市场脆弱性的影响等热点问题值得关注。中国银行研究院\\n全球经济金融研究课题组\\n组长：陈卫东\\n副组长：钟红\\n廖淑萍\\n成员：边卫红\\n熊启跃\\n王有鑫\\n曹鸿宇\\n李颖婷\\n王宁远\\n初晓\\n章凯莉\\n黄小军（纽约）\\n陆晓明（纽约）\\n黄承煜（纽约）\\n宋达志（伦敦）\\n李振龙（伦敦）\\n张传捷（伦敦）\\n刘冰彦（法兰克福）\\n温颍坤（法兰克福）\\n张明捷（法兰克福）\\n王哲（东京）\\n李彧（香港）\\n黎永康（香港）\\n联系人：王有鑫\\n电话：010-66594127\\n邮件：wangyouxin_hq@bank-of-china.com主要经济体GDP增速变化趋势（%）\\n资料来源：IMF，中国银行研究院')]"
      ]
     },
     "execution_count": 19,
     "metadata": {},
     "output_type": "execute_result"
    }
   ],
   "source": [
    "retrieve_chain.invoke('报告的发布机构是什么？')"
   ]
  },
  {
   "cell_type": "markdown",
   "metadata": {},
   "source": [
    "## 检索性能对比"
   ]
  },
  {
   "cell_type": "code",
   "execution_count": 20,
   "metadata": {
    "execution": {
     "iopub.execute_input": "2024-10-08T02:40:10.639120Z",
     "iopub.status.busy": "2024-10-08T02:40:10.638302Z",
     "iopub.status.idle": "2024-10-08T02:40:10.652106Z",
     "shell.execute_reply": "2024-10-08T02:40:10.649892Z",
     "shell.execute_reply.started": "2024-10-08T02:40:10.639049Z"
    }
   },
   "outputs": [],
   "source": [
    "test_df = qa_df[(qa_df['dataset'] == 'test') & (qa_df['qa_type'] == 'detailed')]"
   ]
  },
  {
   "cell_type": "markdown",
   "metadata": {},
   "source": [
    "### 不使用Step Back Prompting"
   ]
  },
  {
   "cell_type": "code",
   "execution_count": 21,
   "metadata": {
    "execution": {
     "iopub.execute_input": "2024-10-08T02:40:12.507059Z",
     "iopub.status.busy": "2024-10-08T02:40:12.506715Z",
     "iopub.status.idle": "2024-10-08T02:40:12.514030Z",
     "shell.execute_reply": "2024-10-08T02:40:12.513212Z",
     "shell.execute_reply.started": "2024-10-08T02:40:12.507032Z"
    }
   },
   "outputs": [],
   "source": [
    "from tqdm.auto import tqdm\n",
    "\n",
    "def get_hit_stat_df(top_k_arr=list(range(1, 9))):\n",
    "    hit_stat_data = []\n",
    "    pbar = tqdm(total=len(top_k_arr) * len(test_df))\n",
    "    for k in top_k_arr:\n",
    "        pbar.set_description(f'k={k}')\n",
    "\n",
    "        for idx, row in test_df.iterrows():\n",
    "            question = row['question']\n",
    "            true_uuid = row['uuid']\n",
    "\n",
    "            chunks = vector_db.similarity_search(question, k=k)\n",
    "            retrieved_uuids = [doc.metadata['uuid'] for doc in chunks]\n",
    "            assert len(chunks) <= k\n",
    "\n",
    "            hit_stat_data.append({\n",
    "                'question': question,\n",
    "                'top_k': k,\n",
    "                'hit': int(true_uuid in retrieved_uuids),\n",
    "                'retrieved_chunks': len(chunks)\n",
    "            })\n",
    "            pbar.update(1)\n",
    "    hit_stat_df = pd.DataFrame(hit_stat_data)\n",
    "    return hit_stat_df"
   ]
  },
  {
   "cell_type": "code",
   "execution_count": 22,
   "metadata": {
    "execution": {
     "iopub.execute_input": "2024-10-08T02:40:13.798717Z",
     "iopub.status.busy": "2024-10-08T02:40:13.797935Z",
     "iopub.status.idle": "2024-10-08T02:40:31.074151Z",
     "shell.execute_reply": "2024-10-08T02:40:31.073702Z",
     "shell.execute_reply.started": "2024-10-08T02:40:13.798647Z"
    }
   },
   "outputs": [
    {
     "data": {
      "application/vnd.jupyter.widget-view+json": {
       "model_id": "e0b61e8f4164430da7e3a5b6e9af388a",
       "version_major": 2,
       "version_minor": 0
      },
      "text/plain": [
       "  0%|          | 0/744 [00:00<?, ?it/s]"
      ]
     },
     "metadata": {},
     "output_type": "display_data"
    }
   ],
   "source": [
    "orig_query_hit_stat_df = get_hit_stat_df()\n",
    "orig_query_hit_stat_df['step_back_prompting'] = 'w/o'"
   ]
  },
  {
   "cell_type": "markdown",
   "metadata": {},
   "source": [
    "### 使用Step Back Prompting"
   ]
  },
  {
   "cell_type": "code",
   "execution_count": 23,
   "metadata": {
    "execution": {
     "iopub.execute_input": "2024-10-08T02:40:51.166857Z",
     "iopub.status.busy": "2024-10-08T02:40:51.166655Z",
     "iopub.status.idle": "2024-10-08T02:40:51.170801Z",
     "shell.execute_reply": "2024-10-08T02:40:51.170359Z",
     "shell.execute_reply.started": "2024-10-08T02:40:51.166843Z"
    }
   },
   "outputs": [],
   "source": [
    "def get_step_back_hit_stat_df(top_k_arr=list(range(1, 9))):\n",
    "    hit_stat_data = []\n",
    "    pbar = tqdm(total=len(top_k_arr) * len(test_df))\n",
    "    for k in top_k_arr:\n",
    "        pbar.set_description(f'k={k}')\n",
    "\n",
    "        step_back_retrieve_chain = get_retrieve_chain(k)\n",
    "        for idx, row in test_df.iterrows():\n",
    "            question = row['question']\n",
    "            true_uuid = row['uuid']\n",
    "            \n",
    "            chunks = step_back_retrieve_chain.invoke(question)\n",
    "            retrieved_uuids = [doc.metadata['uuid'] for doc in chunks]\n",
    "            \n",
    "            assert len(chunks) <= k\n",
    "\n",
    "            hit_stat_data.append({\n",
    "                'question': question,\n",
    "                'top_k': k,\n",
    "                'hit': int(true_uuid in retrieved_uuids),\n",
    "                'retrieved_chunks': len(chunks)\n",
    "            })\n",
    "            pbar.update(1)\n",
    "    hit_stat_df = pd.DataFrame(hit_stat_data)\n",
    "    return hit_stat_df"
   ]
  },
  {
   "cell_type": "code",
   "execution_count": 24,
   "metadata": {
    "execution": {
     "iopub.execute_input": "2024-10-08T02:40:51.570059Z",
     "iopub.status.busy": "2024-10-08T02:40:51.569265Z",
     "iopub.status.idle": "2024-10-08T02:51:54.975852Z",
     "shell.execute_reply": "2024-10-08T02:51:54.975384Z",
     "shell.execute_reply.started": "2024-10-08T02:40:51.569988Z"
    }
   },
   "outputs": [
    {
     "data": {
      "application/vnd.jupyter.widget-view+json": {
       "model_id": "14f9777762264c4197091c9190c092e2",
       "version_major": 2,
       "version_minor": 0
      },
      "text/plain": [
       "  0%|          | 0/744 [00:00<?, ?it/s]"
      ]
     },
     "metadata": {},
     "output_type": "display_data"
    }
   ],
   "source": [
    "step_back_hit_stat_df = get_step_back_hit_stat_df()\n",
    "step_back_hit_stat_df['step_back_prompting'] = 'w/'"
   ]
  },
  {
   "cell_type": "markdown",
   "metadata": {},
   "source": [
    "### 对比"
   ]
  },
  {
   "cell_type": "code",
   "execution_count": 25,
   "metadata": {
    "execution": {
     "iopub.execute_input": "2024-10-08T02:58:02.135670Z",
     "iopub.status.busy": "2024-10-08T02:58:02.134870Z",
     "iopub.status.idle": "2024-10-08T02:58:02.145806Z",
     "shell.execute_reply": "2024-10-08T02:58:02.145029Z",
     "shell.execute_reply.started": "2024-10-08T02:58:02.135599Z"
    }
   },
   "outputs": [],
   "source": [
    "hit_stat_df = pd.concat([orig_query_hit_stat_df, step_back_hit_stat_df])"
   ]
  },
  {
   "cell_type": "code",
   "execution_count": 26,
   "metadata": {
    "execution": {
     "iopub.execute_input": "2024-10-08T02:58:02.482694Z",
     "iopub.status.busy": "2024-10-08T02:58:02.482296Z",
     "iopub.status.idle": "2024-10-08T02:58:02.490456Z",
     "shell.execute_reply": "2024-10-08T02:58:02.490015Z",
     "shell.execute_reply.started": "2024-10-08T02:58:02.482677Z"
    }
   },
   "outputs": [
    {
     "data": {
      "text/html": [
       "<div>\n",
       "<style scoped>\n",
       "    .dataframe tbody tr th:only-of-type {\n",
       "        vertical-align: middle;\n",
       "    }\n",
       "\n",
       "    .dataframe tbody tr th {\n",
       "        vertical-align: top;\n",
       "    }\n",
       "\n",
       "    .dataframe thead th {\n",
       "        text-align: right;\n",
       "    }\n",
       "</style>\n",
       "<table border=\"1\" class=\"dataframe\">\n",
       "  <thead>\n",
       "    <tr style=\"text-align: right;\">\n",
       "      <th></th>\n",
       "      <th>step_back_prompting</th>\n",
       "      <th>top_k</th>\n",
       "      <th>hit_rate</th>\n",
       "    </tr>\n",
       "  </thead>\n",
       "  <tbody>\n",
       "    <tr>\n",
       "      <th>0</th>\n",
       "      <td>w/</td>\n",
       "      <td>1</td>\n",
       "      <td>0.301075</td>\n",
       "    </tr>\n",
       "    <tr>\n",
       "      <th>1</th>\n",
       "      <td>w/</td>\n",
       "      <td>2</td>\n",
       "      <td>0.505376</td>\n",
       "    </tr>\n",
       "    <tr>\n",
       "      <th>2</th>\n",
       "      <td>w/</td>\n",
       "      <td>3</td>\n",
       "      <td>0.526882</td>\n",
       "    </tr>\n",
       "    <tr>\n",
       "      <th>3</th>\n",
       "      <td>w/</td>\n",
       "      <td>4</td>\n",
       "      <td>0.645161</td>\n",
       "    </tr>\n",
       "    <tr>\n",
       "      <th>4</th>\n",
       "      <td>w/</td>\n",
       "      <td>5</td>\n",
       "      <td>0.655914</td>\n",
       "    </tr>\n",
       "    <tr>\n",
       "      <th>5</th>\n",
       "      <td>w/</td>\n",
       "      <td>6</td>\n",
       "      <td>0.741935</td>\n",
       "    </tr>\n",
       "    <tr>\n",
       "      <th>6</th>\n",
       "      <td>w/</td>\n",
       "      <td>7</td>\n",
       "      <td>0.720430</td>\n",
       "    </tr>\n",
       "    <tr>\n",
       "      <th>7</th>\n",
       "      <td>w/</td>\n",
       "      <td>8</td>\n",
       "      <td>0.784946</td>\n",
       "    </tr>\n",
       "    <tr>\n",
       "      <th>8</th>\n",
       "      <td>w/o</td>\n",
       "      <td>1</td>\n",
       "      <td>0.462366</td>\n",
       "    </tr>\n",
       "    <tr>\n",
       "      <th>9</th>\n",
       "      <td>w/o</td>\n",
       "      <td>2</td>\n",
       "      <td>0.591398</td>\n",
       "    </tr>\n",
       "    <tr>\n",
       "      <th>10</th>\n",
       "      <td>w/o</td>\n",
       "      <td>3</td>\n",
       "      <td>0.688172</td>\n",
       "    </tr>\n",
       "    <tr>\n",
       "      <th>11</th>\n",
       "      <td>w/o</td>\n",
       "      <td>4</td>\n",
       "      <td>0.774194</td>\n",
       "    </tr>\n",
       "    <tr>\n",
       "      <th>12</th>\n",
       "      <td>w/o</td>\n",
       "      <td>5</td>\n",
       "      <td>0.806452</td>\n",
       "    </tr>\n",
       "    <tr>\n",
       "      <th>13</th>\n",
       "      <td>w/o</td>\n",
       "      <td>6</td>\n",
       "      <td>0.817204</td>\n",
       "    </tr>\n",
       "    <tr>\n",
       "      <th>14</th>\n",
       "      <td>w/o</td>\n",
       "      <td>7</td>\n",
       "      <td>0.838710</td>\n",
       "    </tr>\n",
       "    <tr>\n",
       "      <th>15</th>\n",
       "      <td>w/o</td>\n",
       "      <td>8</td>\n",
       "      <td>0.849462</td>\n",
       "    </tr>\n",
       "  </tbody>\n",
       "</table>\n",
       "</div>"
      ],
      "text/plain": [
       "   step_back_prompting  top_k  hit_rate\n",
       "0                   w/      1  0.301075\n",
       "1                   w/      2  0.505376\n",
       "2                   w/      3  0.526882\n",
       "3                   w/      4  0.645161\n",
       "4                   w/      5  0.655914\n",
       "5                   w/      6  0.741935\n",
       "6                   w/      7  0.720430\n",
       "7                   w/      8  0.784946\n",
       "8                  w/o      1  0.462366\n",
       "9                  w/o      2  0.591398\n",
       "10                 w/o      3  0.688172\n",
       "11                 w/o      4  0.774194\n",
       "12                 w/o      5  0.806452\n",
       "13                 w/o      6  0.817204\n",
       "14                 w/o      7  0.838710\n",
       "15                 w/o      8  0.849462"
      ]
     },
     "execution_count": 26,
     "metadata": {},
     "output_type": "execute_result"
    }
   ],
   "source": [
    "hit_stat_df.groupby(['step_back_prompting', 'top_k'])['hit'].mean().reset_index().rename(columns={'hit': 'hit_rate'})"
   ]
  },
  {
   "cell_type": "code",
   "execution_count": 27,
   "metadata": {
    "execution": {
     "iopub.execute_input": "2024-10-08T02:58:03.086094Z",
     "iopub.status.busy": "2024-10-08T02:58:03.085312Z",
     "iopub.status.idle": "2024-10-08T02:58:03.522192Z",
     "shell.execute_reply": "2024-10-08T02:58:03.521710Z",
     "shell.execute_reply.started": "2024-10-08T02:58:03.086025Z"
    }
   },
   "outputs": [
    {
     "data": {
      "text/plain": [
       "<Axes: xlabel='top_k', ylabel='hit'>"
      ]
     },
     "execution_count": 27,
     "metadata": {},
     "output_type": "execute_result"
    },
    {
     "data": {
      "image/png": "[encoded data removed]",
      "text/plain": [
       "<Figure size 640x480 with 1 Axes>"
      ]
     },
     "metadata": {},
     "output_type": "display_data"
    }
   ],
   "source": [
    "import seaborn as sns\n",
    "\n",
    "sns.barplot(x='top_k', y='hit', hue='step_back_prompting', data=hit_stat_df, errorbar=None)"
   ]
  },
  {
   "cell_type": "markdown",
   "metadata": {},
   "source": [
    "# 预测"
   ]
  },
  {
   "cell_type": "code",
   "execution_count": 28,
   "metadata": {
    "execution": {
     "iopub.execute_input": "2024-10-08T02:59:32.745866Z",
     "iopub.status.busy": "2024-10-08T02:59:32.744564Z",
     "iopub.status.idle": "2024-10-08T02:59:32.758186Z",
     "shell.execute_reply": "2024-10-08T02:59:32.755832Z",
     "shell.execute_reply.started": "2024-10-08T02:59:32.745790Z"
    }
   },
   "outputs": [],
   "source": [
    "from langchain.llms import Ollama\n",
    "\n",
    "ollama_llm = Ollama(\n",
    "    model='qwen2:7b-instruct',\n",
    "    base_url='http://localhost:11434'\n",
    ")"
   ]
  },
  {
   "cell_type": "code",
   "execution_count": 32,
   "metadata": {
    "execution": {
     "iopub.execute_input": "2024-10-08T03:00:28.526130Z",
     "iopub.status.busy": "2024-10-08T03:00:28.525697Z",
     "iopub.status.idle": "2024-10-08T03:00:28.535149Z",
     "shell.execute_reply": "2024-10-08T03:00:28.533176Z",
     "shell.execute_reply.started": "2024-10-08T03:00:28.526093Z"
    }
   },
   "outputs": [],
   "source": [
    "def rag(question, n_chunks=3):\n",
    "    prompt_tmpl = \"\"\"\n",
    "你是一个金融分析师，擅长根据所获取的信息片段，对问题进行分析和推理。\n",
    "你的任务是根据所获取的信息片段（<<<<context>>><<<</context>>>之间的内容）回答问题。\n",
    "回答保持简洁，不必重复问题，不要添加描述性解释和与答案无关的任何内容。\n",
    "已知信息：\n",
    "<<<<context>>>\n",
    "{{knowledge}}\n",
    "<<<</context>>>\n",
    "\n",
    "问题：{{question}}\n",
    "请回答：\n",
    "\"\"\".strip()\n",
    "\n",
    "    step_back_retrieve_chain = get_retrieve_chain(n_chunks)\n",
    "    chunks = step_back_retrieve_chain.invoke(question)\n",
    "    prompt = prompt_tmpl.replace('{{knowledge}}', '\\n\\n'.join([doc.page_content for doc in chunks])).replace('{{question}}', question)\n",
    "\n",
    "    return ollama_llm(prompt), chunks"
   ]
  },
  {
   "cell_type": "code",
   "execution_count": 33,
   "metadata": {
    "execution": {
     "iopub.execute_input": "2024-10-08T03:00:29.150488Z",
     "iopub.status.busy": "2024-10-08T03:00:29.150204Z",
     "iopub.status.idle": "2024-10-08T03:00:31.795450Z",
     "shell.execute_reply": "2024-10-08T03:00:31.794500Z",
     "shell.execute_reply.started": "2024-10-08T03:00:29.150464Z"
    }
   },
   "outputs": [
    {
     "name": "stderr",
     "output_type": "stream",
     "text": [
      "/opt/anaconda3/lib/python3.10/site-packages/langchain_core/_api/deprecation.py:139: LangChainDeprecationWarning: The method `BaseLLM.__call__` was deprecated in langchain-core 0.1.7 and will be removed in 0.3.0. Use invoke instead.\n",
      "  warn_deprecated(\n"
     ]
    },
    {
     "name": "stdout",
     "output_type": "stream",
     "text": [
      "2023年10月美国ISM制造业PMI指数为50.4%，较前一个月的55.5%明显回落。\n"
     ]
    }
   ],
   "source": [
    "print(rag('2023年10月美国ISM制造业PMI指数较上月有何变化？')[0])"
   ]
  },
  {
   "cell_type": "code",
   "execution_count": 34,
   "metadata": {
    "execution": {
     "iopub.execute_input": "2024-10-08T03:00:35.200357Z",
     "iopub.status.busy": "2024-10-08T03:00:35.199582Z",
     "iopub.status.idle": "2024-10-08T03:00:35.222811Z",
     "shell.execute_reply": "2024-10-08T03:00:35.220558Z",
     "shell.execute_reply.started": "2024-10-08T03:00:35.200289Z"
    }
   },
   "outputs": [],
   "source": [
    "prediction_df = qa_df[qa_df['dataset'] == 'test'][['uuid', 'question', 'qa_type', 'answer']].rename(columns={'answer': 'ref_answer'})\n",
    "\n",
    "def predict(prediction_df, n_chunks):\n",
    "    prediction_df = prediction_df.copy()\n",
    "    answer_dict = {}\n",
    "\n",
    "    for idx, row in tqdm(prediction_df.iterrows(), total=len(prediction_df)):\n",
    "        uuid = row['uuid']\n",
    "        question = row['question']\n",
    "        answer, chunks = rag(question, n_chunks=n_chunks)\n",
    "        assert len(chunks) <= n_chunks\n",
    "        answer_dict[question] = {\n",
    "            'uuid': uuid,\n",
    "            'ref_answer': row['ref_answer'],\n",
    "            'gen_answer': answer,\n",
    "            'chunks': chunks\n",
    "        }\n",
    "    prediction_df.loc[:, 'gen_answer'] = prediction_df['question'].apply(lambda q: answer_dict[q]['gen_answer'])\n",
    "    prediction_df.loc[:, 'chunks'] = prediction_df['question'].apply(lambda q: answer_dict[q]['chunks'])\n",
    "\n",
    "    return prediction_df"
   ]
  },
  {
   "cell_type": "code",
   "execution_count": 35,
   "metadata": {
    "execution": {
     "iopub.execute_input": "2024-10-08T03:00:35.615595Z",
     "iopub.status.busy": "2024-10-08T03:00:35.614771Z",
     "iopub.status.idle": "2024-10-08T03:06:52.162344Z",
     "shell.execute_reply": "2024-10-08T03:06:52.161435Z",
     "shell.execute_reply.started": "2024-10-08T03:00:35.615525Z"
    }
   },
   "outputs": [
    {
     "data": {
      "application/vnd.jupyter.widget-view+json": {
       "model_id": "de8a174df1e3469f9f7fdf2a0efea32e",
       "version_major": 2,
       "version_minor": 0
      },
      "text/plain": [
       "  0%|          | 0/100 [00:00<?, ?it/s]"
      ]
     },
     "metadata": {},
     "output_type": "display_data"
    }
   ],
   "source": [
    "pred_df = predict(prediction_df, n_chunks=3)"
   ]
  },
  {
   "cell_type": "markdown",
   "metadata": {},
   "source": [
    "# 评估"
   ]
  },
  {
   "cell_type": "code",
   "execution_count": 36,
   "metadata": {
    "execution": {
     "iopub.execute_input": "2024-10-08T03:07:02.378021Z",
     "iopub.status.busy": "2024-10-08T03:07:02.377742Z",
     "iopub.status.idle": "2024-10-08T03:07:02.402186Z",
     "shell.execute_reply": "2024-10-08T03:07:02.401322Z",
     "shell.execute_reply.started": "2024-10-08T03:07:02.377997Z"
    }
   },
   "outputs": [],
   "source": [
    "from langchain_openai import ChatOpenAI\n",
    "\n",
    "judge_llm = ChatOpenAI(\n",
    "    api_key=os.environ['LLM_API_KEY'],\n",
    "    base_url=os.environ['LLM_BASE_URL'],\n",
    "    model_name='qwen2-72b-instruct',\n",
    "    temperature=0\n",
    ")\n",
    "\n",
    "import time\n",
    "\n",
    "def evaluate(prediction_df):\n",
    "    \"\"\"\n",
    "    对预测结果进行打分\n",
    "    :param prediction_df: 预测结果，需要包含问题，参考答案，生成的答案，列名分别为question, ref_answer, gen_answer\n",
    "    :return 打分模型原始返回结果\n",
    "    \"\"\"\n",
    "    prompt_tmpl = \"\"\"\n",
    "你是一个经济学博士，现在我有一系列问题，有一个助手已经对这些问题进行了回答，你需要参照参考答案，评价这个助手的回答是否正确，仅回复“是”或“否”即可，不要带其他描述性内容或无关信息。\n",
    "问题：\n",
    "<question>\n",
    "{{question}}\n",
    "</question>\n",
    "\n",
    "参考答案：\n",
    "<ref_answer>\n",
    "{{ref_answer}}\n",
    "</ref_answer>\n",
    "\n",
    "助手回答：\n",
    "<gen_answer>\n",
    "{{gen_answer}}\n",
    "</gen_answer>\n",
    "请评价：\n",
    "    \"\"\"\n",
    "    results = []\n",
    "\n",
    "    for _, row in tqdm(prediction_df.iterrows(), total=len(prediction_df)):\n",
    "        question = row['question']\n",
    "        ref_answer = row['ref_answer']\n",
    "        gen_answer = row['gen_answer']\n",
    "\n",
    "        prompt = prompt_tmpl.replace('{{question}}', question).replace('{{ref_answer}}', str(ref_answer)).replace('{{gen_answer}}', gen_answer).strip()\n",
    "        result = judge_llm.invoke(prompt).content\n",
    "        results.append(result)\n",
    "\n",
    "        time.sleep(1)\n",
    "    return results"
   ]
  },
  {
   "cell_type": "code",
   "execution_count": 37,
   "metadata": {
    "execution": {
     "iopub.execute_input": "2024-10-08T03:07:03.074110Z",
     "iopub.status.busy": "2024-10-08T03:07:03.073763Z",
     "iopub.status.idle": "2024-10-08T03:09:39.815310Z",
     "shell.execute_reply": "2024-10-08T03:09:39.812970Z",
     "shell.execute_reply.started": "2024-10-08T03:07:03.074081Z"
    }
   },
   "outputs": [
    {
     "data": {
      "application/vnd.jupyter.widget-view+json": {
       "model_id": "bc780707711e4537817972e989f6ec18",
       "version_major": 2,
       "version_minor": 0
      },
      "text/plain": [
       "  0%|          | 0/100 [00:00<?, ?it/s]"
      ]
     },
     "metadata": {},
     "output_type": "display_data"
    }
   ],
   "source": [
    "pred_df['raw_score'] = evaluate(pred_df)"
   ]
  },
  {
   "cell_type": "code",
   "execution_count": 38,
   "metadata": {
    "execution": {
     "iopub.execute_input": "2024-10-08T03:09:39.816300Z",
     "iopub.status.busy": "2024-10-08T03:09:39.816167Z",
     "iopub.status.idle": "2024-10-08T03:09:39.819693Z",
     "shell.execute_reply": "2024-10-08T03:09:39.819272Z",
     "shell.execute_reply.started": "2024-10-08T03:09:39.816287Z"
    }
   },
   "outputs": [
    {
     "data": {
      "text/plain": [
       "array(['是', '否'], dtype=object)"
      ]
     },
     "execution_count": 38,
     "metadata": {},
     "output_type": "execute_result"
    }
   ],
   "source": [
    "pred_df['raw_score'].unique()"
   ]
  },
  {
   "cell_type": "code",
   "execution_count": 39,
   "metadata": {
    "execution": {
     "iopub.execute_input": "2024-10-08T03:09:39.820192Z",
     "iopub.status.busy": "2024-10-08T03:09:39.820072Z",
     "iopub.status.idle": "2024-10-08T03:09:39.830285Z",
     "shell.execute_reply": "2024-10-08T03:09:39.829876Z",
     "shell.execute_reply.started": "2024-10-08T03:09:39.820181Z"
    }
   },
   "outputs": [],
   "source": [
    "pred_df['score'] = (pred_df['raw_score'] == '是').astype(int)"
   ]
  },
  {
   "cell_type": "code",
   "execution_count": 40,
   "metadata": {
    "execution": {
     "iopub.execute_input": "2024-10-08T03:09:39.831223Z",
     "iopub.status.busy": "2024-10-08T03:09:39.831068Z",
     "iopub.status.idle": "2024-10-08T03:09:39.835376Z",
     "shell.execute_reply": "2024-10-08T03:09:39.834862Z",
     "shell.execute_reply.started": "2024-10-08T03:09:39.831209Z"
    }
   },
   "outputs": [
    {
     "data": {
      "text/plain": [
       "0.56"
      ]
     },
     "execution_count": 40,
     "metadata": {},
     "output_type": "execute_result"
    }
   ],
   "source": [
    "pred_df['score'].mean()"
   ]
  },
  {
   "cell_type": "code",
   "execution_count": null,
   "metadata": {},
   "outputs": [],
   "source": []
  }
 ],
 "metadata": {
  "kernelspec": {
   "display_name": "Python 3 (ipykernel)",
   "language": "python",
   "name": "python3"
  },
  "language_info": {
   "codemirror_mode": {
    "name": "ipython",
    "version": 3
   },
   "file_extension": ".py",
   "mimetype": "text/x-python",
   "name": "python",
   "nbconvert_exporter": "python",
   "pygments_lexer": "ipython3",
   "version": "3.10.9"
  }
 },
 "nbformat": 4,
 "nbformat_minor": 4
}
