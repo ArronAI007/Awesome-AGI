{
  "cells": [
    {
      "cell_type": "code",
      "execution_count": 1,
      "metadata": {
        "colab": {
          "base_uri": "https://localhost:8080/"
        },
        "id": "9FJTWibhVprK",
        "outputId": "a58cc87b-017d-4616-a580-61e7152c454c"
      },
      "outputs": [
        {
          "output_type": "stream",
          "name": "stdout",
          "text": [
            "Collecting openai\n",
            "  Downloading openai-1.20.0-py3-none-any.whl (292 kB)\n",
            "\u001b[2K     \u001b[90m━━━━━━━━━━━━━━━━━━━━━━━━━━━━━━━━━━━━━━━━\u001b[0m \u001b[32m292.8/292.8 kB\u001b[0m \u001b[31m4.1 MB/s\u001b[0m eta \u001b[36m0:00:00\u001b[0m\n",
            "\u001b[?25hRequirement already satisfied: anyio<5,>=3.5.0 in /usr/local/lib/python3.10/dist-packages (from openai) (3.7.1)\n",
            "Requirement already satisfied: distro<2,>=1.7.0 in /usr/lib/python3/dist-packages (from openai) (1.7.0)\n",
            "Collecting httpx<1,>=0.23.0 (from openai)\n",
            "  Downloading httpx-0.27.0-py3-none-any.whl (75 kB)\n",
            "\u001b[2K     \u001b[90m━━━━━━━━━━━━━━━━━━━━━━━━━━━━━━━━━━━━━━━━\u001b[0m \u001b[32m75.6/75.6 kB\u001b[0m \u001b[31m8.0 MB/s\u001b[0m eta \u001b[36m0:00:00\u001b[0m\n",
            "\u001b[?25hRequirement already satisfied: pydantic<3,>=1.9.0 in /usr/local/lib/python3.10/dist-packages (from openai) (2.6.4)\n",
            "Requirement already satisfied: sniffio in /usr/local/lib/python3.10/dist-packages (from openai) (1.3.1)\n",
            "Requirement already satisfied: tqdm>4 in /usr/local/lib/python3.10/dist-packages (from openai) (4.66.2)\n",
            "Requirement already satisfied: typing-extensions<5,>=4.7 in /usr/local/lib/python3.10/dist-packages (from openai) (4.11.0)\n",
            "Requirement already satisfied: idna>=2.8 in /usr/local/lib/python3.10/dist-packages (from anyio<5,>=3.5.0->openai) (3.6)\n",
            "Requirement already satisfied: exceptiongroup in /usr/local/lib/python3.10/dist-packages (from anyio<5,>=3.5.0->openai) (1.2.0)\n",
            "Requirement already satisfied: certifi in /usr/local/lib/python3.10/dist-packages (from httpx<1,>=0.23.0->openai) (2024.2.2)\n",
            "Collecting httpcore==1.* (from httpx<1,>=0.23.0->openai)\n",
            "  Downloading httpcore-1.0.5-py3-none-any.whl (77 kB)\n",
            "\u001b[2K     \u001b[90m━━━━━━━━━━━━━━━━━━━━━━━━━━━━━━━━━━━━━━━━\u001b[0m \u001b[32m77.9/77.9 kB\u001b[0m \u001b[31m5.8 MB/s\u001b[0m eta \u001b[36m0:00:00\u001b[0m\n",
            "\u001b[?25hCollecting h11<0.15,>=0.13 (from httpcore==1.*->httpx<1,>=0.23.0->openai)\n",
            "  Downloading h11-0.14.0-py3-none-any.whl (58 kB)\n",
            "\u001b[2K     \u001b[90m━━━━━━━━━━━━━━━━━━━━━━━━━━━━━━━━━━━━━━━━\u001b[0m \u001b[32m58.3/58.3 kB\u001b[0m \u001b[31m6.1 MB/s\u001b[0m eta \u001b[36m0:00:00\u001b[0m\n",
            "\u001b[?25hRequirement already satisfied: annotated-types>=0.4.0 in /usr/local/lib/python3.10/dist-packages (from pydantic<3,>=1.9.0->openai) (0.6.0)\n",
            "Requirement already satisfied: pydantic-core==2.16.3 in /usr/local/lib/python3.10/dist-packages (from pydantic<3,>=1.9.0->openai) (2.16.3)\n",
            "Installing collected packages: h11, httpcore, httpx, openai\n",
            "Successfully installed h11-0.14.0 httpcore-1.0.5 httpx-0.27.0 openai-1.20.0\n"
          ]
        }
      ],
      "source": [
        "!pip install openai"
      ]
    },
    {
      "cell_type": "code",
      "source": [
        "# 设置OpenAI KEY环境变量\n",
        "import os\n",
        "import getpass\n",
        "os.environ['OPENAI_API_KEY'] = getpass.getpass('OpenAI API Key:')"
      ],
      "metadata": {
        "colab": {
          "base_uri": "https://localhost:8080/"
        },
        "id": "HZkVH4ITCMEg",
        "outputId": "b5c455e9-3daa-4e13-a92f-d98ae9276176"
      },
      "execution_count": 2,
      "outputs": [
        {
          "name": "stdout",
          "output_type": "stream",
          "text": [
            "OpenAI API Key:··········\n"
          ]
        }
      ]
    },
    {
      "cell_type": "code",
      "source": [
        "from openai import OpenAI\n",
        "\n",
        "client = OpenAI()\n",
        "\n",
        "# 定义一个Prompt函数\n",
        "def chat_completion(prompt, model=\"gpt-4\", temperature=0):\n",
        "    res = client.chat.completions.create(\n",
        "        model=model,\n",
        "        messages=[{\"role\": \"user\", \"content\": prompt}],\n",
        "        temperature=temperature,\n",
        "    )\n",
        "    print(res.choices[0].message.content)"
      ],
      "metadata": {
        "id": "5Z7BujaNB91K"
      },
      "execution_count": 3,
      "outputs": []
    },
    {
      "cell_type": "markdown",
      "metadata": {
        "id": "SY1Nn1avVprP"
      },
      "source": [
        "# Context, task and role\n",
        "\n",
        "如果给大模型提供的Prompt包括Context, task and role，那么生成的效果往往会更好；当然如果任务特别复杂，也需要zero-shot，few-shot或者fine-tune才可以。"
      ]
    },
    {
      "cell_type": "markdown",
      "source": [
        "## Context"
      ],
      "metadata": {
        "id": "E8CYvUc1Hn0Z"
      }
    },
    {
      "cell_type": "code",
      "execution_count": 4,
      "metadata": {
        "colab": {
          "base_uri": "https://localhost:8080/"
        },
        "id": "iIQ7dNTwVprR",
        "outputId": "7cd76888-b4ab-4083-8726-18b2b94f0447"
      },
      "outputs": [
        {
          "output_type": "stream",
          "name": "stdout",
          "text": [
            "How about grilled chicken with roasted vegetables and quinoa? It's a healthy and delicious option.\n"
          ]
        }
      ],
      "source": [
        "# 以下是较短的Prompt，提供较少的上下文信息，我们看一下生成的效果如何\n",
        "chat_completion(\"Give me a suggestion for the main course for today's lunch.\")"
      ]
    },
    {
      "cell_type": "code",
      "execution_count": 5,
      "metadata": {
        "colab": {
          "base_uri": "https://localhost:8080/"
        },
        "id": "W4ItAmT3VprS",
        "outputId": "6b3bffc1-ef1b-4181-8201-ce1a0ba2f177"
      },
      "outputs": [
        {
          "output_type": "stream",
          "name": "stdout",
          "text": [
            "How about a hearty Chickpea Curry with brown rice? It's packed with protein and fiber from the chickpeas, and you can add any colorful vegetables you like such as bell peppers, tomatoes, or carrots. The curry spices will add a lot of flavor, and the brown rice will give you the energy you need for your sports activities.\n"
          ]
        }
      ],
      "source": [
        "# 在上述Prompt中提供更多的上下文信息，我们看一下生成的效果如何\n",
        "prompt = \"\"\"\n",
        "Context: I do 2 hours of sport a day. I am vegetarian, and I don't like green\n",
        "vegetables. I am conscientious about eating healthily.\n",
        "Task: Give me a suggestion for a main course for today's lunch.\"\"\"\n",
        "chat_completion(prompt)"
      ]
    },
    {
      "cell_type": "markdown",
      "source": [
        "很明显，提供丰富的上下文，模型会生成更多的内容"
      ],
      "metadata": {
        "id": "78sjOkkVFGbR"
      }
    },
    {
      "cell_type": "code",
      "execution_count": 6,
      "metadata": {
        "colab": {
          "base_uri": "https://localhost:8080/"
        },
        "id": "1FWNgIxpVprU",
        "outputId": "7c2926b4-0454-4928-ae63-1a3e5f8e3e22"
      },
      "outputs": [
        {
          "output_type": "stream",
          "name": "stdout",
          "text": [
            "1. What types of sports do you engage in daily? This can help determine the amount of calories you need.\n",
            "2. What are your favorite vegetarian foods?\n",
            "3. Are there any specific dietary restrictions or allergies I should be aware of?\n",
            "4. Do you prefer a hot or cold main course for lunch?\n",
            "5. Are there any specific cuisines you enjoy?\n",
            "6. Since you don't like green vegetables, are there other colors of vegetables you prefer?\n",
            "7. Do you include dairy and eggs in your vegetarian diet?\n",
            "8. How many meals do you usually have in a day? This can help determine the portion size for your lunch.\n"
          ]
        }
      ],
      "source": [
        "# 构建良好的Prompt是一个试错过程。在下面的示例中，我们不再要求模型回答问题，而是指示它以增强补全效果为目标来向我们提出上下文的问题。\n",
        "prompt = \"\"\"\n",
        "Context: I do 2 hours of sport a day. I am vegetarian and I don't like green\n",
        "vegetables. I am very careful to eat healthily.\n",
        "Task: Give me a suggestion for a main course for today's lunch?\n",
        "Do not perform the requested task! Instead, can you ask me questions about the\n",
        "context so that when I answer, you can perform the requested task more\n",
        "efficiently?\n",
        "\"\"\"\n",
        "chat_completion(prompt)"
      ]
    },
    {
      "cell_type": "markdown",
      "source": [
        "## Task"
      ],
      "metadata": {
        "id": "nBTxEEhzHs3P"
      }
    },
    {
      "cell_type": "code",
      "execution_count": 7,
      "metadata": {
        "colab": {
          "base_uri": "https://localhost:8080/"
        },
        "id": "XHScF-I4VprU",
        "outputId": "9298116b-8a83-4e8c-8c8e-761700ef742e"
      },
      "outputs": [
        {
          "output_type": "stream",
          "name": "stdout",
          "text": [
            "Main Course Suggestion: Vegetarian Quinoa Stir-Fry\n",
            "\n",
            "| Ingredient Name | Quantity (in grams) |\n",
            "|-----------------|---------------------|\n",
            "| Quinoa          | 185                 |\n",
            "| Olive Oil       | 15                  |\n",
            "| Garlic          | 10                  |\n",
            "| Onion           | 70                  |\n",
            "| Bell Peppers    | 75                  |\n",
            "| Carrots         | 60                  |\n",
            "| Mushrooms       | 70                  |\n",
            "| Tofu            | 150                 |\n",
            "| Soy Sauce       | 30                  |\n",
            "| Sesame Seeds    | 10                  |\n"
          ]
        }
      ],
      "source": [
        "# 上面介绍了Prompt中Task中的基本应用，我们可以为该任务提供更多的细节来说明我们想要的内容，比如要求模型列出一张表格，列出每种食材所需的可数\n",
        "prompt = \"\"\"\n",
        "Context: I do 2 hours of sport a day. I am vegetarian, and I don't like green\n",
        "vegetables. I am conscientious about eating healthily.\n",
        "Task: Give me a suggestion for a main course for today's lunch.\n",
        "With this suggestion, I also want a table with two columns where each row\n",
        "contains an ingredient from the main course.\n",
        "The first column in the table is the name of the ingredient.\n",
        "The second column of the table is the number of grams of that ingredient needed\n",
        "for one person. Do not give the recipe for preparing the main course.\n",
        "\"\"\"\n",
        "chat_completion(prompt)"
      ]
    },
    {
      "cell_type": "markdown",
      "source": [
        "## Role"
      ],
      "metadata": {
        "id": "28P_6RNJHwXk"
      }
    },
    {
      "cell_type": "code",
      "execution_count": 8,
      "metadata": {
        "colab": {
          "base_uri": "https://localhost:8080/"
        },
        "id": "Rjm9mOb2VprV",
        "outputId": "8e2d5b0a-9761-45b3-f49a-2d168d38a922"
      },
      "outputs": [
        {
          "output_type": "stream",
          "name": "stdout",
          "text": [
            "Main Course Suggestion: Quinoa and Black Bean Salad\n",
            "\n",
            "| Ingredient | Quantity (grams) |\n",
            "|------------|-----------------|\n",
            "| Quinoa     | 185             |\n",
            "| Black Beans| 130             |\n",
            "| Corn       | 80              |\n",
            "| Red Bell Pepper | 75        |\n",
            "| Avocado    | 150             |\n",
            "| Lime       | 30              |\n",
            "| Olive Oil  | 15              |\n",
            "| Cilantro   | 10              |\n",
            "| Salt       | 5               |\n",
            "| Pepper     | 2               |\n"
          ]
        }
      ],
      "source": [
        "# 添加角色可以更好的控制模型输出，比如我们赋予模型运动营养专家的角色，来看看生成的效果\n",
        "prompt = \"\"\"\n",
        "Role: You are a nutritionist designing healthy diets for high-performance athletes. You take into account the nutrition needed for a good recovery.\n",
        "Context: I do 2 hours of sport a day. I am vegetarian, and I don't like green vegetables. I am conscientious about eating healthily.\n",
        "Task: Based on your expertise defined in your role. Give me a suggestion for a main course for today's lunch.\n",
        "With this suggestion, I also want a table with two columns where each row in the table contains an ingredient from the main course.\n",
        "The first column in the table is the name of the ingredient.\n",
        "The second column of the table is the number of grams of that ingredient needed for one person.\n",
        "Do not give the recipe for preparing the main course.\n",
        "\"\"\"\n",
        "chat_completion(prompt)"
      ]
    },
    {
      "cell_type": "markdown",
      "metadata": {
        "id": "zyBpUF3MVprV"
      },
      "source": [
        "## Thinking Step by Step"
      ]
    },
    {
      "cell_type": "code",
      "execution_count": 9,
      "metadata": {
        "colab": {
          "base_uri": "https://localhost:8080/"
        },
        "id": "hxECQRMoVprW",
        "outputId": "f5ef90ac-e4d1-460c-a480-5b35d5861100"
      },
      "outputs": [
        {
          "output_type": "stream",
          "name": "stdout",
          "text": [
            "455415\n"
          ]
        }
      ],
      "source": [
        "# GPT-4不擅长计算，它将数字视为token，没有数学逻辑，当然可以采用计算器插件的形式来弥补，我们先来看一下直接作为Prompt会是什么效果？\n",
        "prompt = \"How much is 369 * 1235?\"\n",
        "chat_completion(prompt)"
      ]
    },
    {
      "cell_type": "markdown",
      "source": [
        "答案显然是不正确的，正确答案是455715."
      ],
      "metadata": {
        "id": "mfKQo2-LKVZ8"
      }
    },
    {
      "cell_type": "code",
      "execution_count": 12,
      "metadata": {
        "colab": {
          "base_uri": "https://localhost:8080/"
        },
        "id": "LQ-Qg6C8VprW",
        "outputId": "82fcc8a2-c25c-4772-9ae1-a4c4113fad5b"
      },
      "outputs": [
        {
          "output_type": "stream",
          "name": "stdout",
          "text": [
            "First, multiply 369 by 5. That gives us 1845.\n",
            "\n",
            "Next, multiply 369 by 30 (which is the same as multiplying by 3 and then adding a zero at the end). That gives us 11070.\n",
            "\n",
            "Then, multiply 369 by 2000 (which is the same as multiplying by 2 and then adding three zeros at the end). That gives us 738000.\n",
            "\n",
            "Finally, add all these results together: 1845 + 11070 + 738000 = 754915.\n",
            "\n",
            "So, 369 * 1235 = 754915.\n"
          ]
        }
      ],
      "source": [
        "# \"Let's think step by step\"技术被称为zero-shot-CoT，下面来看看使用这种技术的效果\n",
        "prompt = \"How much is 369 * 1235? Let's think step by step.\"\n",
        "chat_completion(prompt)\n"
      ]
    },
    {
      "cell_type": "markdown",
      "source": [
        "尽管答案是错误的，但是确实是将任务进行了分解，只是过程中部分代码错误了"
      ],
      "metadata": {
        "id": "5GR4ppQzLyt-"
      }
    },
    {
      "cell_type": "markdown",
      "metadata": {
        "id": "FfJxlzfwVprX"
      },
      "source": [
        "## Few Shot Learning"
      ]
    },
    {
      "cell_type": "code",
      "execution_count": 13,
      "metadata": {
        "colab": {
          "base_uri": "https://localhost:8080/"
        },
        "id": "t6XetbO6VprX",
        "outputId": "26829db1-cdd7-4b3d-872b-c3a883b3330b"
      },
      "outputs": [
        {
          "output_type": "stream",
          "name": "stdout",
          "text": [
            "The 👦 ✍️ a 💌 to a 👧\n"
          ]
        }
      ],
      "source": [
        "# 本例中，我们要求LLM将特定的单词转换为表情符号，使用少样本学习，就变的比较容易了\n",
        "prompt = \"\"\"\n",
        "I go home --> 😊 go 🏠\n",
        "my dog is sad --> my 🐶 is 😞\n",
        "I run fast --> 😊 run ⚡\n",
        "I love my wife --> 😊 ❤️ my wife\n",
        "the girl plays with the ball --> the 👧 🎮 with the 🏀\n",
        "The boy writes a letter to a girl -->\n",
        "\"\"\"\n",
        "chat_completion(prompt)\n"
      ]
    }
  ],
  "metadata": {
    "kernelspec": {
      "display_name": ".venv",
      "language": "python",
      "name": "python3"
    },
    "language_info": {
      "codemirror_mode": {
        "name": "ipython",
        "version": 3
      },
      "file_extension": ".py",
      "mimetype": "text/x-python",
      "name": "python",
      "nbconvert_exporter": "python",
      "pygments_lexer": "ipython3",
      "version": "3.8.10"
    },
    "orig_nbformat": 4,
    "colab": {
      "provenance": []
    }
  },
  "nbformat": 4,
  "nbformat_minor": 0
}