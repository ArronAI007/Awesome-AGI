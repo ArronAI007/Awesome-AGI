{
  "nbformat": 4,
  "nbformat_minor": 0,
  "metadata": {
    "colab": {
      "provenance": [],
      "gpuType": "T4"
    },
    "kernelspec": {
      "name": "python3",
      "display_name": "Python 3"
    },
    "language_info": {
      "name": "python"
    },
    "accelerator": "GPU"
  },
  "cells": [
    {
      "cell_type": "code",
      "execution_count": 1,
      "metadata": {
        "colab": {
          "base_uri": "https://localhost:8080/"
        },
        "id": "rEAYJPO1_Zin",
        "outputId": "0cc8aac6-8c47-4081-a34d-f608fb804c32"
      },
      "outputs": [
        {
          "output_type": "stream",
          "name": "stdout",
          "text": [
            "Collecting openai\n",
            "  Downloading openai-1.17.1-py3-none-any.whl (268 kB)\n",
            "\u001b[?25l     \u001b[90m━━━━━━━━━━━━━━━━━━━━━━━━━━━━━━━━━━━━━━━━\u001b[0m \u001b[32m0.0/268.3 kB\u001b[0m \u001b[31m?\u001b[0m eta \u001b[36m-:--:--\u001b[0m\r\u001b[2K     \u001b[91m━━━━━━━━━━━━━━━━━━━━━━━━\u001b[0m\u001b[90m╺\u001b[0m\u001b[90m━━━━━━━━━━━━━━━\u001b[0m \u001b[32m163.8/268.3 kB\u001b[0m \u001b[31m5.1 MB/s\u001b[0m eta \u001b[36m0:00:01\u001b[0m\r\u001b[2K     \u001b[90m━━━━━━━━━━━━━━━━━━━━━━━━━━━━━━━━━━━━━━━━\u001b[0m \u001b[32m268.3/268.3 kB\u001b[0m \u001b[31m5.1 MB/s\u001b[0m eta \u001b[36m0:00:00\u001b[0m\n",
            "\u001b[?25hRequirement already satisfied: anyio<5,>=3.5.0 in /usr/local/lib/python3.10/dist-packages (from openai) (3.7.1)\n",
            "Requirement already satisfied: distro<2,>=1.7.0 in /usr/lib/python3/dist-packages (from openai) (1.7.0)\n",
            "Collecting httpx<1,>=0.23.0 (from openai)\n",
            "  Downloading httpx-0.27.0-py3-none-any.whl (75 kB)\n",
            "\u001b[2K     \u001b[90m━━━━━━━━━━━━━━━━━━━━━━━━━━━━━━━━━━━━━━━━\u001b[0m \u001b[32m75.6/75.6 kB\u001b[0m \u001b[31m8.6 MB/s\u001b[0m eta \u001b[36m0:00:00\u001b[0m\n",
            "\u001b[?25hRequirement already satisfied: pydantic<3,>=1.9.0 in /usr/local/lib/python3.10/dist-packages (from openai) (2.6.4)\n",
            "Requirement already satisfied: sniffio in /usr/local/lib/python3.10/dist-packages (from openai) (1.3.1)\n",
            "Requirement already satisfied: tqdm>4 in /usr/local/lib/python3.10/dist-packages (from openai) (4.66.2)\n",
            "Requirement already satisfied: typing-extensions<5,>=4.7 in /usr/local/lib/python3.10/dist-packages (from openai) (4.10.0)\n",
            "Requirement already satisfied: idna>=2.8 in /usr/local/lib/python3.10/dist-packages (from anyio<5,>=3.5.0->openai) (3.6)\n",
            "Requirement already satisfied: exceptiongroup in /usr/local/lib/python3.10/dist-packages (from anyio<5,>=3.5.0->openai) (1.2.0)\n",
            "Requirement already satisfied: certifi in /usr/local/lib/python3.10/dist-packages (from httpx<1,>=0.23.0->openai) (2024.2.2)\n",
            "Collecting httpcore==1.* (from httpx<1,>=0.23.0->openai)\n",
            "  Downloading httpcore-1.0.5-py3-none-any.whl (77 kB)\n",
            "\u001b[2K     \u001b[90m━━━━━━━━━━━━━━━━━━━━━━━━━━━━━━━━━━━━━━━━\u001b[0m \u001b[32m77.9/77.9 kB\u001b[0m \u001b[31m9.7 MB/s\u001b[0m eta \u001b[36m0:00:00\u001b[0m\n",
            "\u001b[?25hCollecting h11<0.15,>=0.13 (from httpcore==1.*->httpx<1,>=0.23.0->openai)\n",
            "  Downloading h11-0.14.0-py3-none-any.whl (58 kB)\n",
            "\u001b[2K     \u001b[90m━━━━━━━━━━━━━━━━━━━━━━━━━━━━━━━━━━━━━━━━\u001b[0m \u001b[32m58.3/58.3 kB\u001b[0m \u001b[31m7.3 MB/s\u001b[0m eta \u001b[36m0:00:00\u001b[0m\n",
            "\u001b[?25hRequirement already satisfied: annotated-types>=0.4.0 in /usr/local/lib/python3.10/dist-packages (from pydantic<3,>=1.9.0->openai) (0.6.0)\n",
            "Requirement already satisfied: pydantic-core==2.16.3 in /usr/local/lib/python3.10/dist-packages (from pydantic<3,>=1.9.0->openai) (2.16.3)\n",
            "Installing collected packages: h11, httpcore, httpx, openai\n",
            "Successfully installed h11-0.14.0 httpcore-1.0.5 httpx-0.27.0 openai-1.17.1\n"
          ]
        }
      ],
      "source": [
        "!pip install openai"
      ]
    },
    {
      "cell_type": "code",
      "source": [
        "# 设置OpenAI KEY环境变量\n",
        "import os\n",
        "import getpass\n",
        "os.environ['OPENAI_API_KEY'] = getpass.getpass('OpenAI API Key:')"
      ],
      "metadata": {
        "colab": {
          "base_uri": "https://localhost:8080/"
        },
        "id": "fDssaY28_p8S",
        "outputId": "0787b98d-14b6-4ace-ae3e-f412e8d0a70b"
      },
      "execution_count": 2,
      "outputs": [
        {
          "name": "stdout",
          "output_type": "stream",
          "text": [
            "OpenAI API Key:··········\n"
          ]
        }
      ]
    },
    {
      "cell_type": "markdown",
      "source": [
        "假设我们有一个公司产品相关的数据库，我们可以定义一个函数来对这个数据库进行搜索"
      ],
      "metadata": {
        "id": "6BcSmA2__7Cn"
      }
    },
    {
      "cell_type": "code",
      "source": [
        "from openai import OpenAI\n",
        "\n",
        "client = OpenAI()\n",
        "import json\n",
        "\n",
        "# 示例函数\n",
        "def find_product(sql_query):\n",
        "    # Execute query here\n",
        "    results = [\n",
        "        {\"name\": \"pen\", \"color\": \"blue\", \"price\": 1.99},\n",
        "        {\"name\": \"pen\", \"color\": \"red\", \"price\": 1.78},\n",
        "    ]\n",
        "    return results\n",
        "\n",
        "# 函数定义\n",
        "function_find_product = {\n",
        "        \"name\": \"find_product\",\n",
        "        \"description\": \"Get a list of products from a sql query\",\n",
        "        \"parameters\": {\n",
        "            \"type\": \"object\",\n",
        "            \"properties\": {\n",
        "                \"sql_query\": {\n",
        "                    \"type\": \"string\",\n",
        "                    \"description\": \"A SQL query\",\n",
        "                }\n",
        "            },\n",
        "            \"required\": [\"sql_query\"],\n",
        "        },\n",
        "    }\n",
        "\n",
        "\n",
        "\n",
        "def run(user_question):\n",
        "    # 传入用户question和函数给GPT3.5\n",
        "    messages = [{\"role\": \"user\", \"content\": user_question}]\n",
        "\n",
        "    response = client.chat.completions.create(model=\"gpt-3.5-turbo-0613\", messages=messages, tools=[{\"type\": \"function\", \"function\": function_find_product }])\n",
        "    response_message = response.choices[0].message\n",
        "\n",
        "    # 添加assistant响应到messages中\n",
        "    messages.append(response_message)\n",
        "\n",
        "\n",
        "    # 调用函数\n",
        "    function_name = response_message.tool_calls[0].function.name\n",
        "    if function_name == \"find_product\":\n",
        "        function_args = json.loads(\n",
        "            response_message.tool_calls[0].function.arguments\n",
        "        )\n",
        "        products = find_product(function_args.get(\"sql_query\"))\n",
        "    else:\n",
        "        # Handle error\n",
        "        products = []\n",
        "    # 把函数响应结果添加到messages中\n",
        "    messages.append(\n",
        "        {\n",
        "            \"role\": \"tool\",\n",
        "            \"content\": json.dumps(products),\n",
        "            \"tool_call_id\": response_message.tool_calls[0].id,\n",
        "        }\n",
        "    )\n",
        "    # 把函数响应结果转换为自然语言\n",
        "    second_response = client.chat.completions.create(model=\"gpt-3.5-turbo-0613\",\n",
        "    messages=messages)\n",
        "    return second_response.choices[0].message.content\n",
        "\n",
        "\n",
        "print(run(\"I need the top 2 products where the price is less than 2.00\"))\n"
      ],
      "metadata": {
        "colab": {
          "base_uri": "https://localhost:8080/"
        },
        "id": "S1xfrV43_b5e",
        "outputId": "0cd21ac7-eba8-455b-86fe-91647ed1e52d"
      },
      "execution_count": 3,
      "outputs": [
        {
          "output_type": "stream",
          "name": "stdout",
          "text": [
            "The top 2 products with prices less than 2.00 are:\n",
            "\n",
            "1. Pen (color: blue, price: 1.99)\n",
            "2. Pen (color: red, price: 1.78)\n"
          ]
        }
      ]
    }
  ]
}