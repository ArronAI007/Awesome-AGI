{
  "nbformat": 4,
  "nbformat_minor": 0,
  "metadata": {
    "colab": {
      "provenance": []
    },
    "kernelspec": {
      "name": "python3",
      "display_name": "Python 3"
    },
    "language_info": {
      "name": "python"
    }
  },
  "cells": [
    {
      "cell_type": "markdown",
      "source": [
        "# 目标：使用LangChain框架搭建一个简单的数学计算Agent"
      ],
      "metadata": {
        "id": "Qg4eDOcrUfI9"
      }
    },
    {
      "cell_type": "markdown",
      "source": [
        "首先，需要安装相关的python包"
      ],
      "metadata": {
        "id": "70sXqoPQU2rW"
      }
    },
    {
      "cell_type": "code",
      "source": [
        "!pip install langchain docmesh_agent"
      ],
      "metadata": {
        "colab": {
          "base_uri": "https://localhost:8080/"
        },
        "id": "6GRWjU8MP6co",
        "outputId": "3dc18f8a-550b-4189-e7dc-3acbc4d69a60"
      },
      "execution_count": 4,
      "outputs": [
        {
          "output_type": "stream",
          "name": "stdout",
          "text": [
            "Requirement already satisfied: langchain in /usr/local/lib/python3.10/dist-packages (0.2.14)\n",
            "Requirement already satisfied: docmesh_agent in /usr/local/lib/python3.10/dist-packages (0.0.18)\n",
            "Requirement already satisfied: PyYAML>=5.3 in /usr/local/lib/python3.10/dist-packages (from langchain) (6.0.2)\n",
            "Requirement already satisfied: SQLAlchemy<3,>=1.4 in /usr/local/lib/python3.10/dist-packages (from langchain) (2.0.32)\n",
            "Requirement already satisfied: aiohttp<4.0.0,>=3.8.3 in /usr/local/lib/python3.10/dist-packages (from langchain) (3.10.5)\n",
            "Requirement already satisfied: async-timeout<5.0.0,>=4.0.0 in /usr/local/lib/python3.10/dist-packages (from langchain) (4.0.3)\n",
            "Requirement already satisfied: langchain-core<0.3.0,>=0.2.32 in /usr/local/lib/python3.10/dist-packages (from langchain) (0.2.34)\n",
            "Requirement already satisfied: langchain-text-splitters<0.3.0,>=0.2.0 in /usr/local/lib/python3.10/dist-packages (from langchain) (0.2.2)\n",
            "Requirement already satisfied: langsmith<0.2.0,>=0.1.17 in /usr/local/lib/python3.10/dist-packages (from langchain) (0.1.104)\n",
            "Requirement already satisfied: numpy<2,>=1 in /usr/local/lib/python3.10/dist-packages (from langchain) (1.26.4)\n",
            "Requirement already satisfied: pydantic<3,>=1 in /usr/local/lib/python3.10/dist-packages (from langchain) (2.8.2)\n",
            "Requirement already satisfied: requests<3,>=2 in /usr/local/lib/python3.10/dist-packages (from langchain) (2.32.3)\n",
            "Requirement already satisfied: tenacity!=8.4.0,<9.0.0,>=8.1.0 in /usr/local/lib/python3.10/dist-packages (from langchain) (8.5.0)\n",
            "Requirement already satisfied: docmesh-core>=0.0.18 in /usr/local/lib/python3.10/dist-packages (from docmesh_agent) (0.0.18)\n",
            "Requirement already satisfied: colorama>=0.4.6 in /usr/local/lib/python3.10/dist-packages (from docmesh_agent) (0.4.6)\n",
            "Requirement already satisfied: pymupdf>=1.24.3 in /usr/local/lib/python3.10/dist-packages (from docmesh_agent) (1.24.9)\n",
            "Requirement already satisfied: faiss-cpu>=1.8.0 in /usr/local/lib/python3.10/dist-packages (from docmesh_agent) (1.8.0.post1)\n",
            "Requirement already satisfied: langchain-openai>=0.1.3 in /usr/local/lib/python3.10/dist-packages (from docmesh_agent) (0.1.22)\n",
            "Requirement already satisfied: langchain-community>=0.0.38 in /usr/local/lib/python3.10/dist-packages (from docmesh_agent) (0.2.12)\n",
            "Requirement already satisfied: langchainhub>=0.1.15 in /usr/local/lib/python3.10/dist-packages (from docmesh_agent) (0.1.21)\n",
            "Requirement already satisfied: aiohappyeyeballs>=2.3.0 in /usr/local/lib/python3.10/dist-packages (from aiohttp<4.0.0,>=3.8.3->langchain) (2.4.0)\n",
            "Requirement already satisfied: aiosignal>=1.1.2 in /usr/local/lib/python3.10/dist-packages (from aiohttp<4.0.0,>=3.8.3->langchain) (1.3.1)\n",
            "Requirement already satisfied: attrs>=17.3.0 in /usr/local/lib/python3.10/dist-packages (from aiohttp<4.0.0,>=3.8.3->langchain) (24.2.0)\n",
            "Requirement already satisfied: frozenlist>=1.1.1 in /usr/local/lib/python3.10/dist-packages (from aiohttp<4.0.0,>=3.8.3->langchain) (1.4.1)\n",
            "Requirement already satisfied: multidict<7.0,>=4.5 in /usr/local/lib/python3.10/dist-packages (from aiohttp<4.0.0,>=3.8.3->langchain) (6.0.5)\n",
            "Requirement already satisfied: yarl<2.0,>=1.0 in /usr/local/lib/python3.10/dist-packages (from aiohttp<4.0.0,>=3.8.3->langchain) (1.9.4)\n",
            "Requirement already satisfied: retry>=0.9.2 in /usr/local/lib/python3.10/dist-packages (from docmesh-core>=0.0.18->docmesh_agent) (0.9.2)\n",
            "Requirement already satisfied: scipy>=1.13.0 in /usr/local/lib/python3.10/dist-packages (from docmesh-core>=0.0.18->docmesh_agent) (1.13.1)\n",
            "Requirement already satisfied: pandas>=2.2.2 in /usr/local/lib/python3.10/dist-packages (from docmesh-core>=0.0.18->docmesh_agent) (2.2.2)\n",
            "Requirement already satisfied: networkx>=3.2 in /usr/local/lib/python3.10/dist-packages (from docmesh-core>=0.0.18->docmesh_agent) (3.3)\n",
            "Requirement already satisfied: matplotlib>=3.8.4 in /usr/local/lib/python3.10/dist-packages (from docmesh-core>=0.0.18->docmesh_agent) (3.9.2)\n",
            "Requirement already satisfied: neomodel>=5.3.0 in /usr/local/lib/python3.10/dist-packages (from docmesh-core>=0.0.18->docmesh_agent) (5.3.2)\n",
            "Requirement already satisfied: pymysql>=0.9.3 in /usr/local/lib/python3.10/dist-packages (from docmesh-core>=0.0.18->docmesh_agent) (1.1.1)\n",
            "Requirement already satisfied: packaging in /usr/local/lib/python3.10/dist-packages (from faiss-cpu>=1.8.0->docmesh_agent) (24.1)\n",
            "Requirement already satisfied: dataclasses-json<0.7,>=0.5.7 in /usr/local/lib/python3.10/dist-packages (from langchain-community>=0.0.38->docmesh_agent) (0.6.7)\n",
            "Requirement already satisfied: jsonpatch<2.0,>=1.33 in /usr/local/lib/python3.10/dist-packages (from langchain-core<0.3.0,>=0.2.32->langchain) (1.33)\n",
            "Requirement already satisfied: typing-extensions>=4.7 in /usr/local/lib/python3.10/dist-packages (from langchain-core<0.3.0,>=0.2.32->langchain) (4.12.2)\n",
            "Requirement already satisfied: openai<2.0.0,>=1.40.0 in /usr/local/lib/python3.10/dist-packages (from langchain-openai>=0.1.3->docmesh_agent) (1.42.0)\n",
            "Requirement already satisfied: tiktoken<1,>=0.7 in /usr/local/lib/python3.10/dist-packages (from langchain-openai>=0.1.3->docmesh_agent) (0.7.0)\n",
            "Requirement already satisfied: types-requests<3.0.0.0,>=2.31.0.2 in /usr/local/lib/python3.10/dist-packages (from langchainhub>=0.1.15->docmesh_agent) (2.32.0.20240712)\n",
            "Requirement already satisfied: httpx<1,>=0.23.0 in /usr/local/lib/python3.10/dist-packages (from langsmith<0.2.0,>=0.1.17->langchain) (0.27.0)\n",
            "Requirement already satisfied: orjson<4.0.0,>=3.9.14 in /usr/local/lib/python3.10/dist-packages (from langsmith<0.2.0,>=0.1.17->langchain) (3.10.7)\n",
            "Requirement already satisfied: annotated-types>=0.4.0 in /usr/local/lib/python3.10/dist-packages (from pydantic<3,>=1->langchain) (0.7.0)\n",
            "Requirement already satisfied: pydantic-core==2.20.1 in /usr/local/lib/python3.10/dist-packages (from pydantic<3,>=1->langchain) (2.20.1)\n",
            "Requirement already satisfied: PyMuPDFb==1.24.9 in /usr/local/lib/python3.10/dist-packages (from pymupdf>=1.24.3->docmesh_agent) (1.24.9)\n",
            "Requirement already satisfied: charset-normalizer<4,>=2 in /usr/local/lib/python3.10/dist-packages (from requests<3,>=2->langchain) (3.3.2)\n",
            "Requirement already satisfied: idna<4,>=2.5 in /usr/local/lib/python3.10/dist-packages (from requests<3,>=2->langchain) (3.7)\n",
            "Requirement already satisfied: urllib3<3,>=1.21.1 in /usr/local/lib/python3.10/dist-packages (from requests<3,>=2->langchain) (2.0.7)\n",
            "Requirement already satisfied: certifi>=2017.4.17 in /usr/local/lib/python3.10/dist-packages (from requests<3,>=2->langchain) (2024.7.4)\n",
            "Requirement already satisfied: greenlet!=0.4.17 in /usr/local/lib/python3.10/dist-packages (from SQLAlchemy<3,>=1.4->langchain) (3.0.3)\n",
            "Requirement already satisfied: marshmallow<4.0.0,>=3.18.0 in /usr/local/lib/python3.10/dist-packages (from dataclasses-json<0.7,>=0.5.7->langchain-community>=0.0.38->docmesh_agent) (3.22.0)\n",
            "Requirement already satisfied: typing-inspect<1,>=0.4.0 in /usr/local/lib/python3.10/dist-packages (from dataclasses-json<0.7,>=0.5.7->langchain-community>=0.0.38->docmesh_agent) (0.9.0)\n",
            "Requirement already satisfied: anyio in /usr/local/lib/python3.10/dist-packages (from httpx<1,>=0.23.0->langsmith<0.2.0,>=0.1.17->langchain) (3.7.1)\n",
            "Requirement already satisfied: httpcore==1.* in /usr/local/lib/python3.10/dist-packages (from httpx<1,>=0.23.0->langsmith<0.2.0,>=0.1.17->langchain) (1.0.5)\n",
            "Requirement already satisfied: sniffio in /usr/local/lib/python3.10/dist-packages (from httpx<1,>=0.23.0->langsmith<0.2.0,>=0.1.17->langchain) (1.3.1)\n",
            "Requirement already satisfied: h11<0.15,>=0.13 in /usr/local/lib/python3.10/dist-packages (from httpcore==1.*->httpx<1,>=0.23.0->langsmith<0.2.0,>=0.1.17->langchain) (0.14.0)\n",
            "Requirement already satisfied: jsonpointer>=1.9 in /usr/local/lib/python3.10/dist-packages (from jsonpatch<2.0,>=1.33->langchain-core<0.3.0,>=0.2.32->langchain) (3.0.0)\n",
            "Requirement already satisfied: contourpy>=1.0.1 in /usr/local/lib/python3.10/dist-packages (from matplotlib>=3.8.4->docmesh-core>=0.0.18->docmesh_agent) (1.2.1)\n",
            "Requirement already satisfied: cycler>=0.10 in /usr/local/lib/python3.10/dist-packages (from matplotlib>=3.8.4->docmesh-core>=0.0.18->docmesh_agent) (0.12.1)\n",
            "Requirement already satisfied: fonttools>=4.22.0 in /usr/local/lib/python3.10/dist-packages (from matplotlib>=3.8.4->docmesh-core>=0.0.18->docmesh_agent) (4.53.1)\n",
            "Requirement already satisfied: kiwisolver>=1.3.1 in /usr/local/lib/python3.10/dist-packages (from matplotlib>=3.8.4->docmesh-core>=0.0.18->docmesh_agent) (1.4.5)\n",
            "Requirement already satisfied: pillow>=8 in /usr/local/lib/python3.10/dist-packages (from matplotlib>=3.8.4->docmesh-core>=0.0.18->docmesh_agent) (9.4.0)\n",
            "Requirement already satisfied: pyparsing>=2.3.1 in /usr/local/lib/python3.10/dist-packages (from matplotlib>=3.8.4->docmesh-core>=0.0.18->docmesh_agent) (3.1.2)\n",
            "Requirement already satisfied: python-dateutil>=2.7 in /usr/local/lib/python3.10/dist-packages (from matplotlib>=3.8.4->docmesh-core>=0.0.18->docmesh_agent) (2.8.2)\n",
            "Requirement already satisfied: neo4j~=5.19.0 in /usr/local/lib/python3.10/dist-packages (from neomodel>=5.3.0->docmesh-core>=0.0.18->docmesh_agent) (5.19.0)\n",
            "Requirement already satisfied: distro<2,>=1.7.0 in /usr/lib/python3/dist-packages (from openai<2.0.0,>=1.40.0->langchain-openai>=0.1.3->docmesh_agent) (1.7.0)\n",
            "Requirement already satisfied: jiter<1,>=0.4.0 in /usr/local/lib/python3.10/dist-packages (from openai<2.0.0,>=1.40.0->langchain-openai>=0.1.3->docmesh_agent) (0.5.0)\n",
            "Requirement already satisfied: tqdm>4 in /usr/local/lib/python3.10/dist-packages (from openai<2.0.0,>=1.40.0->langchain-openai>=0.1.3->docmesh_agent) (4.66.5)\n",
            "Requirement already satisfied: pytz>=2020.1 in /usr/local/lib/python3.10/dist-packages (from pandas>=2.2.2->docmesh-core>=0.0.18->docmesh_agent) (2024.1)\n",
            "Requirement already satisfied: tzdata>=2022.7 in /usr/local/lib/python3.10/dist-packages (from pandas>=2.2.2->docmesh-core>=0.0.18->docmesh_agent) (2024.1)\n",
            "Requirement already satisfied: decorator>=3.4.2 in /usr/local/lib/python3.10/dist-packages (from retry>=0.9.2->docmesh-core>=0.0.18->docmesh_agent) (4.4.2)\n",
            "Requirement already satisfied: py<2.0.0,>=1.4.26 in /usr/local/lib/python3.10/dist-packages (from retry>=0.9.2->docmesh-core>=0.0.18->docmesh_agent) (1.11.0)\n",
            "Requirement already satisfied: regex>=2022.1.18 in /usr/local/lib/python3.10/dist-packages (from tiktoken<1,>=0.7->langchain-openai>=0.1.3->docmesh_agent) (2024.5.15)\n",
            "Requirement already satisfied: exceptiongroup in /usr/local/lib/python3.10/dist-packages (from anyio->httpx<1,>=0.23.0->langsmith<0.2.0,>=0.1.17->langchain) (1.2.2)\n",
            "Requirement already satisfied: six>=1.5 in /usr/local/lib/python3.10/dist-packages (from python-dateutil>=2.7->matplotlib>=3.8.4->docmesh-core>=0.0.18->docmesh_agent) (1.16.0)\n",
            "Requirement already satisfied: mypy-extensions>=0.3.0 in /usr/local/lib/python3.10/dist-packages (from typing-inspect<1,>=0.4.0->dataclasses-json<0.7,>=0.5.7->langchain-community>=0.0.38->docmesh_agent) (1.0.0)\n"
          ]
        }
      ]
    },
    {
      "cell_type": "markdown",
      "source": [
        "# 下面，我们演示一下关键组件的定义"
      ],
      "metadata": {
        "id": "CxSTB8g0WExG"
      }
    },
    {
      "cell_type": "code",
      "source": [
        "from typing import Type, Optional, List, Callable, Any\n",
        "\n",
        "from docmesh_agent.tools.base import BaseAgentTool\n",
        "from langchain.agents import create_tool_calling_agent, AgentExecutor\n",
        "from langchain_core.prompts import ChatPromptTemplate, MessagesPlaceholder\n",
        "from langchain_core.pydantic_v1 import BaseModel, Field\n",
        "from langchain.tools import tool\n",
        "from langchain_core.tools import BaseTool, BaseToolkit"
      ],
      "metadata": {
        "id": "Co6VEKv0Jj9W"
      },
      "execution_count": 5,
      "outputs": []
    },
    {
      "cell_type": "markdown",
      "source": [
        "# 定义Agent方法一："
      ],
      "metadata": {
        "id": "c-gKjBsUXqRB"
      }
    },
    {
      "cell_type": "code",
      "source": [
        "# 定义求和Agent的两个输入参数\n",
        "class AddInput(BaseModel):\n",
        "    a:int = Field(description=\"first number\")\n",
        "    b: int = Field(description=\"second number\")\n",
        "\n",
        "# 定义求和的Agent\n",
        "class AddTool(BaseTool):\n",
        "    name = \"add\"\n",
        "    description = \"Adds two numbers together\"\n",
        "    args_schema: Optional[Type[BaseModel]] = AddInput\n",
        "    return_direct: bool = True\n",
        "\n",
        "    def _run(self, a: int, b: int,)->int:\n",
        "      return a + b"
      ],
      "metadata": {
        "id": "HVd79uwXJj_a"
      },
      "execution_count": 6,
      "outputs": []
    },
    {
      "cell_type": "code",
      "source": [
        "# 实例化求和Agent，并输出对应的参数\n",
        "add_tool = AddTool()\n",
        "\n",
        "print(add_tool.name)\n",
        "print(add_tool.description)\n",
        "print(add_tool.args)"
      ],
      "metadata": {
        "id": "zdB5X2JBJkCC",
        "colab": {
          "base_uri": "https://localhost:8080/"
        },
        "outputId": "be27963e-ca2f-47db-d8d1-cfb89a2f868d"
      },
      "execution_count": 7,
      "outputs": [
        {
          "output_type": "stream",
          "name": "stdout",
          "text": [
            "add\n",
            "Adds two numbers together\n",
            "{'a': {'title': 'A', 'description': 'first\\xa0number', 'type': 'integer'}, 'b': {'title': 'B', 'description': 'second\\xa0number', 'type': 'integer'}}\n"
          ]
        }
      ]
    },
    {
      "cell_type": "markdown",
      "source": [
        "# 定义Agent方法二：\n",
        "\n",
        "还有一种更为简单的方式来定义tool，直接用装饰器"
      ],
      "metadata": {
        "id": "r9BV44XHONSp"
      }
    },
    {
      "cell_type": "code",
      "source": [
        "@tool\n",
        "def add(a: int, b: int) -> int:\n",
        "    \"\"\"Adds two numbers together\"\"\"\n",
        "    return a + b\n",
        "\n",
        "print(add.name)\n",
        "print(add.description)\n",
        "print(add.args)"
      ],
      "metadata": {
        "id": "ps2Qjf2RK70D",
        "colab": {
          "base_uri": "https://localhost:8080/"
        },
        "outputId": "d1626791-45ea-4541-d17d-0f2aca16eb31"
      },
      "execution_count": 8,
      "outputs": [
        {
          "output_type": "stream",
          "name": "stdout",
          "text": [
            "add\n",
            "Adds two numbers together\n",
            "{'a': {'title': 'A', 'type': 'integer'}, 'b': {'title': 'B', 'type': 'integer'}}\n"
          ]
        }
      ]
    },
    {
      "cell_type": "markdown",
      "source": [
        "这里直接会把a和b参数进行包装，且\"\"\"之间的即为 description"
      ],
      "metadata": {
        "id": "YyyeoCCBOpul"
      }
    },
    {
      "cell_type": "markdown",
      "source": [
        "# math agent示例\n",
        "实现一个可以做一些数学题的agent\n",
        "\n",
        "这里只实现两个tool，一个是+一个是✖️"
      ],
      "metadata": {
        "id": "BH78gD9eOxhj"
      }
    },
    {
      "cell_type": "code",
      "source": [
        "@tool\n",
        "def add(a: int, b: int) -> int:\n",
        "    \"\"\"Adds two numbers together\"\"\"\n",
        "    return a + b\n",
        "\n",
        "\n",
        "@tool\n",
        "def multipy(a: int, b: int) -> int:\n",
        "    \"\"\"Multiply two numbers\"\"\"\n",
        "    return a * b"
      ],
      "metadata": {
        "id": "Flie3Rk2K74w"
      },
      "execution_count": 9,
      "outputs": []
    },
    {
      "cell_type": "markdown",
      "source": [
        "定义好tool之后，可以将tool按照toolkit进行管理"
      ],
      "metadata": {
        "id": "hCQY6etnPIn-"
      }
    },
    {
      "cell_type": "code",
      "source": [
        "class MathToolkit(BaseToolkit):\n",
        "    def get_tools(self) -> list[BaseAgentTool]:\n",
        "        return [\n",
        "            add,\n",
        "            multipy\n",
        "        ]"
      ],
      "metadata": {
        "id": "sLDtQUGtK77G"
      },
      "execution_count": 10,
      "outputs": []
    },
    {
      "cell_type": "markdown",
      "source": [
        "之后完成后面几步，就可以和agent进行沟通了，加上前面的步骤，主要需要实现：\n",
        "\n",
        "定义tool\n",
        "\n",
        "用toolkit进行分类管理\n",
        "\n",
        "实例化llm\n",
        "\n",
        "创建prompt\n",
        "\n",
        "利用tool + llm + prompt创建agent\n",
        "\n",
        "利用agent + tool创建agent executor"
      ],
      "metadata": {
        "id": "Ei2jnchXQQ-3"
      }
    },
    {
      "cell_type": "code",
      "source": [
        "# 设置OpenAI KEY环境变量\n",
        "import os\n",
        "import getpass\n",
        "os.environ['OPENAI_API_KEY'] = getpass.getpass('OpenAI API Key:')"
      ],
      "metadata": {
        "id": "58E5l752Rfe_",
        "colab": {
          "base_uri": "https://localhost:8080/"
        },
        "outputId": "05eb6faf-1b8e-4e0f-f585-1c1cf79d95e5"
      },
      "execution_count": 11,
      "outputs": [
        {
          "name": "stdout",
          "output_type": "stream",
          "text": [
            "OpenAI API Key:··········\n"
          ]
        }
      ]
    },
    {
      "cell_type": "code",
      "source": [
        "from typing import Type, Optional, List, Callable, Any\n",
        "\n",
        "from docmesh_agent.tools.base import BaseAgentTool\n",
        "from langchain.agents import create_tool_calling_agent, AgentExecutor\n",
        "from langchain_core.prompts import ChatPromptTemplate, MessagesPlaceholder\n",
        "from langchain.tools import tool\n",
        "from langchain_core.tools import BaseToolkit\n",
        "\n",
        "@tool\n",
        "def add(a: int, b: int) -> int:\n",
        "    \"\"\"Adds two numbers together\"\"\"\n",
        "    return a + b\n",
        "\n",
        "\n",
        "@tool\n",
        "def multipy(a: int, b: int) -> int:\n",
        "    \"\"\"Multiply two numbers\"\"\"\n",
        "    return a * b\n",
        "\n",
        "class MathToolkit(BaseToolkit):\n",
        "    def get_tools(self) -> list[BaseAgentTool]:\n",
        "        return [\n",
        "            add,\n",
        "            multipy\n",
        "        ]\n",
        "\n",
        "\n",
        "from langchain_openai import ChatOpenAI\n",
        "\n",
        "llm = ChatOpenAI(model=\"gpt-4o-2024-05-13\") # 这里的llm可以替换为国产大模型\n",
        "\n",
        "prompt = ChatPromptTemplate.from_messages(\n",
        "    [\n",
        "        (\"system\", \"\"\"\n",
        "          You are a mathematical assistant. Use your tools to answer questions.\n",
        "          If you do not have a tool to answer the question, say so.\n",
        "\n",
        "          Return only the answers. e.g\n",
        "          Human: What is 1 + 1?\n",
        "          You: 2\n",
        "          \"\"\"),\n",
        "        MessagesPlaceholder(\"chat_history\", optional=True),\n",
        "        (\"human\", \"{input}\"),\n",
        "        MessagesPlaceholder(\"agent_scratchpad\"),\n",
        "    ]\n",
        ")\n",
        "\n",
        "tools = [\n",
        "    *MathToolkit().get_tools()\n",
        "]\n",
        "agent = create_tool_calling_agent(llm, tools, prompt)\n",
        "\n",
        "agent_executor = AgentExecutor(agent=agent, tools=tools, verbose=True)\n",
        "\n",
        "result = agent_executor.invoke({\"input\": \"what is (1 + 3) * 6\"})\n",
        "\n",
        "print(result)"
      ],
      "metadata": {
        "id": "aqH9V6opPKE1",
        "colab": {
          "base_uri": "https://localhost:8080/"
        },
        "outputId": "34874ee8-166f-49d2-8953-316c84d3c6f4"
      },
      "execution_count": 12,
      "outputs": [
        {
          "output_type": "stream",
          "name": "stdout",
          "text": [
            "\n",
            "\n",
            "\u001b[1m> Entering new AgentExecutor chain...\u001b[0m\n",
            "\u001b[32;1m\u001b[1;3m\n",
            "Invoking: `add` with `{'a': 1, 'b': 3}`\n",
            "\n",
            "\n",
            "\u001b[0m\u001b[36;1m\u001b[1;3m4\u001b[0m\u001b[32;1m\u001b[1;3m\n",
            "Invoking: `multipy` with `{'a': 4, 'b': 6}`\n",
            "\n",
            "\n",
            "\u001b[0m\u001b[33;1m\u001b[1;3m24\u001b[0m\u001b[32;1m\u001b[1;3m24\u001b[0m\n",
            "\n",
            "\u001b[1m> Finished chain.\u001b[0m\n",
            "{'input': 'what\\xa0is\\xa0(1\\xa0+\\xa03)\\xa0*\\xa06', 'output': '24'}\n"
          ]
        }
      ]
    }
  ]
}