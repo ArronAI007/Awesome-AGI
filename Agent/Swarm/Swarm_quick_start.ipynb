{
  "nbformat": 4,
  "nbformat_minor": 0,
  "metadata": {
    "colab": {
      "provenance": [],
      "gpuType": "T4"
    },
    "kernelspec": {
      "name": "python3",
      "display_name": "Python 3"
    },
    "language_info": {
      "name": "python"
    },
    "accelerator": "GPU"
  },
  "cells": [
    {
      "cell_type": "markdown",
      "source": [
        "1.Git clone the repo (Python 3.10)"
      ],
      "metadata": {
        "id": "UkehU2vCvoy0"
      }
    },
    {
      "cell_type": "code",
      "source": [
        "pip install git+ssh://git@github.com/openai/swarm.git"
      ],
      "metadata": {
        "id": "mU181VMPvpGw"
      },
      "execution_count": null,
      "outputs": []
    },
    {
      "cell_type": "markdown",
      "source": [
        "2. Set your OpenAI API (right now it just supports OpenAI API)"
      ],
      "metadata": {
        "id": "Sdo2NsB2vjsw"
      }
    },
    {
      "cell_type": "code",
      "source": [
        "import os\n",
        "os.environ['OPENAI_API_KEY'] =''"
      ],
      "metadata": {
        "id": "KNTVaVRhs7Xg"
      },
      "execution_count": null,
      "outputs": []
    },
    {
      "cell_type": "markdown",
      "source": [
        "3. Below is a basic example demonstrating handoff"
      ],
      "metadata": {
        "id": "rDqMDYenvxT6"
      }
    },
    {
      "cell_type": "code",
      "source": [
        "from swarm import Swarm, Agent\n",
        "\n",
        "client = Swarm()\n",
        "\n",
        "english_agent = Agent(\n",
        "    name=\"English Agent\",\n",
        "    instructions=\"You only speak English.\",\n",
        ")\n",
        "\n",
        "spanish_agent = Agent(\n",
        "    name=\"Spanish Agent\",\n",
        "    instructions=\"You only speak Spanish.\",\n",
        ")\n",
        "\n",
        "\n",
        "def transfer_to_spanish_agent():\n",
        "    \"\"\"Transfer spanish speaking users immediately.\"\"\"\n",
        "    return spanish_agent\n",
        "\n",
        "\n",
        "english_agent.functions.append(transfer_to_spanish_agent)\n",
        "\n",
        "messages = [{\"role\": \"user\", \"content\": \"Hola. ¿Como estás?\"}]\n",
        "response = client.run(agent=english_agent, messages=messages)\n",
        "\n",
        "print(response.messages[-1][\"content\"])"
      ],
      "metadata": {
        "id": "c9wBDunBs7Zw"
      },
      "execution_count": null,
      "outputs": []
    }
  ]
}