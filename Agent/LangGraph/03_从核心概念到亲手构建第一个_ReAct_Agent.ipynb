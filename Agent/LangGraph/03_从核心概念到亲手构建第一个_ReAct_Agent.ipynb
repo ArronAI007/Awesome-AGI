{
  "nbformat": 4,
  "nbformat_minor": 0,
  "metadata": {
    "colab": {
      "provenance": []
    },
    "kernelspec": {
      "name": "python3",
      "display_name": "Python 3"
    },
    "language_info": {
      "name": "python"
    }
  },
  "cells": [
    {
      "cell_type": "code",
      "execution_count": 1,
      "metadata": {
        "colab": {
          "base_uri": "https://localhost:8080/"
        },
        "id": "l3SLF8vULFFn",
        "outputId": "6a07b619-9714-4574-b9d8-f22e56a556a4"
      },
      "outputs": [
        {
          "output_type": "stream",
          "name": "stdout",
          "text": [
            "Requirement already satisfied: langgraph in /usr/local/lib/python3.12/dist-packages (1.0.1)\n",
            "Requirement already satisfied: langchain in /usr/local/lib/python3.12/dist-packages (0.3.27)\n",
            "Requirement already satisfied: langchain-openai in /usr/local/lib/python3.12/dist-packages (0.3.35)\n",
            "Requirement already satisfied: langchain-community in /usr/local/lib/python3.12/dist-packages (0.3.31)\n",
            "Requirement already satisfied: openai in /usr/local/lib/python3.12/dist-packages (1.109.1)\n",
            "Requirement already satisfied: grandalf in /usr/local/lib/python3.12/dist-packages (0.8)\n",
            "Requirement already satisfied: langchain-core>=0.1 in /usr/local/lib/python3.12/dist-packages (from langgraph) (0.3.79)\n",
            "Requirement already satisfied: langgraph-checkpoint<4.0.0,>=2.1.0 in /usr/local/lib/python3.12/dist-packages (from langgraph) (3.0.0)\n",
            "Requirement already satisfied: langgraph-prebuilt<1.1.0,>=1.0.0 in /usr/local/lib/python3.12/dist-packages (from langgraph) (1.0.1)\n",
            "Requirement already satisfied: langgraph-sdk<0.3.0,>=0.2.2 in /usr/local/lib/python3.12/dist-packages (from langgraph) (0.2.9)\n",
            "Requirement already satisfied: pydantic>=2.7.4 in /usr/local/lib/python3.12/dist-packages (from langgraph) (2.11.10)\n",
            "Requirement already satisfied: xxhash>=3.5.0 in /usr/local/lib/python3.12/dist-packages (from langgraph) (3.6.0)\n",
            "Requirement already satisfied: langchain-text-splitters<1.0.0,>=0.3.9 in /usr/local/lib/python3.12/dist-packages (from langchain) (0.3.11)\n",
            "Requirement already satisfied: langsmith>=0.1.17 in /usr/local/lib/python3.12/dist-packages (from langchain) (0.4.37)\n",
            "Requirement already satisfied: SQLAlchemy<3,>=1.4 in /usr/local/lib/python3.12/dist-packages (from langchain) (2.0.44)\n",
            "Requirement already satisfied: requests<3,>=2 in /usr/local/lib/python3.12/dist-packages (from langchain) (2.32.5)\n",
            "Requirement already satisfied: PyYAML>=5.3 in /usr/local/lib/python3.12/dist-packages (from langchain) (6.0.3)\n",
            "Requirement already satisfied: tiktoken<1.0.0,>=0.7.0 in /usr/local/lib/python3.12/dist-packages (from langchain-openai) (0.12.0)\n",
            "Requirement already satisfied: aiohttp<4.0.0,>=3.8.3 in /usr/local/lib/python3.12/dist-packages (from langchain-community) (3.13.1)\n",
            "Requirement already satisfied: tenacity!=8.4.0,<10.0.0,>=8.1.0 in /usr/local/lib/python3.12/dist-packages (from langchain-community) (8.5.0)\n",
            "Requirement already satisfied: dataclasses-json<0.7.0,>=0.6.7 in /usr/local/lib/python3.12/dist-packages (from langchain-community) (0.6.7)\n",
            "Requirement already satisfied: pydantic-settings<3.0.0,>=2.10.1 in /usr/local/lib/python3.12/dist-packages (from langchain-community) (2.11.0)\n",
            "Requirement already satisfied: httpx-sse<1.0.0,>=0.4.0 in /usr/local/lib/python3.12/dist-packages (from langchain-community) (0.4.3)\n",
            "Requirement already satisfied: numpy>=1.26.2 in /usr/local/lib/python3.12/dist-packages (from langchain-community) (2.0.2)\n",
            "Requirement already satisfied: anyio<5,>=3.5.0 in /usr/local/lib/python3.12/dist-packages (from openai) (4.11.0)\n",
            "Requirement already satisfied: distro<2,>=1.7.0 in /usr/local/lib/python3.12/dist-packages (from openai) (1.9.0)\n",
            "Requirement already satisfied: httpx<1,>=0.23.0 in /usr/local/lib/python3.12/dist-packages (from openai) (0.28.1)\n",
            "Requirement already satisfied: jiter<1,>=0.4.0 in /usr/local/lib/python3.12/dist-packages (from openai) (0.11.1)\n",
            "Requirement already satisfied: sniffio in /usr/local/lib/python3.12/dist-packages (from openai) (1.3.1)\n",
            "Requirement already satisfied: tqdm>4 in /usr/local/lib/python3.12/dist-packages (from openai) (4.67.1)\n",
            "Requirement already satisfied: typing-extensions<5,>=4.11 in /usr/local/lib/python3.12/dist-packages (from openai) (4.15.0)\n",
            "Requirement already satisfied: pyparsing in /usr/local/lib/python3.12/dist-packages (from grandalf) (3.2.5)\n",
            "Requirement already satisfied: aiohappyeyeballs>=2.5.0 in /usr/local/lib/python3.12/dist-packages (from aiohttp<4.0.0,>=3.8.3->langchain-community) (2.6.1)\n",
            "Requirement already satisfied: aiosignal>=1.4.0 in /usr/local/lib/python3.12/dist-packages (from aiohttp<4.0.0,>=3.8.3->langchain-community) (1.4.0)\n",
            "Requirement already satisfied: attrs>=17.3.0 in /usr/local/lib/python3.12/dist-packages (from aiohttp<4.0.0,>=3.8.3->langchain-community) (25.4.0)\n",
            "Requirement already satisfied: frozenlist>=1.1.1 in /usr/local/lib/python3.12/dist-packages (from aiohttp<4.0.0,>=3.8.3->langchain-community) (1.8.0)\n",
            "Requirement already satisfied: multidict<7.0,>=4.5 in /usr/local/lib/python3.12/dist-packages (from aiohttp<4.0.0,>=3.8.3->langchain-community) (6.7.0)\n",
            "Requirement already satisfied: propcache>=0.2.0 in /usr/local/lib/python3.12/dist-packages (from aiohttp<4.0.0,>=3.8.3->langchain-community) (0.4.1)\n",
            "Requirement already satisfied: yarl<2.0,>=1.17.0 in /usr/local/lib/python3.12/dist-packages (from aiohttp<4.0.0,>=3.8.3->langchain-community) (1.22.0)\n",
            "Requirement already satisfied: idna>=2.8 in /usr/local/lib/python3.12/dist-packages (from anyio<5,>=3.5.0->openai) (3.11)\n",
            "Requirement already satisfied: marshmallow<4.0.0,>=3.18.0 in /usr/local/lib/python3.12/dist-packages (from dataclasses-json<0.7.0,>=0.6.7->langchain-community) (3.26.1)\n",
            "Requirement already satisfied: typing-inspect<1,>=0.4.0 in /usr/local/lib/python3.12/dist-packages (from dataclasses-json<0.7.0,>=0.6.7->langchain-community) (0.9.0)\n",
            "Requirement already satisfied: certifi in /usr/local/lib/python3.12/dist-packages (from httpx<1,>=0.23.0->openai) (2025.10.5)\n",
            "Requirement already satisfied: httpcore==1.* in /usr/local/lib/python3.12/dist-packages (from httpx<1,>=0.23.0->openai) (1.0.9)\n",
            "Requirement already satisfied: h11>=0.16 in /usr/local/lib/python3.12/dist-packages (from httpcore==1.*->httpx<1,>=0.23.0->openai) (0.16.0)\n",
            "Requirement already satisfied: jsonpatch<2.0.0,>=1.33.0 in /usr/local/lib/python3.12/dist-packages (from langchain-core>=0.1->langgraph) (1.33)\n",
            "Requirement already satisfied: packaging<26.0.0,>=23.2.0 in /usr/local/lib/python3.12/dist-packages (from langchain-core>=0.1->langgraph) (25.0)\n",
            "Requirement already satisfied: ormsgpack>=1.10.0 in /usr/local/lib/python3.12/dist-packages (from langgraph-checkpoint<4.0.0,>=2.1.0->langgraph) (1.11.0)\n",
            "Requirement already satisfied: orjson>=3.10.1 in /usr/local/lib/python3.12/dist-packages (from langgraph-sdk<0.3.0,>=0.2.2->langgraph) (3.11.3)\n",
            "Requirement already satisfied: requests-toolbelt>=1.0.0 in /usr/local/lib/python3.12/dist-packages (from langsmith>=0.1.17->langchain) (1.0.0)\n",
            "Requirement already satisfied: zstandard>=0.23.0 in /usr/local/lib/python3.12/dist-packages (from langsmith>=0.1.17->langchain) (0.25.0)\n",
            "Requirement already satisfied: annotated-types>=0.6.0 in /usr/local/lib/python3.12/dist-packages (from pydantic>=2.7.4->langgraph) (0.7.0)\n",
            "Requirement already satisfied: pydantic-core==2.33.2 in /usr/local/lib/python3.12/dist-packages (from pydantic>=2.7.4->langgraph) (2.33.2)\n",
            "Requirement already satisfied: typing-inspection>=0.4.0 in /usr/local/lib/python3.12/dist-packages (from pydantic>=2.7.4->langgraph) (0.4.2)\n",
            "Requirement already satisfied: python-dotenv>=0.21.0 in /usr/local/lib/python3.12/dist-packages (from pydantic-settings<3.0.0,>=2.10.1->langchain-community) (1.1.1)\n",
            "Requirement already satisfied: charset_normalizer<4,>=2 in /usr/local/lib/python3.12/dist-packages (from requests<3,>=2->langchain) (3.4.4)\n",
            "Requirement already satisfied: urllib3<3,>=1.21.1 in /usr/local/lib/python3.12/dist-packages (from requests<3,>=2->langchain) (2.5.0)\n",
            "Requirement already satisfied: greenlet>=1 in /usr/local/lib/python3.12/dist-packages (from SQLAlchemy<3,>=1.4->langchain) (3.2.4)\n",
            "Requirement already satisfied: regex>=2022.1.18 in /usr/local/lib/python3.12/dist-packages (from tiktoken<1.0.0,>=0.7.0->langchain-openai) (2024.11.6)\n",
            "Requirement already satisfied: jsonpointer>=1.9 in /usr/local/lib/python3.12/dist-packages (from jsonpatch<2.0.0,>=1.33.0->langchain-core>=0.1->langgraph) (3.0.0)\n",
            "Requirement already satisfied: mypy-extensions>=0.3.0 in /usr/local/lib/python3.12/dist-packages (from typing-inspect<1,>=0.4.0->dataclasses-json<0.7.0,>=0.6.7->langchain-community) (1.1.0)\n"
          ]
        }
      ],
      "source": [
        "!pip install langgraph langchain langchain-openai langchain-community openai grandalf langchain_tavily"
      ]
    },
    {
      "cell_type": "code",
      "source": [
        "# 输入openai API Key\n",
        "import os\n",
        "import getpass\n",
        "\n",
        "os.environ['OPENAI_API_KEY'] = getpass.getpass('OpenAI API Key:')"
      ],
      "metadata": {
        "colab": {
          "base_uri": "https://localhost:8080/"
        },
        "id": "Ue07geN2LJUg",
        "outputId": "26c29471-6962-4bb0-f4af-9b55eb4bd9b8"
      },
      "execution_count": 2,
      "outputs": [
        {
          "name": "stdout",
          "output_type": "stream",
          "text": [
            "OpenAI API Key:··········\n"
          ]
        }
      ]
    },
    {
      "cell_type": "markdown",
      "source": [
        "# 第一部分：核心概念与基础工作流\n",
        "在深入构建 Agent 之前，我们必须先掌握 LangGraph 的基本构成和如何创建一个简单的工作流。\n",
        "## 1.1 核心概念：State, Node, Edge\n",
        "构建一个 LangGraph 应用，就像绘制一张流程图，离不开三个基本元素：\n",
        "- State (状态): 一个在图的整个执行过程中持续存在并被传递的数据对象。可以把它看作是整个工作流的“共享内存”，所有节点都通过它来交换信息。\n",
        "- Node (节点): 一个代表流程图中具体“步骤”的 Python 函数。它接收当前的状态作为输入，执行独立的任务，然后返回一个字典来更新状态。\n",
        "- Edge (边): 负责连接节点，定义了任务从一个节点流向另一个节点的路径。\n",
        "## 1.2 基础实践：构建一个线性的两步工作流\n",
        "我们将从一个包含“起草”和“审阅”两个步骤的报告生成应用开始。这个例子将帮助我们熟悉最核心的 API，而无需立即处理复杂的 Agent 逻辑。"
      ],
      "metadata": {
        "id": "faYW53u3ScSC"
      }
    },
    {
      "cell_type": "code",
      "source": [
        "from langchain_openai import ChatOpenAI\n",
        "from langgraph.graph import StateGraph,END\n",
        "from typing import TypedDict\n",
        "import os\n",
        "\n",
        "\n",
        "# 初始化 LLM\n",
        "# 建议将模型初始化放在代码的起始部分，以便复用\n",
        "llm =ChatOpenAI(\n",
        "    model_name=\"gpt-4o\",\n",
        "    temperature=0.7,\n",
        "    )\n",
        "\n",
        "# 1. 定义状态\n",
        "class ReportState(TypedDict):\n",
        "    topic: str\n",
        "    draft: str\n",
        "    report: str\n",
        "\n",
        "# 2. 定义节点函数\n",
        "def draft_node(state:ReportState)-> dict:\n",
        "    \"\"\"起草节点\"\"\"\n",
        "    print(\">>> 正在执行节点: draft_node\")\n",
        "    prompt = f\"以技术报告的格式，为主题 '{state['topic']}' 写一份500字左右的草稿。\"\n",
        "    draft = llm.invoke(prompt).content\n",
        "    return{\"draft\": draft}\n",
        "\n",
        "def review_node(state:ReportState)-> dict:\n",
        "    \"\"\"审阅节点\"\"\"\n",
        "    print(\">>> 正在执行节点: review_node\")\n",
        "    prompt = f\"你是一位资深编辑。请审阅以下报告草稿，修正语法、改进措辞。草稿：\\n\\n{state['draft']}\"\n",
        "    report = llm.invoke(prompt).content\n",
        "    return{\"report\": report}\n",
        "\n",
        "# 3. 组装图\n",
        "workflow =StateGraph(ReportState)\n",
        "workflow.add_node(\"drafter\", draft_node)\n",
        "workflow.add_node(\"reviewer\", review_node)\n",
        "workflow.set_entry_point(\"drafter\")\n",
        "workflow.add_edge(\"drafter\",\"reviewer\")\n",
        "workflow.add_edge(\"reviewer\",END)\n",
        "\n",
        "# 4. 编译并可视化\n",
        "linear_app = workflow.compile()\n",
        "print(\"线性工作流图结构:\")\n",
        "linear_app.get_graph().print_ascii()"
      ],
      "metadata": {
        "colab": {
          "base_uri": "https://localhost:8080/"
        },
        "id": "4PrtwhIULJXk",
        "outputId": "cf4871c2-323d-450a-ec47-231c860b732c"
      },
      "execution_count": 3,
      "outputs": [
        {
          "output_type": "stream",
          "name": "stdout",
          "text": [
            "线性工作流图结构:\n",
            "+-----------+  \n",
            "| __start__ |  \n",
            "+-----------+  \n",
            "      *        \n",
            "      *        \n",
            "      *        \n",
            " +---------+   \n",
            " | drafter |   \n",
            " +---------+   \n",
            "      *        \n",
            "      *        \n",
            "      *        \n",
            "+----------+   \n",
            "| reviewer |   \n",
            "+----------+   \n",
            "      *        \n",
            "      *        \n",
            "      *        \n",
            " +---------+   \n",
            " | __end__ |   \n",
            " +---------+   \n"
          ]
        }
      ]
    },
    {
      "cell_type": "markdown",
      "source": [
        "这个简单的线性图让我们掌握了 add_node 和 add_edge 的用法。现在，让我们进入更激动人心的部分。\n",
        "# 第二部分：构建真正的 Agent\n",
        "一个线性的工作流是不够的，真正的 Agent 需要具备决策和与外部交互的能力。\n",
        "## 2.1 Agent 的核心思想 (ReAct)\n",
        "一个智能体通常遵循 ReAct (Reason-Act) 的工作模式，这是一个循环过程：\n",
        "\n",
        "1.思考 (Reason): 基于当前任务分析并决定下一步策略（是直接回答还是调用工具）。\n",
        "\n",
        "2.行动 (Act): 执行策略，例如调用搜索引擎。\n",
        "\n",
        "3.观察 (Observe): 接收工具返回的结果，再次进入“思考”阶段。\n",
        "LangGraph 的图结构为实现这一循环提供了完美的框架。\n",
        "## 2.2 综合实践：两种方式构建工具 Agent\n",
        "我们将介绍两种方式来构建 Agent。对于标准场景，强烈推荐使用第一种 create_react_agent 的方式。\n",
        "\n",
        "方法一 ：使用 create_react_agent 简化流程\n",
        "\n",
        "LangGraph 提供了一个极其方便的高级函数 create_react_agent，它可以将所有繁琐的组装工作封装起来，让你用一行代码就得到一个功能完备的 ReAct Agent。"
      ],
      "metadata": {
        "id": "nrdx7R27TOKw"
      }
    },
    {
      "cell_type": "code",
      "source": [
        "os.environ['TAVILY_API_KEY'] = getpass.getpass('TAVILY_API_KEY:')"
      ],
      "metadata": {
        "colab": {
          "base_uri": "https://localhost:8080/"
        },
        "id": "V-d3yXsXOvD3",
        "outputId": "0b6a12a6-f569-44ee-a85d-8453c402c6ec"
      },
      "execution_count": 5,
      "outputs": [
        {
          "name": "stdout",
          "output_type": "stream",
          "text": [
            "TAVILY_API_KEY:··········\n"
          ]
        }
      ]
    },
    {
      "cell_type": "code",
      "source": [
        "from langchain_core.messages import HumanMessage\n",
        "from langchain_tavily import TavilySearch\n",
        "from langchain_tavily._utilities import TavilySearchAPIWrapper\n",
        "from langgraph.prebuilt import create_react_agent\n",
        "\n",
        "# 实例化工具\n",
        "search_tool =TavilySearch(\n",
        "    max_results=2,\n",
        "    api_wrapper=TavilySearchAPIWrapper(\n",
        "        tavily_api_key=os.environ.get(\"TAVILY_API_KEY\")\n",
        "    )\n",
        ")\n",
        "tools =[search_tool]\n",
        "\n",
        "# 2. 调用工厂函数，一键生成 Agent\n",
        "# 它会自动处理工具绑定\n",
        "app = create_react_agent(llm, tools)\n",
        "\n",
        "# 3. 直接使用\n",
        "inputs ={\"messages\":[HumanMessage(content=\"今天北京的天气怎么样？\")]}\n",
        "result = app.invoke(inputs)\n",
        "print(\"\\n--- 最终结果 ---\")\n",
        "print(result['messages'][-1].content)"
      ],
      "metadata": {
        "colab": {
          "base_uri": "https://localhost:8080/"
        },
        "id": "UfAHZYtoLJeu",
        "outputId": "24fdd6d2-f176-463c-9150-13c8f41112db"
      },
      "execution_count": 6,
      "outputs": [
        {
          "output_type": "stream",
          "name": "stderr",
          "text": [
            "/tmp/ipython-input-1715040339.py:17: LangGraphDeprecatedSinceV10: create_react_agent has been moved to `langchain.agents`. Please update your import to `from langchain.agents import create_agent`. Deprecated in LangGraph V1.0 to be removed in V2.0.\n",
            "  app = create_react_agent(llm, tools)\n"
          ]
        },
        {
          "output_type": "stream",
          "name": "stdout",
          "text": [
            "\n",
            "--- 最终结果 ---\n",
            "今天北京天气晴朗，风力较小，适合外出活动。最高气温为14℃，最低气温为2℃。昼夜温差较大，早晚气温较低，需要注意保暖。明天夜间可能会有小雨，能见度可能会下降，出行需要注意交通安全。[来源](https://news.bjd.com.cn/2025/10/27/11372932.shtml)\n"
          ]
        }
      ]
    },
    {
      "cell_type": "markdown",
      "source": [
        "create_react_agent 极大地提升了开发效率，是构建标准 Agent 的首选。\n",
        "## 方法二 ：手动构建以实现完全控制\n",
        "如果需要实现高度定制化的逻辑（比如增加一个人工审核节点），理解如何手动构建就至关重要了。\n",
        "### 1. 定义 Agent 状态与路由"
      ],
      "metadata": {
        "id": "lihifbeJUBzk"
      }
    },
    {
      "cell_type": "code",
      "source": [
        "from typing import Annotated\n",
        "from typing_extensions import TypedDict\n",
        "from langchain_core.messages import BaseMessage\n",
        "\n",
        "\n",
        "# 定义一个函数，用于将新消息追加到旧消息列表中\n",
        "def add_messages(left: list[BaseMessage], right: list[BaseMessage])-> list[BaseMessage]:\n",
        "    return left + right\n",
        "\n",
        "class AgentState(TypedDict):\n",
        "    # 使用 Annotated 指示 messages 字段应通过 add_messages 函数进行更新\n",
        "    messages:Annotated[list[BaseMessage], add_messages]\n",
        "\n",
        "def router(state:AgentState)-> str:\n",
        "    \"\"\"根据 Agent 的最新消息中是否包含工具调用请求，来决定下一步的走向。\"\"\"\n",
        "    print(\"--- 正在执行路由判断 ---\")\n",
        "    last_message = state['messages'][-1]\n",
        "\n",
        "    if hasattr(last_message,'tool_calls') and last_message.tool_calls:\n",
        "        print(\">>> 路由决策：调用工具\")\n",
        "        return \"tool_node\"\n",
        "    else:\n",
        "        print(\">>> 路由决策：直接结束\")\n",
        "        return\"END\""
      ],
      "metadata": {
        "id": "5ZYZre03LJsL"
      },
      "execution_count": 7,
      "outputs": []
    },
    {
      "cell_type": "markdown",
      "source": [
        "2. 定义节点并组装图"
      ],
      "metadata": {
        "id": "ktZSBfo9UN-l"
      }
    },
    {
      "cell_type": "code",
      "source": [
        "from langgraph.prebuilt import ToolNode\n",
        "\n",
        "\n",
        "# 将模型与工具绑定，生成一个能调用工具的新 \"executable\"\n",
        "agent_model = llm.bind_tools(tools)\n",
        "\n",
        "def agent_node(state:AgentState):\n",
        "    \"\"\"Agent 节点：负责调用模型进行“思考”\"\"\"\n",
        "    print(\"--- 正在执行节点: agent_node (思考) ---\")\n",
        "    response = agent_model.invoke(state['messages'])\n",
        "    return{\"messages\":[response]}\n",
        "\n",
        "tool_node =ToolNode(tools=[search_tool])\n",
        "\n",
        "# 手动组装图\n",
        "graph =StateGraph(AgentState)\n",
        "graph.add_node(\"agent_node\", agent_node)\n",
        "graph.add_node(\"tool_node\", tool_node)\n",
        "graph.set_entry_point(\"agent_node\")\n",
        "graph.add_conditional_edges(\n",
        "    \"agent_node\",\n",
        "    router,\n",
        "    {\"tool_node\":\"tool_node\",\"END\":END})\n",
        "graph.add_edge(\"tool_node\",\"agent_node\")\n",
        "agent_app_manual = graph.compile()\n",
        "\n",
        "# 可视化 Agent 的图结构\n",
        "print(\"\\n手动构建的 Agent 图结构:\")\n",
        "agent_app_manual.get_graph().print_ascii()"
      ],
      "metadata": {
        "colab": {
          "base_uri": "https://localhost:8080/"
        },
        "id": "ZKwdITrWLJwI",
        "outputId": "b39d3eff-8ca3-41d8-c342-eac21554d419"
      },
      "execution_count": 9,
      "outputs": [
        {
          "output_type": "stream",
          "name": "stdout",
          "text": [
            "\n",
            "手动构建的 Agent 图结构:\n",
            "          +-----------+             \n",
            "          | __start__ |             \n",
            "          +-----------+             \n",
            "                 *                  \n",
            "                 *                  \n",
            "                 *                  \n",
            "          +------------+            \n",
            "          | agent_node |            \n",
            "          +------------+            \n",
            "          ...         ...           \n",
            "         .               .          \n",
            "       ..                 ..        \n",
            "+---------+           +-----------+ \n",
            "| __end__ |           | tool_node | \n",
            "+---------+           +-----------+ \n"
          ]
        }
      ]
    },
    {
      "cell_type": "markdown",
      "source": [
        "3. 运行与测试"
      ],
      "metadata": {
        "id": "84h_t7pKUSq0"
      }
    },
    {
      "cell_type": "code",
      "source": [
        "print(\"\\n--- 手动构建 Agent 测试 ---\")\n",
        "\n",
        "# 测试 1: 需要调用工具的问题\n",
        "inputs_1 ={\"messages\":[HumanMessage(content=\"最新的 AI 领域新闻有哪些？\")]}\n",
        "result_1 = agent_app_manual.invoke(inputs_1)\n",
        "print(\"\\n--- 最终结果 1 ---\")\n",
        "print(result_1['messages'][-1].content)\n",
        "\n",
        "# 测试 2: 不需要调用工具的问题\n",
        "inputs_2 ={\"messages\":[HumanMessage(content=\"1加1等于多少\")]}\n",
        "result_2 = agent_app_manual.invoke(inputs_2)\n",
        "print(\"\\n--- 最终结果 2 ---\")\n",
        "print(result_2['messages'][-1].content)"
      ],
      "metadata": {
        "colab": {
          "base_uri": "https://localhost:8080/"
        },
        "id": "3W3V9tjDLJ1m",
        "outputId": "a84ee270-c0f5-414c-a922-aa3f50620ddb"
      },
      "execution_count": 10,
      "outputs": [
        {
          "output_type": "stream",
          "name": "stdout",
          "text": [
            "\n",
            "--- 手动构建 Agent 测试 ---\n",
            "--- 正在执行节点: agent_node (思考) ---\n",
            "--- 正在执行路由判断 ---\n",
            ">>> 路由决策：调用工具\n",
            "--- 正在执行节点: agent_node (思考) ---\n",
            "--- 正在执行路由判断 ---\n",
            ">>> 路由决策：直接结束\n",
            "\n",
            "--- 最终结果 1 ---\n",
            "这里是一些最新的AI领域新闻：\n",
            "\n",
            "1. [AI为农民提供新的工具来对抗高温、害虫和疾病](https://www.washingtonpost.com/video/technology/ai-gives-farmers-new-tools-to-fight-heat-pests-and-disease/2025/10/22/cc8d6d5d-0fdc-46a5-8b2f-735ada0a234a_video.html) - 华盛顿邮报报道，美国的研究团队正在通过AI来寻找减少疾病并提高农场产量的方法。\n",
            "\n",
            "2. [Cluely的Roy Lee利用有争议的营销手段推动AI初创公司](https://www.startupecosystem.ca/news/cluelys-roy-lee-utilizes-controversial-marketing-to-propel-ai-startup/) - Cluely的联合创始人兼CEO Roy Lee将在TechCrunch Disrupt 2025上展示他如何通过“愤怒引诱”方法帮助公司在竞争激烈的AI市场中脱颖而出。\n",
            "\n",
            "这些新闻展示了AI技术在农业以及市场营销方面的最新应用和发展。\n",
            "--- 正在执行节点: agent_node (思考) ---\n",
            "--- 正在执行路由判断 ---\n",
            ">>> 路由决策：直接结束\n",
            "\n",
            "--- 最终结果 2 ---\n",
            "1加1等于2。\n"
          ]
        }
      ]
    },
    {
      "cell_type": "markdown",
      "source": [
        "我们会发现，手动构建出的 agent_app_manual 和 create_react_agent 生成的 agent_app_prebuilt 功能上是完全一致的。手动构建给了我们更多的控制权，让我们可以在这个图的任何地方“添砖加瓦”。"
      ],
      "metadata": {
        "id": "SiPloIYQUXsz"
      }
    }
  ]
}